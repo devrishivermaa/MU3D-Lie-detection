{
 "cells": [
  {
   "cell_type": "markdown",
   "metadata": {},
   "source": [
    "Video to audio conversion"
   ]
  },
  {
   "cell_type": "code",
   "execution_count": 5,
   "metadata": {},
   "outputs": [
    {
     "name": "stdout",
     "output_type": "stream",
     "text": [
      "MoviePy - Writing audio in E:\\study material\\Karan ML\\voice\\Train_val_test Split\\val_audio\\BF001_1PT.mp3\n"
     ]
    },
    {
     "name": "stderr",
     "output_type": "stream",
     "text": [
      "                                                                   \r"
     ]
    },
    {
     "name": "stdout",
     "output_type": "stream",
     "text": [
      "MoviePy - Done.\n",
      "Converted BF001_1PT.wmv to BF001_1PT.mp3\n",
      "MoviePy - Writing audio in E:\\study material\\Karan ML\\voice\\Train_val_test Split\\val_audio\\BF001_2NL.mp3\n"
     ]
    },
    {
     "name": "stderr",
     "output_type": "stream",
     "text": [
      "                                                                    \r"
     ]
    },
    {
     "name": "stdout",
     "output_type": "stream",
     "text": [
      "MoviePy - Done.\n",
      "Converted BF001_2NL.wmv to BF001_2NL.mp3\n",
      "MoviePy - Writing audio in E:\\study material\\Karan ML\\voice\\Train_val_test Split\\val_audio\\BF003_1PT.mp3\n"
     ]
    },
    {
     "name": "stderr",
     "output_type": "stream",
     "text": [
      "                                                                    \r"
     ]
    },
    {
     "name": "stdout",
     "output_type": "stream",
     "text": [
      "MoviePy - Done.\n",
      "Converted BF003_1PT.wmv to BF003_1PT.mp3\n",
      "MoviePy - Writing audio in E:\\study material\\Karan ML\\voice\\Train_val_test Split\\val_audio\\BF003_2NL.mp3\n"
     ]
    },
    {
     "name": "stderr",
     "output_type": "stream",
     "text": [
      "                                                                    \r"
     ]
    },
    {
     "name": "stdout",
     "output_type": "stream",
     "text": [
      "MoviePy - Done.\n",
      "Converted BF003_2NL.wmv to BF003_2NL.mp3\n",
      "MoviePy - Writing audio in E:\\study material\\Karan ML\\voice\\Train_val_test Split\\val_audio\\BF008_3NT.mp3\n"
     ]
    },
    {
     "name": "stderr",
     "output_type": "stream",
     "text": [
      "                                                                   \r"
     ]
    },
    {
     "name": "stdout",
     "output_type": "stream",
     "text": [
      "MoviePy - Done.\n",
      "Converted BF008_3NT.wmv to BF008_3NT.mp3\n",
      "MoviePy - Writing audio in E:\\study material\\Karan ML\\voice\\Train_val_test Split\\val_audio\\BF008_4PL.mp3\n"
     ]
    },
    {
     "name": "stderr",
     "output_type": "stream",
     "text": [
      "                                                                   \r"
     ]
    },
    {
     "name": "stdout",
     "output_type": "stream",
     "text": [
      "MoviePy - Done.\n",
      "Converted BF008_4PL.wmv to BF008_4PL.mp3\n",
      "MoviePy - Writing audio in E:\\study material\\Karan ML\\voice\\Train_val_test Split\\val_audio\\BF013_3NT.mp3\n"
     ]
    },
    {
     "name": "stderr",
     "output_type": "stream",
     "text": [
      "                                                                   \r"
     ]
    },
    {
     "name": "stdout",
     "output_type": "stream",
     "text": [
      "MoviePy - Done.\n",
      "Converted BF013_3NT.wmv to BF013_3NT.mp3\n",
      "MoviePy - Writing audio in E:\\study material\\Karan ML\\voice\\Train_val_test Split\\val_audio\\BF013_4PL.mp3\n"
     ]
    },
    {
     "name": "stderr",
     "output_type": "stream",
     "text": [
      "                                                                   \r"
     ]
    },
    {
     "name": "stdout",
     "output_type": "stream",
     "text": [
      "MoviePy - Done.\n",
      "Converted BF013_4PL.wmv to BF013_4PL.mp3\n",
      "MoviePy - Writing audio in E:\\study material\\Karan ML\\voice\\Train_val_test Split\\val_audio\\BF014_1PT.mp3\n"
     ]
    },
    {
     "name": "stderr",
     "output_type": "stream",
     "text": [
      "                                                                   \r"
     ]
    },
    {
     "name": "stdout",
     "output_type": "stream",
     "text": [
      "MoviePy - Done.\n",
      "Converted BF014_1PT.wmv to BF014_1PT.mp3\n",
      "MoviePy - Writing audio in E:\\study material\\Karan ML\\voice\\Train_val_test Split\\val_audio\\BF014_2NL.mp3\n"
     ]
    },
    {
     "name": "stderr",
     "output_type": "stream",
     "text": [
      "                                                                   \r"
     ]
    },
    {
     "name": "stdout",
     "output_type": "stream",
     "text": [
      "MoviePy - Done.\n",
      "Converted BF014_2NL.wmv to BF014_2NL.mp3\n",
      "MoviePy - Writing audio in E:\\study material\\Karan ML\\voice\\Train_val_test Split\\val_audio\\BF020_3NT.mp3\n"
     ]
    },
    {
     "name": "stderr",
     "output_type": "stream",
     "text": [
      "                                                                   \r"
     ]
    },
    {
     "name": "stdout",
     "output_type": "stream",
     "text": [
      "MoviePy - Done.\n",
      "Converted BF020_3NT.wmv to BF020_3NT.mp3\n",
      "MoviePy - Writing audio in E:\\study material\\Karan ML\\voice\\Train_val_test Split\\val_audio\\BF020_4PL.mp3\n"
     ]
    },
    {
     "name": "stderr",
     "output_type": "stream",
     "text": [
      "                                                                   \r"
     ]
    },
    {
     "name": "stdout",
     "output_type": "stream",
     "text": [
      "MoviePy - Done.\n",
      "Converted BF020_4PL.wmv to BF020_4PL.mp3\n",
      "MoviePy - Writing audio in E:\\study material\\Karan ML\\voice\\Train_val_test Split\\val_audio\\BF022_1PT.mp3\n"
     ]
    },
    {
     "name": "stderr",
     "output_type": "stream",
     "text": [
      "                                                                   \r"
     ]
    },
    {
     "name": "stdout",
     "output_type": "stream",
     "text": [
      "MoviePy - Done.\n",
      "Converted BF022_1PT.wmv to BF022_1PT.mp3\n",
      "MoviePy - Writing audio in E:\\study material\\Karan ML\\voice\\Train_val_test Split\\val_audio\\BF022_2NL.mp3\n"
     ]
    },
    {
     "name": "stderr",
     "output_type": "stream",
     "text": [
      "                                                                    \r"
     ]
    },
    {
     "name": "stdout",
     "output_type": "stream",
     "text": [
      "MoviePy - Done.\n",
      "Converted BF022_2NL.wmv to BF022_2NL.mp3\n",
      "MoviePy - Writing audio in E:\\study material\\Karan ML\\voice\\Train_val_test Split\\val_audio\\BF028_1PT.mp3\n"
     ]
    },
    {
     "name": "stderr",
     "output_type": "stream",
     "text": [
      "                                                                    \r"
     ]
    },
    {
     "name": "stdout",
     "output_type": "stream",
     "text": [
      "MoviePy - Done.\n",
      "Converted BF028_1PT.wmv to BF028_1PT.mp3\n",
      "MoviePy - Writing audio in E:\\study material\\Karan ML\\voice\\Train_val_test Split\\val_audio\\BF028_2NL.mp3\n"
     ]
    },
    {
     "name": "stderr",
     "output_type": "stream",
     "text": [
      "                                                                   \r"
     ]
    },
    {
     "name": "stdout",
     "output_type": "stream",
     "text": [
      "MoviePy - Done.\n",
      "Converted BF028_2NL.wmv to BF028_2NL.mp3\n",
      "MoviePy - Writing audio in E:\\study material\\Karan ML\\voice\\Train_val_test Split\\val_audio\\BF028_3NT.mp3\n"
     ]
    },
    {
     "name": "stderr",
     "output_type": "stream",
     "text": [
      "                                                                   \r"
     ]
    },
    {
     "name": "stdout",
     "output_type": "stream",
     "text": [
      "MoviePy - Done.\n",
      "Converted BF028_3NT.wmv to BF028_3NT.mp3\n",
      "MoviePy - Writing audio in E:\\study material\\Karan ML\\voice\\Train_val_test Split\\val_audio\\BF028_4PL.mp3\n"
     ]
    },
    {
     "name": "stderr",
     "output_type": "stream",
     "text": [
      "                                                                   \r"
     ]
    },
    {
     "name": "stdout",
     "output_type": "stream",
     "text": [
      "MoviePy - Done.\n",
      "Converted BF028_4PL.wmv to BF028_4PL.mp3\n",
      "MoviePy - Writing audio in E:\\study material\\Karan ML\\voice\\Train_val_test Split\\val_audio\\BM003_3NT.mp3\n"
     ]
    },
    {
     "name": "stderr",
     "output_type": "stream",
     "text": [
      "                                                                    \r"
     ]
    },
    {
     "name": "stdout",
     "output_type": "stream",
     "text": [
      "MoviePy - Done.\n",
      "Converted BM003_3NT.wmv to BM003_3NT.mp3\n",
      "MoviePy - Writing audio in E:\\study material\\Karan ML\\voice\\Train_val_test Split\\val_audio\\BM003_4PL.mp3\n"
     ]
    },
    {
     "name": "stderr",
     "output_type": "stream",
     "text": [
      "                                                                    \r"
     ]
    },
    {
     "name": "stdout",
     "output_type": "stream",
     "text": [
      "MoviePy - Done.\n",
      "Converted BM003_4PL.wmv to BM003_4PL.mp3\n",
      "MoviePy - Writing audio in E:\\study material\\Karan ML\\voice\\Train_val_test Split\\val_audio\\BM006_1PT.mp3\n"
     ]
    },
    {
     "name": "stderr",
     "output_type": "stream",
     "text": [
      "                                                                   \r"
     ]
    },
    {
     "name": "stdout",
     "output_type": "stream",
     "text": [
      "MoviePy - Done.\n",
      "Converted BM006_1PT.wmv to BM006_1PT.mp3\n",
      "MoviePy - Writing audio in E:\\study material\\Karan ML\\voice\\Train_val_test Split\\val_audio\\BM006_2NL.mp3\n"
     ]
    },
    {
     "name": "stderr",
     "output_type": "stream",
     "text": [
      "                                                                    \r"
     ]
    },
    {
     "name": "stdout",
     "output_type": "stream",
     "text": [
      "MoviePy - Done.\n",
      "Converted BM006_2NL.wmv to BM006_2NL.mp3\n",
      "MoviePy - Writing audio in E:\\study material\\Karan ML\\voice\\Train_val_test Split\\val_audio\\BM008_1PT.mp3\n"
     ]
    },
    {
     "name": "stderr",
     "output_type": "stream",
     "text": [
      "                                                                    \r"
     ]
    },
    {
     "name": "stdout",
     "output_type": "stream",
     "text": [
      "MoviePy - Done.\n",
      "Converted BM008_1PT.wmv to BM008_1PT.mp3\n",
      "MoviePy - Writing audio in E:\\study material\\Karan ML\\voice\\Train_val_test Split\\val_audio\\BM008_2NL.mp3\n"
     ]
    },
    {
     "name": "stderr",
     "output_type": "stream",
     "text": [
      "                                                                    \r"
     ]
    },
    {
     "name": "stdout",
     "output_type": "stream",
     "text": [
      "MoviePy - Done.\n",
      "Converted BM008_2NL.wmv to BM008_2NL.mp3\n",
      "MoviePy - Writing audio in E:\\study material\\Karan ML\\voice\\Train_val_test Split\\val_audio\\BM009_3NT.mp3\n"
     ]
    },
    {
     "name": "stderr",
     "output_type": "stream",
     "text": [
      "                                                                    \r"
     ]
    },
    {
     "name": "stdout",
     "output_type": "stream",
     "text": [
      "MoviePy - Done.\n",
      "Converted BM009_3NT.wmv to BM009_3NT.mp3\n",
      "MoviePy - Writing audio in E:\\study material\\Karan ML\\voice\\Train_val_test Split\\val_audio\\BM009_4PL.mp3\n"
     ]
    },
    {
     "name": "stderr",
     "output_type": "stream",
     "text": [
      "                                                                    \r"
     ]
    },
    {
     "name": "stdout",
     "output_type": "stream",
     "text": [
      "MoviePy - Done.\n",
      "Converted BM009_4PL.wmv to BM009_4PL.mp3\n",
      "MoviePy - Writing audio in E:\\study material\\Karan ML\\voice\\Train_val_test Split\\val_audio\\BM013_1PT.mp3\n"
     ]
    },
    {
     "name": "stderr",
     "output_type": "stream",
     "text": [
      "                                                                    \r"
     ]
    },
    {
     "name": "stdout",
     "output_type": "stream",
     "text": [
      "MoviePy - Done.\n",
      "Converted BM013_1PT.wmv to BM013_1PT.mp3\n",
      "MoviePy - Writing audio in E:\\study material\\Karan ML\\voice\\Train_val_test Split\\val_audio\\BM013_2NL.mp3\n"
     ]
    },
    {
     "name": "stderr",
     "output_type": "stream",
     "text": [
      "                                                                   \r"
     ]
    },
    {
     "name": "stdout",
     "output_type": "stream",
     "text": [
      "MoviePy - Done.\n",
      "Converted BM013_2NL.wmv to BM013_2NL.mp3\n",
      "MoviePy - Writing audio in E:\\study material\\Karan ML\\voice\\Train_val_test Split\\val_audio\\BM014_1PT.mp3\n"
     ]
    },
    {
     "name": "stderr",
     "output_type": "stream",
     "text": [
      "                                                                    \r"
     ]
    },
    {
     "name": "stdout",
     "output_type": "stream",
     "text": [
      "MoviePy - Done.\n",
      "Converted BM014_1PT.wmv to BM014_1PT.mp3\n",
      "MoviePy - Writing audio in E:\\study material\\Karan ML\\voice\\Train_val_test Split\\val_audio\\BM014_2NL.mp3\n"
     ]
    },
    {
     "name": "stderr",
     "output_type": "stream",
     "text": [
      "                                                                    \r"
     ]
    },
    {
     "name": "stdout",
     "output_type": "stream",
     "text": [
      "MoviePy - Done.\n",
      "Converted BM014_2NL.wmv to BM014_2NL.mp3\n",
      "MoviePy - Writing audio in E:\\study material\\Karan ML\\voice\\Train_val_test Split\\val_audio\\BM016_1PT.mp3\n"
     ]
    },
    {
     "name": "stderr",
     "output_type": "stream",
     "text": [
      "                                                                    \r"
     ]
    },
    {
     "name": "stdout",
     "output_type": "stream",
     "text": [
      "MoviePy - Done.\n",
      "Converted BM016_1PT.wmv to BM016_1PT.mp3\n",
      "MoviePy - Writing audio in E:\\study material\\Karan ML\\voice\\Train_val_test Split\\val_audio\\BM018_3NT.mp3\n"
     ]
    },
    {
     "name": "stderr",
     "output_type": "stream",
     "text": [
      "                                                                   \r"
     ]
    },
    {
     "name": "stdout",
     "output_type": "stream",
     "text": [
      "MoviePy - Done.\n",
      "Converted BM018_3NT.wmv to BM018_3NT.mp3\n",
      "MoviePy - Writing audio in E:\\study material\\Karan ML\\voice\\Train_val_test Split\\val_audio\\BM018_4PL.mp3\n"
     ]
    },
    {
     "name": "stderr",
     "output_type": "stream",
     "text": [
      "                                                                   \r"
     ]
    },
    {
     "name": "stdout",
     "output_type": "stream",
     "text": [
      "MoviePy - Done.\n",
      "Converted BM018_4PL.wmv to BM018_4PL.mp3\n",
      "MoviePy - Writing audio in E:\\study material\\Karan ML\\voice\\Train_val_test Split\\val_audio\\BM020_1PT.mp3\n"
     ]
    },
    {
     "name": "stderr",
     "output_type": "stream",
     "text": [
      "                                                                     \r"
     ]
    },
    {
     "name": "stdout",
     "output_type": "stream",
     "text": [
      "MoviePy - Done.\n",
      "Converted BM020_1PT.wmv to BM020_1PT.mp3\n",
      "MoviePy - Writing audio in E:\\study material\\Karan ML\\voice\\Train_val_test Split\\val_audio\\BM020_2NL.mp3\n"
     ]
    },
    {
     "name": "stderr",
     "output_type": "stream",
     "text": [
      "                                                                    \r"
     ]
    },
    {
     "name": "stdout",
     "output_type": "stream",
     "text": [
      "MoviePy - Done.\n",
      "Converted BM020_2NL.wmv to BM020_2NL.mp3\n",
      "MoviePy - Writing audio in E:\\study material\\Karan ML\\voice\\Train_val_test Split\\val_audio\\WF002_1PT.mp3\n"
     ]
    },
    {
     "name": "stderr",
     "output_type": "stream",
     "text": [
      "                                                                    \r"
     ]
    },
    {
     "name": "stdout",
     "output_type": "stream",
     "text": [
      "MoviePy - Done.\n",
      "Converted WF002_1PT.wmv to WF002_1PT.mp3\n",
      "MoviePy - Writing audio in E:\\study material\\Karan ML\\voice\\Train_val_test Split\\val_audio\\WF002_2NL.mp3\n"
     ]
    },
    {
     "name": "stderr",
     "output_type": "stream",
     "text": [
      "                                                                    \r"
     ]
    },
    {
     "name": "stdout",
     "output_type": "stream",
     "text": [
      "MoviePy - Done.\n",
      "Converted WF002_2NL.wmv to WF002_2NL.mp3\n",
      "MoviePy - Writing audio in E:\\study material\\Karan ML\\voice\\Train_val_test Split\\val_audio\\WF006_1PT.mp3\n"
     ]
    },
    {
     "name": "stderr",
     "output_type": "stream",
     "text": [
      "                                                                   \r"
     ]
    },
    {
     "name": "stdout",
     "output_type": "stream",
     "text": [
      "MoviePy - Done.\n",
      "Converted WF006_1PT.wmv to WF006_1PT.mp3\n",
      "MoviePy - Writing audio in E:\\study material\\Karan ML\\voice\\Train_val_test Split\\val_audio\\WF006_2NL.mp3\n"
     ]
    },
    {
     "name": "stderr",
     "output_type": "stream",
     "text": [
      "                                                                   \r"
     ]
    },
    {
     "name": "stdout",
     "output_type": "stream",
     "text": [
      "MoviePy - Done.\n",
      "Converted WF006_2NL.wmv to WF006_2NL.mp3\n",
      "MoviePy - Writing audio in E:\\study material\\Karan ML\\voice\\Train_val_test Split\\val_audio\\WF006_3NT.mp3\n"
     ]
    },
    {
     "name": "stderr",
     "output_type": "stream",
     "text": [
      "                                                                   \r"
     ]
    },
    {
     "name": "stdout",
     "output_type": "stream",
     "text": [
      "MoviePy - Done.\n",
      "Converted WF006_3NT.wmv to WF006_3NT.mp3\n",
      "MoviePy - Writing audio in E:\\study material\\Karan ML\\voice\\Train_val_test Split\\val_audio\\WF006_4PL.mp3\n"
     ]
    },
    {
     "name": "stderr",
     "output_type": "stream",
     "text": [
      "                                                                   \r"
     ]
    },
    {
     "name": "stdout",
     "output_type": "stream",
     "text": [
      "MoviePy - Done.\n",
      "Converted WF006_4PL.wmv to WF006_4PL.mp3\n",
      "MoviePy - Writing audio in E:\\study material\\Karan ML\\voice\\Train_val_test Split\\val_audio\\WF012_1PT.mp3\n"
     ]
    },
    {
     "name": "stderr",
     "output_type": "stream",
     "text": [
      "                                                                   \r"
     ]
    },
    {
     "name": "stdout",
     "output_type": "stream",
     "text": [
      "MoviePy - Done.\n",
      "Converted WF012_1PT.wmv to WF012_1PT.mp3\n",
      "MoviePy - Writing audio in E:\\study material\\Karan ML\\voice\\Train_val_test Split\\val_audio\\WF012_2NL.mp3\n"
     ]
    },
    {
     "name": "stderr",
     "output_type": "stream",
     "text": [
      "                                                                   \r"
     ]
    },
    {
     "name": "stdout",
     "output_type": "stream",
     "text": [
      "MoviePy - Done.\n",
      "Converted WF012_2NL.wmv to WF012_2NL.mp3\n",
      "MoviePy - Writing audio in E:\\study material\\Karan ML\\voice\\Train_val_test Split\\val_audio\\WF016_1PT.mp3\n"
     ]
    },
    {
     "name": "stderr",
     "output_type": "stream",
     "text": [
      "                                                                   \r"
     ]
    },
    {
     "name": "stdout",
     "output_type": "stream",
     "text": [
      "MoviePy - Done.\n",
      "Converted WF016_1PT.wmv to WF016_1PT.mp3\n",
      "MoviePy - Writing audio in E:\\study material\\Karan ML\\voice\\Train_val_test Split\\val_audio\\WF016_2NL.mp3\n"
     ]
    },
    {
     "name": "stderr",
     "output_type": "stream",
     "text": [
      "                                                                   \r"
     ]
    },
    {
     "name": "stdout",
     "output_type": "stream",
     "text": [
      "MoviePy - Done.\n",
      "Converted WF016_2NL.wmv to WF016_2NL.mp3\n",
      "MoviePy - Writing audio in E:\\study material\\Karan ML\\voice\\Train_val_test Split\\val_audio\\WF016_3NT.mp3\n"
     ]
    },
    {
     "name": "stderr",
     "output_type": "stream",
     "text": [
      "                                                                   \r"
     ]
    },
    {
     "name": "stdout",
     "output_type": "stream",
     "text": [
      "MoviePy - Done.\n",
      "Converted WF016_3NT.wmv to WF016_3NT.mp3\n",
      "MoviePy - Writing audio in E:\\study material\\Karan ML\\voice\\Train_val_test Split\\val_audio\\WF016_4PL.mp3\n"
     ]
    },
    {
     "name": "stderr",
     "output_type": "stream",
     "text": [
      "                                                                   \r"
     ]
    },
    {
     "name": "stdout",
     "output_type": "stream",
     "text": [
      "MoviePy - Done.\n",
      "Converted WF016_4PL.wmv to WF016_4PL.mp3\n",
      "MoviePy - Writing audio in E:\\study material\\Karan ML\\voice\\Train_val_test Split\\val_audio\\WF019_3NT.mp3\n"
     ]
    },
    {
     "name": "stderr",
     "output_type": "stream",
     "text": [
      "                                                                   \r"
     ]
    },
    {
     "name": "stdout",
     "output_type": "stream",
     "text": [
      "MoviePy - Done.\n",
      "Converted WF019_3NT.wmv to WF019_3NT.mp3\n",
      "MoviePy - Writing audio in E:\\study material\\Karan ML\\voice\\Train_val_test Split\\val_audio\\WF019_4PL.mp3\n"
     ]
    },
    {
     "name": "stderr",
     "output_type": "stream",
     "text": [
      "                                                                   \r"
     ]
    },
    {
     "name": "stdout",
     "output_type": "stream",
     "text": [
      "MoviePy - Done.\n",
      "Converted WF019_4PL.wmv to WF019_4PL.mp3\n",
      "MoviePy - Writing audio in E:\\study material\\Karan ML\\voice\\Train_val_test Split\\val_audio\\WF025_1PT.mp3\n"
     ]
    },
    {
     "name": "stderr",
     "output_type": "stream",
     "text": [
      "                                                                   \r"
     ]
    },
    {
     "name": "stdout",
     "output_type": "stream",
     "text": [
      "MoviePy - Done.\n",
      "Converted WF025_1PT.wmv to WF025_1PT.mp3\n",
      "MoviePy - Writing audio in E:\\study material\\Karan ML\\voice\\Train_val_test Split\\val_audio\\WF025_4PL.mp3\n"
     ]
    },
    {
     "name": "stderr",
     "output_type": "stream",
     "text": [
      "                                                                   \r"
     ]
    },
    {
     "name": "stdout",
     "output_type": "stream",
     "text": [
      "MoviePy - Done.\n",
      "Converted WF025_4PL.wmv to WF025_4PL.mp3\n",
      "MoviePy - Writing audio in E:\\study material\\Karan ML\\voice\\Train_val_test Split\\val_audio\\WM001_1PT.mp3\n"
     ]
    },
    {
     "name": "stderr",
     "output_type": "stream",
     "text": [
      "                                                                    \r"
     ]
    },
    {
     "name": "stdout",
     "output_type": "stream",
     "text": [
      "MoviePy - Done.\n",
      "Converted WM001_1PT.wmv to WM001_1PT.mp3\n",
      "MoviePy - Writing audio in E:\\study material\\Karan ML\\voice\\Train_val_test Split\\val_audio\\WM001_4PL.mp3\n"
     ]
    },
    {
     "name": "stderr",
     "output_type": "stream",
     "text": [
      "                                                                   \r"
     ]
    },
    {
     "name": "stdout",
     "output_type": "stream",
     "text": [
      "MoviePy - Done.\n",
      "Converted WM001_4PL.wmv to WM001_4PL.mp3\n",
      "MoviePy - Writing audio in E:\\study material\\Karan ML\\voice\\Train_val_test Split\\val_audio\\WM002_1PT.mp3\n"
     ]
    },
    {
     "name": "stderr",
     "output_type": "stream",
     "text": [
      "                                                                   \r"
     ]
    },
    {
     "name": "stdout",
     "output_type": "stream",
     "text": [
      "MoviePy - Done.\n",
      "Converted WM002_1PT.wmv to WM002_1PT.mp3\n",
      "MoviePy - Writing audio in E:\\study material\\Karan ML\\voice\\Train_val_test Split\\val_audio\\WM002_4PL.mp3\n"
     ]
    },
    {
     "name": "stderr",
     "output_type": "stream",
     "text": [
      "                                                                    \r"
     ]
    },
    {
     "name": "stdout",
     "output_type": "stream",
     "text": [
      "MoviePy - Done.\n",
      "Converted WM002_4PL.wmv to WM002_4PL.mp3\n",
      "MoviePy - Writing audio in E:\\study material\\Karan ML\\voice\\Train_val_test Split\\val_audio\\WM005_3NT.mp3\n"
     ]
    },
    {
     "name": "stderr",
     "output_type": "stream",
     "text": [
      "                                                                    \r"
     ]
    },
    {
     "name": "stdout",
     "output_type": "stream",
     "text": [
      "MoviePy - Done.\n",
      "Converted WM005_3NT.wmv to WM005_3NT.mp3\n",
      "MoviePy - Writing audio in E:\\study material\\Karan ML\\voice\\Train_val_test Split\\val_audio\\WM008_2NL.mp3\n"
     ]
    },
    {
     "name": "stderr",
     "output_type": "stream",
     "text": [
      "                                                                   \r"
     ]
    },
    {
     "name": "stdout",
     "output_type": "stream",
     "text": [
      "MoviePy - Done.\n",
      "Converted WM008_2NL.wmv to WM008_2NL.mp3\n",
      "MoviePy - Writing audio in E:\\study material\\Karan ML\\voice\\Train_val_test Split\\val_audio\\WM009_1PT.mp3\n"
     ]
    },
    {
     "name": "stderr",
     "output_type": "stream",
     "text": [
      "                                                                    \r"
     ]
    },
    {
     "name": "stdout",
     "output_type": "stream",
     "text": [
      "MoviePy - Done.\n",
      "Converted WM009_1PT.wmv to WM009_1PT.mp3\n",
      "MoviePy - Writing audio in E:\\study material\\Karan ML\\voice\\Train_val_test Split\\val_audio\\WM009_2NL.mp3\n"
     ]
    },
    {
     "name": "stderr",
     "output_type": "stream",
     "text": [
      "                                                                   \r"
     ]
    },
    {
     "name": "stdout",
     "output_type": "stream",
     "text": [
      "MoviePy - Done.\n",
      "Converted WM009_2NL.wmv to WM009_2NL.mp3\n",
      "MoviePy - Writing audio in E:\\study material\\Karan ML\\voice\\Train_val_test Split\\val_audio\\WM017_4PL.mp3\n"
     ]
    },
    {
     "name": "stderr",
     "output_type": "stream",
     "text": [
      "                                                                    \r"
     ]
    },
    {
     "name": "stdout",
     "output_type": "stream",
     "text": [
      "MoviePy - Done.\n",
      "Converted WM017_4PL.wmv to WM017_4PL.mp3\n",
      "MoviePy - Writing audio in E:\\study material\\Karan ML\\voice\\Train_val_test Split\\val_audio\\WM018_1PT.mp3\n"
     ]
    },
    {
     "name": "stderr",
     "output_type": "stream",
     "text": [
      "                                                                    \r"
     ]
    },
    {
     "name": "stdout",
     "output_type": "stream",
     "text": [
      "MoviePy - Done.\n",
      "Converted WM018_1PT.wmv to WM018_1PT.mp3\n",
      "MoviePy - Writing audio in E:\\study material\\Karan ML\\voice\\Train_val_test Split\\val_audio\\WM020_4PL.mp3\n"
     ]
    },
    {
     "name": "stderr",
     "output_type": "stream",
     "text": [
      "                                                                   \r"
     ]
    },
    {
     "name": "stdout",
     "output_type": "stream",
     "text": [
      "MoviePy - Done.\n",
      "Converted WM020_4PL.wmv to WM020_4PL.mp3\n",
      "MoviePy - Writing audio in E:\\study material\\Karan ML\\voice\\Train_val_test Split\\val_audio\\WM021_3NT.mp3\n"
     ]
    },
    {
     "name": "stderr",
     "output_type": "stream",
     "text": [
      "                                                                   \r"
     ]
    },
    {
     "name": "stdout",
     "output_type": "stream",
     "text": [
      "MoviePy - Done.\n",
      "Converted WM021_3NT.wmv to WM021_3NT.mp3\n",
      "MoviePy - Writing audio in E:\\study material\\Karan ML\\voice\\Train_val_test Split\\val_audio\\WM026_1PT.mp3\n"
     ]
    },
    {
     "name": "stderr",
     "output_type": "stream",
     "text": [
      "                                                                   \r"
     ]
    },
    {
     "name": "stdout",
     "output_type": "stream",
     "text": [
      "MoviePy - Done.\n",
      "Converted WM026_1PT.wmv to WM026_1PT.mp3\n",
      "MoviePy - Writing audio in E:\\study material\\Karan ML\\voice\\Train_val_test Split\\val_audio\\WM026_4PL.mp3\n"
     ]
    },
    {
     "name": "stderr",
     "output_type": "stream",
     "text": [
      "                                                                   "
     ]
    },
    {
     "name": "stdout",
     "output_type": "stream",
     "text": [
      "MoviePy - Done.\n",
      "Converted WM026_4PL.wmv to WM026_4PL.mp3\n"
     ]
    },
    {
     "name": "stderr",
     "output_type": "stream",
     "text": [
      "\r"
     ]
    }
   ],
   "source": [
    "import os\n",
    "from moviepy.editor import VideoFileClip\n",
    "\n",
    "def convert_videos_to_audio(input_folder, output_folder):\n",
    "    os.makedirs(output_folder, exist_ok=True)\n",
    "    video_files = [file for file in os.listdir(input_folder) if file.endswith('.wmv')]\n",
    "\n",
    "    for video_file in video_files:\n",
    "        video_path = os.path.join(input_folder, video_file)\n",
    "        audio_output_path = os.path.join(output_folder, f\"{os.path.splitext(video_file)[0]}.mp3\")\n",
    "        video = VideoFileClip(video_path)\n",
    "        audio = video.audio\n",
    "        audio.write_audiofile(audio_output_path)\n",
    "        print(f\"Converted {video_file} to {os.path.basename(audio_output_path)}\")\n",
    "\n",
    "input_video_folder = r'E:\\study material\\Karan ML\\voice\\val_25'  # Path to video folder\n",
    "output_audio_folder = r'E:\\study material\\Karan ML\\voice\\Train_val_test Split\\val_audio'  # Output audio folder\n",
    "\n",
    "convert_videos_to_audio(input_video_folder, output_audio_folder)"
   ]
  },
  {
   "cell_type": "code",
   "execution_count": null,
   "metadata": {},
   "outputs": [],
   "source": [
    "import os\n",
    "from moviepy.editor import VideoFileClip\n",
    "\n",
    "def convert_videos_to_audio(input_folder, output_folder):\n",
    "    os.makedirs(output_folder, exist_ok=True)\n",
    "\n",
    "    video_files = [file for file in os.listdir(input_folder) if file.endswith('.wmv')]\n",
    "\n",
    "    for video_file in video_files:\n",
    "        video_path = os.path.join(input_folder, video_file)\n",
    "        audio_output_path = os.path.join(output_folder, f\"{os.path.splitext(video_file)[0]}.mp3\")\n",
    "        video = VideoFileClip(video_path)\n",
    "        audio = video.audio\n",
    "        audio.write_audiofile(audio_output_path)\n",
    "        print(f\"Converted {video_file} to {os.path.basename(audio_output_path)}\")\n",
    "input_video_folder = r'E:\\study material\\Karan ML\\voice\\test_videos'  # Path to video folder\n",
    "output_audio_folder = r'E:\\study material\\Karan ML\\voice\\Train_val_test Split\\test_audio'  # Output audio folder\n",
    "\n",
    "convert_videos_to_audio(input_video_folder, output_audio_folder)"
   ]
  },
  {
   "cell_type": "markdown",
   "metadata": {},
   "source": [
    "Feature extraction using Librosa (MFCC)"
   ]
  },
  {
   "cell_type": "code",
   "execution_count": 8,
   "metadata": {},
   "outputs": [
    {
     "name": "stdout",
     "output_type": "stream",
     "text": [
      "Shape of features array: (64, 20, 100)\n"
     ]
    }
   ],
   "source": [
    "import os\n",
    "import numpy as np\n",
    "import librosa\n",
    "\n",
    "def extract_features(audio_file, max_length=100):\n",
    "    audio, sample_rate = librosa.load(audio_file)\n",
    "\n",
    "    mfccs = librosa.feature.mfcc(y=audio, sr=sample_rate)\n",
    "\n",
    "    if mfccs.shape[1] < max_length:\n",
    "        pad_width = max_length - mfccs.shape[1]\n",
    "        mfccs = np.pad(mfccs, pad_width=((0, 0), (0, pad_width)), mode='constant', constant_values=0)\n",
    "    elif mfccs.shape[1] > max_length:\n",
    "        mfccs = mfccs[:, :max_length]\n",
    "\n",
    "    return mfccs\n",
    "\n",
    "folder_path = r'E:\\study material\\Karan ML\\voice\\Train_val_test Split\\test_audio'\n",
    "\n",
    "all_features = []\n",
    "\n",
    "for root, dirs, files in os.walk(folder_path):\n",
    "    for file in files:\n",
    "        if file.endswith('.mp3'):  # Process only MP3 files\n",
    "            audio_file = os.path.join(root, file)\n",
    "            features = extract_features(audio_file, max_length=100) \n",
    "            all_features.append(features)\n",
    "\n",
    "all_features = np.array(all_features)\n",
    "\n",
    "np.save('test_features.npy', all_features)\n",
    "print(\"Shape of features array:\", all_features.shape)\n"
   ]
  },
  {
   "cell_type": "code",
   "execution_count": 9,
   "metadata": {},
   "outputs": [
    {
     "name": "stdout",
     "output_type": "stream",
     "text": [
      "[[[-6.8946252e+02 -6.8946252e+02 -6.8946252e+02 ... -6.0497815e+02\n",
      "   -6.0253894e+02 -6.0555988e+02]\n",
      "  [ 0.0000000e+00  0.0000000e+00  0.0000000e+00 ...  8.7111435e+01\n",
      "    8.9695023e+01  8.5522285e+01]\n",
      "  [ 0.0000000e+00  0.0000000e+00  0.0000000e+00 ...  3.5864319e+01\n",
      "    3.7131870e+01  3.5092411e+01]\n",
      "  ...\n",
      "  [ 0.0000000e+00  0.0000000e+00  0.0000000e+00 ... -2.0980325e+00\n",
      "   -4.0376978e+00 -2.4724102e+00]\n",
      "  [ 0.0000000e+00  0.0000000e+00  0.0000000e+00 ... -2.2516747e+00\n",
      "   -7.5679941e+00 -9.5752239e+00]\n",
      "  [ 0.0000000e+00  0.0000000e+00  0.0000000e+00 ... -8.9551077e+00\n",
      "   -1.2633659e+01 -1.3185595e+01]]\n",
      "\n",
      " [[-6.6558490e+02 -6.6558490e+02 -6.6558490e+02 ... -3.7772122e+02\n",
      "   -3.5852805e+02 -3.6810275e+02]\n",
      "  [ 0.0000000e+00  0.0000000e+00  0.0000000e+00 ...  1.6352011e+02\n",
      "    1.5586172e+02  1.4105621e+02]\n",
      "  [ 0.0000000e+00  0.0000000e+00  0.0000000e+00 ... -4.2270721e+01\n",
      "   -5.8490757e+01 -7.0769348e+01]\n",
      "  ...\n",
      "  [ 0.0000000e+00  0.0000000e+00  0.0000000e+00 ... -1.3136572e+01\n",
      "   -1.7225746e+01 -1.3973263e+01]\n",
      "  [ 0.0000000e+00  0.0000000e+00  0.0000000e+00 ... -3.5548382e+00\n",
      "   -4.8978071e+00 -6.7653098e+00]\n",
      "  [ 0.0000000e+00  0.0000000e+00  0.0000000e+00 ... -3.9175119e+00\n",
      "   -8.3624134e+00 -1.4068229e+01]]\n",
      "\n",
      " [[-7.1162787e+02 -7.1162787e+02 -7.1162787e+02 ... -4.5790848e+02\n",
      "   -4.1646799e+02 -3.7679614e+02]\n",
      "  [ 0.0000000e+00  0.0000000e+00  0.0000000e+00 ...  2.0612154e+02\n",
      "    2.0383534e+02  1.8064209e+02]\n",
      "  [ 0.0000000e+00  0.0000000e+00  0.0000000e+00 ...  2.4453487e+01\n",
      "    1.6530552e+01 -2.8743978e+00]\n",
      "  ...\n",
      "  [ 0.0000000e+00  0.0000000e+00  0.0000000e+00 ... -9.8502007e+00\n",
      "   -8.6392937e+00 -1.1760168e+01]\n",
      "  [ 0.0000000e+00  0.0000000e+00  0.0000000e+00 ... -1.3792933e+01\n",
      "   -1.9445038e+01 -2.2200144e+01]\n",
      "  [ 0.0000000e+00  0.0000000e+00  0.0000000e+00 ... -1.0422129e+01\n",
      "   -1.8097266e+00  6.1110892e+00]]\n",
      "\n",
      " ...\n",
      "\n",
      " [[-5.8913885e+02 -5.8913885e+02 -5.8913885e+02 ... -2.6720435e+02\n",
      "   -2.9665735e+02 -3.3753867e+02]\n",
      "  [ 0.0000000e+00  0.0000000e+00  0.0000000e+00 ...  1.0842574e+00\n",
      "   -2.6453770e+01 -2.0104013e+01]\n",
      "  [ 0.0000000e+00  0.0000000e+00  0.0000000e+00 ...  7.3426933e+01\n",
      "    9.1033722e+01  7.8997452e+01]\n",
      "  ...\n",
      "  [ 0.0000000e+00  0.0000000e+00  0.0000000e+00 ...  5.4857426e+00\n",
      "    7.0364532e+00  3.9100468e+00]\n",
      "  [ 0.0000000e+00  0.0000000e+00  0.0000000e+00 ...  8.3941898e+00\n",
      "    1.0077485e+01  6.5008202e+00]\n",
      "  [ 0.0000000e+00  0.0000000e+00  0.0000000e+00 ...  3.7951546e+00\n",
      "    1.6265606e+00 -1.4167997e+00]]\n",
      "\n",
      " [[-5.1690619e+02 -5.1690619e+02 -5.1690619e+02 ... -2.3272304e+02\n",
      "   -2.4423375e+02 -2.1523071e+02]\n",
      "  [ 0.0000000e+00  0.0000000e+00  0.0000000e+00 ... -1.1501939e+02\n",
      "   -1.1312588e+02 -4.6142841e+01]\n",
      "  [ 0.0000000e+00  0.0000000e+00  0.0000000e+00 ...  5.2409157e+01\n",
      "    5.1263748e+01  4.6881371e+01]\n",
      "  ...\n",
      "  [ 0.0000000e+00  0.0000000e+00  0.0000000e+00 ...  7.9744091e+00\n",
      "    5.3063755e+00  6.9263697e+00]\n",
      "  [ 0.0000000e+00  0.0000000e+00  0.0000000e+00 ...  3.7968850e+00\n",
      "    3.5309224e+00 -2.0636909e+00]\n",
      "  [ 0.0000000e+00  0.0000000e+00  0.0000000e+00 ...  5.4376844e-02\n",
      "   -3.6497438e+00 -1.2688038e+01]]\n",
      "\n",
      " [[-5.2167517e+02 -5.2167517e+02 -5.2167517e+02 ... -3.5792111e+02\n",
      "   -3.4313684e+02 -2.7698462e+02]\n",
      "  [ 0.0000000e+00  0.0000000e+00  0.0000000e+00 ...  1.5632520e+02\n",
      "    1.7654590e+02  1.8204291e+02]\n",
      "  [ 0.0000000e+00  0.0000000e+00  0.0000000e+00 ...  4.2821075e+01\n",
      "    5.2496475e+01  9.0519657e+00]\n",
      "  ...\n",
      "  [ 0.0000000e+00  0.0000000e+00  0.0000000e+00 ...  4.6843510e+00\n",
      "    4.0369568e+00 -6.2182136e+00]\n",
      "  [ 0.0000000e+00  0.0000000e+00  0.0000000e+00 ... -5.8615166e-01\n",
      "    2.0614874e+00  3.0213284e+00]\n",
      "  [ 0.0000000e+00  0.0000000e+00  0.0000000e+00 ... -5.6377993e+00\n",
      "    1.9093912e+00  9.7049928e-01]]]\n"
     ]
    }
   ],
   "source": [
    "import numpy as np\n",
    "\n",
    "# Load the numpy array from file\n",
    "features_array = np.load('test_features.npy')\n",
    "\n",
    "# Print the loaded array\n",
    "print(features_array)\n"
   ]
  },
  {
   "cell_type": "markdown",
   "metadata": {},
   "source": [
    "Storing feature in excel file"
   ]
  },
  {
   "cell_type": "code",
   "execution_count": 14,
   "metadata": {},
   "outputs": [],
   "source": [
    "# for excel file\n",
    "\n",
    "import os\n",
    "import numpy as np\n",
    "import pandas as pd\n",
    "import librosa\n",
    "\n",
    "def extract_features(audio_file, max_length=100):\n",
    "\n",
    "    audio, sample_rate = librosa.load(audio_file)\n",
    "\n",
    "    mfccs = librosa.feature.mfcc(y=audio, sr=sample_rate)\n",
    "\n",
    "    if mfccs.shape[1] < max_length:\n",
    "        pad_width = max_length - mfccs.shape[1]\n",
    "        mfccs = np.pad(mfccs, pad_width=((0, 0), (0, pad_width)), mode='constant', constant_values=0)\n",
    "    elif mfccs.shape[1] > max_length:\n",
    "        mfccs = mfccs[:, :max_length]\n",
    "\n",
    "    return mfccs\n",
    "\n",
    "folder_path = r'E:\\study material\\Karan ML\\voice\\Train_val_test Split\\train_audio'\n",
    "\n",
    "all_features = []\n",
    "all_labels = []\n",
    "\n",
    "for root, dirs, files in os.walk(folder_path):\n",
    "    for file in files:\n",
    "        if file.endswith('.mp3'):  # Process only MP3 files\n",
    "            audio_file = os.path.join(root, file)\n",
    "            label = os.path.basename(root)  # Get label from folder name\n",
    "            features = extract_features(audio_file, max_length=100)  # Adjust max_length as needed\n",
    "            all_features.append(features.flatten())  # Flatten features\n",
    "            all_labels.append(label)\n",
    "\n",
    "all_features = np.array(all_features)\n",
    "all_labels = np.array(all_labels)\n",
    "\n",
    "# Create a pandas DataFrame for features and labels\n",
    "df = pd.DataFrame(all_features)\n",
    "df['Label'] = all_labels\n",
    "\n",
    "# Save DataFrame to Excel file\n",
    "df.to_excel('audio_features.xlsx', index=False)\n"
   ]
  },
  {
   "cell_type": "markdown",
   "metadata": {},
   "source": [
    "Applying model "
   ]
  },
  {
   "cell_type": "markdown",
   "metadata": {},
   "source": [
    "SVM"
   ]
  },
  {
   "cell_type": "code",
   "execution_count": 60,
   "metadata": {},
   "outputs": [
    {
     "name": "stdout",
     "output_type": "stream",
     "text": [
      "SVM Accuracy: 0.546875\n",
      "Classification Report:\n",
      "              precision    recall  f1-score   support\n",
      "\n",
      "           0       0.55      0.53      0.54        32\n",
      "           1       0.55      0.56      0.55        32\n",
      "\n",
      "    accuracy                           0.55        64\n",
      "   macro avg       0.55      0.55      0.55        64\n",
      "weighted avg       0.55      0.55      0.55        64\n",
      "\n"
     ]
    }
   ],
   "source": [
    "import numpy as np\n",
    "import pandas as pd\n",
    "from sklearn.preprocessing import StandardScaler\n",
    "from sklearn.svm import SVC\n",
    "from sklearn.metrics import accuracy_score, classification_report\n",
    "\n",
    "train_label_file_path = r'E:\\study material\\Karan ML\\voice\\train_75.csv'\n",
    "train_label_data = pd.read_csv(train_label_file_path)\n",
    "\n",
    "test_label_file_path = r'E:\\study material\\Karan ML\\voice\\test_videos.csv'\n",
    "test_label_data = pd.read_csv(test_label_file_path)\n",
    "\n",
    "train_labels = train_label_data['Veracity'].values\n",
    "test_labels = test_label_data['Veracity'].values\n",
    "\n",
    "features = np.load(r'E:\\study material\\Karan ML\\voice\\train_features.npy')\n",
    "\n",
    "samples, time_steps, num_features = features.shape\n",
    "X_train = features.reshape(samples, -1)  \n",
    "scaler = StandardScaler()\n",
    "X_train_scaled = scaler.fit_transform(X_train)\n",
    "\n",
    "svm_clf = SVC(kernel='linear', random_state=42)\n",
    "\n",
    "svm_clf.fit(X_train_scaled, train_labels)\n",
    "\n",
    "X_test = np.load(r'E:\\study material\\Karan ML\\voice\\test_features.npy')\n",
    "X_test = X_test.reshape(X_test.shape[0], -1)  # Flatten to (samples, time_steps * num_features)\n",
    "X_test_scaled = scaler.transform(X_test)\n",
    "\n",
    "y_pred = svm_clf.predict(X_test_scaled)\n",
    "\n",
    "SVMaccuracy = accuracy_score(test_labels, y_pred)\n",
    "report = classification_report(test_labels, y_pred)\n",
    "\n",
    "print(\"SVM Accuracy:\", SVMaccuracy)\n",
    "print(\"Classification Report:\")\n",
    "print(report)\n"
   ]
  },
  {
   "cell_type": "markdown",
   "metadata": {},
   "source": [
    "Random Forest"
   ]
  },
  {
   "cell_type": "code",
   "execution_count": 17,
   "metadata": {},
   "outputs": [
    {
     "name": "stdout",
     "output_type": "stream",
     "text": [
      "Random Forest Accuracy: 0.59375\n",
      "Random Forest Classification Report:\n",
      "              precision    recall  f1-score   support\n",
      "\n",
      "           0       0.61      0.53      0.57        32\n",
      "           1       0.58      0.66      0.62        32\n",
      "\n",
      "    accuracy                           0.59        64\n",
      "   macro avg       0.60      0.59      0.59        64\n",
      "weighted avg       0.60      0.59      0.59        64\n",
      "\n"
     ]
    }
   ],
   "source": [
    "import numpy as np\n",
    "import pandas as pd\n",
    "from sklearn.preprocessing import StandardScaler\n",
    "from sklearn.ensemble import RandomForestClassifier\n",
    "from sklearn.metrics import accuracy_score, classification_report\n",
    "\n",
    "train_label_file_path = r'E:\\study material\\Karan ML\\voice\\train_75.csv'\n",
    "train_label_data = pd.read_csv(train_label_file_path)\n",
    "\n",
    "test_label_file_path = r'E:\\study material\\Karan ML\\voice\\test_videos.csv'\n",
    "test_label_data = pd.read_csv(test_label_file_path)\n",
    "\n",
    "train_labels = train_label_data['Veracity'].values\n",
    "test_labels = test_label_data['Veracity'].values\n",
    "\n",
    "features = np.load(r'E:\\study material\\Karan ML\\voice\\train_features.npy')\n",
    "\n",
    "samples, time_steps, num_features = features.shape\n",
    "X_train = features.reshape(samples, -1)  \n",
    "\n",
    "scaler = StandardScaler()\n",
    "X_train_scaled = scaler.fit_transform(X_train)\n",
    "\n",
    "rf_clf = RandomForestClassifier(n_estimators=100, random_state=42)\n",
    "\n",
    "rf_clf.fit(X_train_scaled, train_labels)\n",
    "\n",
    "test_features = np.load(r'E:\\study material\\Karan ML\\voice\\test_features.npy')\n",
    "X_test = test_features.reshape(test_features.shape[0], -1)\n",
    "X_test_scaled = scaler.transform(X_test)\n",
    "\n",
    "\n",
    "y_pred_rf = rf_clf.predict(X_test_scaled)\n",
    "\n",
    "accuracy_rf = accuracy_score(test_labels, y_pred_rf)\n",
    "report_rf = classification_report(test_labels, y_pred_rf)\n",
    "\n",
    "print(\"Random Forest Accuracy:\", accuracy_rf)\n",
    "print(\"Random Forest Classification Report:\")\n",
    "print(report_rf)\n"
   ]
  },
  {
   "cell_type": "markdown",
   "metadata": {},
   "source": [
    "Gradient Boosting Classifier, specifically the XGBoost algorithm"
   ]
  },
  {
   "cell_type": "code",
   "execution_count": 19,
   "metadata": {},
   "outputs": [
    {
     "name": "stdout",
     "output_type": "stream",
     "text": [
      "XGBoost Accuracy: 0.609375\n",
      "XGBoost Classification Report:\n",
      "              precision    recall  f1-score   support\n",
      "\n",
      "           0       0.63      0.53      0.58        32\n",
      "           1       0.59      0.69      0.64        32\n",
      "\n",
      "    accuracy                           0.61        64\n",
      "   macro avg       0.61      0.61      0.61        64\n",
      "weighted avg       0.61      0.61      0.61        64\n",
      "\n"
     ]
    }
   ],
   "source": [
    "import numpy as np\n",
    "import pandas as pd\n",
    "from sklearn.preprocessing import StandardScaler\n",
    "from xgboost import XGBClassifier\n",
    "from sklearn.metrics import accuracy_score, classification_report\n",
    "\n",
    "train_label_file_path = r'E:\\study material\\Karan ML\\voice\\train_75.csv'\n",
    "train_label_data = pd.read_csv(train_label_file_path)\n",
    "\n",
    "test_label_file_path = r'E:\\study material\\Karan ML\\voice\\test_videos.csv'\n",
    "test_label_data = pd.read_csv(test_label_file_path)\n",
    "\n",
    "train_labels = train_label_data['Veracity'].values\n",
    "test_labels = test_label_data['Veracity'].values\n",
    "\n",
    "features = np.load(r'E:\\study material\\Karan ML\\voice\\train_features.npy')\n",
    "\n",
    "samples, time_steps, num_features = features.shape\n",
    "X_train = features.reshape(samples, -1) \n",
    "\n",
    "\n",
    "scaler = StandardScaler()\n",
    "X_train_scaled = scaler.fit_transform(X_train)\n",
    "\n",
    "xgb_clf = XGBClassifier(n_estimators=100, random_state=42)\n",
    "\n",
    "xgb_clf.fit(X_train_scaled, train_labels)\n",
    "\n",
    "test_features = np.load(r'E:\\study material\\Karan ML\\voice\\test_features.npy')\n",
    "X_test = test_features.reshape(test_features.shape[0], -1) \n",
    "X_test_scaled = scaler.transform(X_test)\n",
    "\n",
    "\n",
    "y_pred_xgb = xgb_clf.predict(X_test_scaled)\n",
    "\n",
    "accuracy_xgb = accuracy_score(test_labels, y_pred_xgb)\n",
    "report_xgb = classification_report(test_labels, y_pred_xgb)\n",
    "\n",
    "print(\"XGBoost Accuracy:\", accuracy_xgb)\n",
    "print(\"XGBoost Classification Report:\")\n",
    "print(report_xgb)\n"
   ]
  },
  {
   "cell_type": "markdown",
   "metadata": {},
   "source": [
    "SVM with RBF Kernel Accuracy"
   ]
  },
  {
   "cell_type": "code",
   "execution_count": 27,
   "metadata": {},
   "outputs": [
    {
     "name": "stdout",
     "output_type": "stream",
     "text": [
      "SVM with RBF Kernel Accuracy: 0.640625\n",
      "SVM with RBF Kernel Classification Report:\n",
      "              precision    recall  f1-score   support\n",
      "\n",
      "           0       0.64      0.66      0.65        32\n",
      "           1       0.65      0.62      0.63        32\n",
      "\n",
      "    accuracy                           0.64        64\n",
      "   macro avg       0.64      0.64      0.64        64\n",
      "weighted avg       0.64      0.64      0.64        64\n",
      "\n"
     ]
    }
   ],
   "source": [
    "    import numpy as np\n",
    "    import pandas as pd\n",
    "    from sklearn.preprocessing import StandardScaler\n",
    "    from sklearn.svm import SVC\n",
    "    from sklearn.metrics import accuracy_score, classification_report\n",
    "\n",
    "    # Load the label file for training data\n",
    "    train_label_file_path = r'E:\\study material\\Karan ML\\voice\\train_75.csv'\n",
    "    train_label_data = pd.read_csv(train_label_file_path)\n",
    "\n",
    "    # Load the label file for test data\n",
    "    test_label_file_path = r'E:\\study material\\Karan ML\\voice\\test_videos.csv'\n",
    "    test_label_data = pd.read_csv(test_label_file_path)\n",
    "\n",
    "    # Assuming 'Veracity' column contains the labels (0 for truth, 1 for lie) in both files\n",
    "    train_labels = train_label_data['Veracity'].values\n",
    "    test_labels = test_label_data['Veracity'].values\n",
    "\n",
    "    # Load the pre-extracted features\n",
    "    features = np.load(r'E:\\study material\\Karan ML\\voice\\train_features.npy')\n",
    "\n",
    "    samples, time_steps, num_features = features.shape\n",
    "    X_train = features.reshape(samples, -1) \n",
    "    scaler = StandardScaler()\n",
    "    X_train_scaled = scaler.fit_transform(X_train)\n",
    "\n",
    "    # Create an SVM classifier with RBF kernel\n",
    "    svm_clf_rbf = SVC(kernel='rbf', random_state=42)\n",
    "\n",
    "    # Train the SVM model with RBF kernel\n",
    "    svm_clf_rbf.fit(X_train_scaled, train_labels)\n",
    "\n",
    "    # Prepare test features\n",
    "    test_features = np.load(r'E:\\study material\\Karan ML\\voice\\test_features.npy')\n",
    "    X_test = test_features.reshape(test_features.shape[0], -1)  # Flatten to (samples, time_steps * num_features)\n",
    "    X_test_scaled = scaler.transform(X_test)\n",
    "\n",
    "    # Make predictions on the test set\n",
    "    y_pred_svm_rbf = svm_clf_rbf.predict(X_test_scaled)\n",
    "\n",
    "    # Evaluate the SVM model with RBF kernel\n",
    "    accuracy_svm_rbf = accuracy_score(test_labels, y_pred_svm_rbf)\n",
    "    report_svm_rbf = classification_report(test_labels, y_pred_svm_rbf)\n",
    "\n",
    "    print(\"SVM with RBF Kernel Accuracy:\", accuracy_svm_rbf)\n",
    "    print(\"SVM with RBF Kernel Classification Report:\")\n",
    "    print(report_svm_rbf)\n"
   ]
  },
  {
   "cell_type": "markdown",
   "metadata": {},
   "source": [
    "KNN"
   ]
  },
  {
   "cell_type": "code",
   "execution_count": 23,
   "metadata": {},
   "outputs": [
    {
     "name": "stdout",
     "output_type": "stream",
     "text": [
      "KNN Accuracy: 0.546875\n",
      "KNN Classification Report:\n",
      "              precision    recall  f1-score   support\n",
      "\n",
      "           0       0.55      0.53      0.54        32\n",
      "           1       0.55      0.56      0.55        32\n",
      "\n",
      "    accuracy                           0.55        64\n",
      "   macro avg       0.55      0.55      0.55        64\n",
      "weighted avg       0.55      0.55      0.55        64\n",
      "\n"
     ]
    }
   ],
   "source": [
    "import numpy as np\n",
    "import pandas as pd\n",
    "from sklearn.preprocessing import StandardScaler\n",
    "from sklearn.neighbors import KNeighborsClassifier\n",
    "from sklearn.metrics import accuracy_score, classification_report\n",
    "\n",
    "# Load the label file for training data\n",
    "train_label_file_path = r'E:\\study material\\Karan ML\\voice\\train_75.csv'\n",
    "train_label_data = pd.read_csv(train_label_file_path)\n",
    "\n",
    "# Load the label file for test data\n",
    "test_label_file_path = r'E:\\study material\\Karan ML\\voice\\test_videos.csv'\n",
    "test_label_data = pd.read_csv(test_label_file_path)\n",
    "\n",
    "# Assuming 'Veracity' column contains the labels (0 for truth, 1 for lie) in both files\n",
    "train_labels = train_label_data['Veracity'].values\n",
    "test_labels = test_label_data['Veracity'].values\n",
    "\n",
    "# Load the pre-extracted features\n",
    "features = np.load(r'E:\\study material\\Karan ML\\voice\\train_features.npy')\n",
    "\n",
    "\n",
    "samples, time_steps, num_features = features.shape\n",
    "X_train = features.reshape(samples, -1) \n",
    "\n",
    "scaler = StandardScaler()\n",
    "X_train_scaled = scaler.fit_transform(X_train)\n",
    "\n",
    "knn_clf = KNeighborsClassifier(n_neighbors=5) \n",
    "\n",
    "knn_clf.fit(X_train_scaled, train_labels)\n",
    "\n",
    "# Prepare test features\n",
    "test_features = np.load(r'E:\\study material\\Karan ML\\voice\\test_features.npy')\n",
    "X_test = test_features.reshape(test_features.shape[0], -1) \n",
    "X_test_scaled = scaler.transform(X_test)\n",
    "\n",
    "# Make predictions on the test set\n",
    "y_pred_knn = knn_clf.predict(X_test_scaled)\n",
    "\n",
    "accuracy_knn = accuracy_score(test_labels, y_pred_knn)\n",
    "report_knn = classification_report(test_labels, y_pred_knn)\n",
    "\n",
    "print(\"KNN Accuracy:\", accuracy_knn)\n",
    "print(\"KNN Classification Report:\")\n",
    "print(report_knn)\n"
   ]
  },
  {
   "cell_type": "code",
   "execution_count": 40,
   "metadata": {},
   "outputs": [
    {
     "data": {
      "image/png": "[encoded data removed]",
      "text/plain": [
       "<Figure size 700x600 with 1 Axes>"
      ]
     },
     "metadata": {},
     "output_type": "display_data"
    }
   ],
   "source": [
    "import matplotlib.pyplot as plt\n",
    "\n",
    "\n",
    "models = ['SVM(Linear)', 'XGBoost Models','SVM(RBF)']\n",
    "accuracies = [ SVMaccuracy,accuracy_xgb,accuracy_svm_rbf]\n",
    "colors = ['skyblue', 'lightgreen', 'coral']\n",
    "\n",
    "\n",
    "plt.figure(figsize=(7, 6))\n",
    "bars = plt.bar(models, accuracies, color=colors)\n",
    "\n",
    "for bar in bars:\n",
    "    yval = bar.get_height()\n",
    "    plt.text(bar.get_x() + bar.get_width()/2, yval + 0.01, round(yval, 2), ha='center', va='bottom', fontsize=10)\n",
    "\n",
    "plt.xlabel('Models')\n",
    "plt.ylabel('Accuracy')\n",
    "plt.title('Comparison of Model Accuracies')\n",
    "plt.ylim(0.0, 1.0)  \n",
    "plt.xticks(rotation=45)\n",
    "plt.tight_layout()   \n",
    "\n",
    "\n",
    "legend_labels = [f'{model} ({round(acc, 2)})' for model, acc in zip(models, accuracies)]\n",
    "plt.legend(bars, legend_labels, loc='upper right')\n",
    "\n",
    "plt.grid(axis='y', linestyle='--')\n",
    "\n",
    "plt.show()"
   ]
  },
  {
   "cell_type": "code",
   "execution_count": 43,
   "metadata": {},
   "outputs": [
    {
     "data": {
      "image/png": "[encoded data removed]",
      "text/plain": [
       "<Figure size 800x600 with 1 Axes>"
      ]
     },
     "metadata": {},
     "output_type": "display_data"
    }
   ],
   "source": [
    "from sklearn.metrics import roc_auc_score, roc_curve\n",
    "import matplotlib.pyplot as plt\n",
    "\n",
    "# Calculate predicted probabilities for SVM with linear kernel\n",
    "svm_probs_linear = svm_clf.decision_function(X_test_scaled)\n",
    "svm_auc_linear = roc_auc_score(test_labels, svm_probs_linear)\n",
    "fpr_svm_linear, tpr_svm_linear, _ = roc_curve(test_labels, svm_probs_linear)\n",
    "\n",
    "# Calculate predicted probabilities for XGBoost\n",
    "xgb_probs = xgb_clf.predict_proba(X_test_scaled)[:, 1]\n",
    "xgb_auc = roc_auc_score(test_labels, xgb_probs)\n",
    "fpr_xgb, tpr_xgb, _ = roc_curve(test_labels, xgb_probs)\n",
    "\n",
    "# Calculate predicted probabilities for SVM with RBF kernel\n",
    "svm_probs_rbf = svm_clf_rbf.decision_function(X_test_scaled)\n",
    "svm_auc_rbf = roc_auc_score(test_labels, svm_probs_rbf)\n",
    "fpr_svm_rbf, tpr_svm_rbf, _ = roc_curve(test_labels, svm_probs_rbf)\n",
    "\n",
    "# Plot ROC curves for all models\n",
    "plt.figure(figsize=(8, 6))\n",
    "plt.plot(fpr_svm_linear, tpr_svm_linear, label=f'SVM (Linear Kernel) (AUC = {svm_auc_linear:.2f})')\n",
    "plt.plot(fpr_xgb, tpr_xgb, label=f'XGBoost (AUC = {xgb_auc:.2f})')\n",
    "plt.plot(fpr_svm_rbf, tpr_svm_rbf, label=f'SVM (RBF Kernel) (AUC = {svm_auc_rbf:.2f})')\n",
    "plt.plot([0, 1], [0, 1], color='gray', linestyle='--')\n",
    "plt.xlabel('False Positive Rate (FPR)')\n",
    "plt.ylabel('True Positive Rate (TPR)')\n",
    "plt.title('ROC Curves for SVM (Linear Kernel), XGBoost, and SVM (RBF Kernel)')\n",
    "plt.legend()\n",
    "plt.grid(True, linestyle='--', alpha=0.5)\n",
    "plt.show()\n"
   ]
  },
  {
   "cell_type": "code",
   "execution_count": 55,
   "metadata": {},
   "outputs": [
    {
     "data": {
      "image/png": "[encoded data removed]",
      "text/plain": [
       "<Figure size 600x400 with 1 Axes>"
      ]
     },
     "metadata": {},
     "output_type": "display_data"
    }
   ],
   "source": [
    "from sklearn.metrics import confusion_matrix\n",
    "import seaborn as sns\n",
    "import matplotlib.pyplot as plt\n",
    "\n",
    "# Compute confusion matrix\n",
    "conf_matrix = confusion_matrix(test_labels, y_pred)\n",
    "\n",
    "# Plot confusion matrix\n",
    "plt.figure(figsize=(6, 4))\n",
    "sns.heatmap(conf_matrix, annot=True, fmt='d', cmap='Blues', cbar=False)\n",
    "plt.xlabel('Predicted Labels')\n",
    "plt.ylabel('True Labels')\n",
    "plt.title('Confusion Matrix (SVM Linear)')\n",
    "plt.show()\n"
   ]
  },
  {
   "cell_type": "code",
   "execution_count": 57,
   "metadata": {},
   "outputs": [
    {
     "data": {
      "image/png": "[encoded data removed]",
      "text/plain": [
       "<Figure size 600x400 with 1 Axes>"
      ]
     },
     "metadata": {},
     "output_type": "display_data"
    }
   ],
   "source": [
    "from sklearn.metrics import confusion_matrix\n",
    "import seaborn as sns\n",
    "import matplotlib.pyplot as plt\n",
    "\n",
    "# Compute confusion matrix\n",
    "conf_matrix_svm_rbf = confusion_matrix(test_labels, y_pred_svm_rbf)\n",
    "\n",
    "# Plot confusion matrix\n",
    "plt.figure(figsize=(6, 4))\n",
    "sns.heatmap(conf_matrix_svm_rbf, annot=True, fmt='d', cmap='Blues', cbar=False)\n",
    "plt.xlabel('Predicted Labels')\n",
    "plt.ylabel('True Labels')\n",
    "plt.title('Confusion Matrix - SVM with RBF Kernel')\n",
    "plt.show()\n"
   ]
  },
  {
   "cell_type": "code",
   "execution_count": 59,
   "metadata": {},
   "outputs": [
    {
     "data": {
      "image/png": "[encoded data removed]",
      "text/plain": [
       "<Figure size 600x400 with 1 Axes>"
      ]
     },
     "metadata": {},
     "output_type": "display_data"
    }
   ],
   "source": [
    "from sklearn.metrics import confusion_matrix\n",
    "import seaborn as sns\n",
    "import matplotlib.pyplot as plt\n",
    "\n",
    "# Compute confusion matrix\n",
    "conf_matrix_xgb = confusion_matrix(test_labels, y_pred_xgb)\n",
    "\n",
    "# Plot confusion matrix\n",
    "plt.figure(figsize=(6,4))\n",
    "sns.heatmap(conf_matrix_xgb, annot=True, fmt='d', cmap='Blues', cbar=False)\n",
    "plt.xlabel('Predicted Labels')\n",
    "plt.ylabel('True Labels')\n",
    "plt.title('Confusion Matrix - XGBoost')\n",
    "plt.show()\n"
   ]
  },
  {
   "cell_type": "code",
   "execution_count": null,
   "metadata": {},
   "outputs": [],
   "source": []
  },
  {
   "cell_type": "code",
   "execution_count": null,
   "metadata": {},
   "outputs": [],
   "source": []
  },
  {
   "cell_type": "markdown",
   "metadata": {},
   "source": [
    "Jajoo"
   ]
  },
  {
   "cell_type": "markdown",
   "metadata": {},
   "source": [
    "POLYNOMIAL KERNEL IN SVM"
   ]
  },
  {
   "cell_type": "code",
   "execution_count": 49,
   "metadata": {},
   "outputs": [
    {
     "data": {
      "image/png": "[encoded data removed]",
      "text/plain": [
       "<Figure size 700x600 with 1 Axes>"
      ]
     },
     "metadata": {},
     "output_type": "display_data"
    }
   ],
   "source": [
    "import numpy as np\n",
    "import pandas as pd\n",
    "from sklearn.preprocessing import StandardScaler\n",
    "from sklearn.svm import SVC\n",
    "from sklearn.metrics import accuracy_score, classification_report\n",
    "from xgboost import XGBClassifier\n",
    "import matplotlib.pyplot as plt\n",
    "\n",
    "train_label_file_path = r'E:\\study material\\Karan ML\\voice\\train_75.csv'\n",
    "train_label_data = pd.read_csv(train_label_file_path)\n",
    "\n",
    "test_label_file_path = r'E:\\study material\\Karan ML\\voice\\test_videos.csv'\n",
    "test_label_data = pd.read_csv(test_label_file_path)\n",
    "\n",
    "train_labels = train_label_data['Veracity'].values\n",
    "test_labels = test_label_data['Veracity'].values\n",
    "\n",
    "features = np.load(r'E:\\study material\\Karan ML\\voice\\train_features.npy')\n",
    "\n",
    "samples, time_steps, num_features = features.shape\n",
    "X_train = features.reshape(samples, -1)  \n",
    "scaler = StandardScaler()\n",
    "X_train_scaled = scaler.fit_transform(X_train)\n",
    "\n",
    "svm_clf_linear = SVC(kernel='linear', random_state=42)\n",
    "\n",
    "svm_clf_linear.fit(X_train_scaled, train_labels)\n",
    "\n",
    "X_test = np.load(r'E:\\study material\\Karan ML\\voice\\test_features.npy')\n",
    "X_test_scaled = scaler.transform(X_test.reshape(X_test.shape[0], -1))\n",
    "\n",
    "y_pred_linear = svm_clf_linear.predict(X_test_scaled)\n",
    "accuracy_linear = accuracy_score(test_labels, y_pred_linear)\n",
    "\n",
    "xgb_clf = XGBClassifier(n_estimators=100, random_state=42)\n",
    "\n",
    "xgb_clf.fit(X_train_scaled, train_labels)\n",
    "\n",
    "y_pred_xgb = xgb_clf.predict(X_test_scaled)\n",
    "accuracy_xgb = accuracy_score(test_labels, y_pred_xgb)\n",
    "\n",
    "svm_clf_poly3 = SVC(kernel='poly', degree=3, random_state=42)\n",
    "\n",
    "svm_clf_poly3.fit(X_train_scaled, train_labels)\n",
    "\n",
    "y_pred_poly3 = svm_clf_poly3.predict(X_test_scaled)\n",
    "accuracy_poly3 = accuracy_score(test_labels, y_pred_poly3)\n",
    "\n",
    "models = ['SVM (Linear)', 'XGBoost', 'SVM (Poly degree 3)']\n",
    "accuracies = [accuracy_linear, accuracy_xgb, accuracy_poly3]\n",
    "colors = ['skyblue', 'lightgreen', 'coral']\n",
    "\n",
    "plt.figure(figsize=(7, 6))\n",
    "bars = plt.bar(models, accuracies, color=colors)\n",
    "\n",
    "for bar in bars:\n",
    "    yval = bar.get_height()\n",
    "    plt.text(bar.get_x() + bar.get_width()/2, yval + 0.01, round(yval, 2), ha='center', va='bottom', fontsize=10)\n",
    "\n",
    "plt.xlabel('Models')\n",
    "plt.ylabel('Accuracy')\n",
    "plt.title('Comparison of Model Accuracies')\n",
    "plt.ylim(0.0, 1.0)\n",
    "plt.xticks(rotation=45)\n",
    "plt.tight_layout()\n",
    "\n",
    "legend_labels = [f'{model} ({round(acc, 2)})' for model, acc in zip(models, accuracies)]\n",
    "plt.legend(bars, legend_labels, loc='upper right')\n",
    "\n",
    "plt.grid(axis='y', linestyle='--')\n",
    "\n",
    "plt.show()\n"
   ]
  },
  {
   "cell_type": "markdown",
   "metadata": {},
   "source": [
    "SIGMOID KERNEL IN SVM "
   ]
  },
  {
   "cell_type": "code",
   "execution_count": 47,
   "metadata": {},
   "outputs": [
    {
     "data": {
      "image/png": "[encoded data removed]",
      "text/plain": [
       "<Figure size 640x480 with 1 Axes>"
      ]
     },
     "metadata": {},
     "output_type": "display_data"
    }
   ],
   "source": [
    "import numpy as np\n",
    "import pandas as pd\n",
    "from sklearn.preprocessing import StandardScaler\n",
    "from sklearn.svm import SVC\n",
    "from sklearn.metrics import accuracy_score, classification_report\n",
    "from xgboost import XGBClassifier\n",
    "import matplotlib.pyplot as plt\n",
    "\n",
    "train_label_file_path = r'E:\\study material\\Karan ML\\voice\\train_75.csv'\n",
    "train_label_data = pd.read_csv(train_label_file_path)\n",
    "\n",
    "test_label_file_path = r'E:\\study material\\Karan ML\\voice\\test_videos.csv'\n",
    "test_label_data = pd.read_csv(test_label_file_path)\n",
    "\n",
    "train_labels = train_label_data['Veracity'].values\n",
    "test_labels = test_label_data['Veracity'].values\n",
    "\n",
    "features = np.load(r'E:\\study material\\Karan ML\\voice\\train_features.npy')\n",
    "\n",
    "samples, time_steps, num_features = features.shape\n",
    "X_train = features.reshape(samples, -1)  \n",
    "\n",
    "scaler = StandardScaler()\n",
    "X_train_scaled = scaler.fit_transform(X_train)\n",
    "\n",
    "\n",
    "svm_clf_linear = SVC(kernel='linear', random_state=42)\n",
    "\n",
    "svm_clf_linear.fit(X_train_scaled, train_labels)\n",
    "\n",
    "X_test = np.load(r'E:\\study material\\Karan ML\\voice\\test_features.npy')\n",
    "X_test_scaled = scaler.transform(X_test.reshape(X_test.shape[0], -1))\n",
    "\n",
    "y_pred_linear = svm_clf_linear.predict(X_test_scaled)\n",
    "accuracy_linear = accuracy_score(test_labels, y_pred_linear)\n",
    "\n",
    "xgb_clf = XGBClassifier(n_estimators=100, random_state=42)\n",
    "\n",
    "xgb_clf.fit(X_train_scaled, train_labels)\n",
    "\n",
    "y_pred_xgb = xgb_clf.predict(X_test_scaled)\n",
    "accuracy_xgb = accuracy_score(test_labels, y_pred_xgb)\n",
    "\n",
    "svm_clf_rbf = SVC(kernel='rbf', random_state=42)\n",
    "\n",
    "svm_clf_rbf.fit(X_train_scaled, train_labels)\n",
    "\n",
    "y_pred_rbf = svm_clf_rbf.predict(X_test_scaled)\n",
    "accuracy_rbf = accuracy_score(test_labels, y_pred_rbf)\n",
    "\n",
    "svm_clf_sigmoid = SVC(kernel='sigmoid', random_state=42)\n",
    "\n",
    "svm_clf_sigmoid.fit(X_train_scaled, train_labels)\n",
    "\n",
    "y_pred_sigmoid = svm_clf_sigmoid.predict(X_test_scaled)\n",
    "accuracy_sigmoid = accuracy_score(test_labels, y_pred_sigmoid)\n",
    "\n",
    "\n",
    "models = ['SVM (Linear)', 'XGBoost', 'SVM (RBF)', 'SVM (Sigmoid)']\n",
    "accuracies = [accuracy_linear, accuracy_xgb, accuracy_rbf, accuracy_sigmoid]\n",
    "\n",
    "plt.bar(models, accuracies, color=['blue', 'green', 'red', 'orange'])\n",
    "plt.xlabel('Models')\n",
    "plt.ylabel('Accuracy')\n",
    "plt.title('Accuracy Comparison of Different Models')\n",
    "plt.ylim(0, 1) \n",
    "plt.show()\n"
   ]
  },
  {
   "cell_type": "code",
   "execution_count": null,
   "metadata": {},
   "outputs": [],
   "source": []
  },
  {
   "cell_type": "markdown",
   "metadata": {},
   "source": [
    "CUSTOM KERNEL IN SVM\n"
   ]
  },
  {
   "cell_type": "code",
   "execution_count": 51,
   "metadata": {},
   "outputs": [
    {
     "data": {
      "image/png": "[encoded data removed]",
      "text/plain": [
       "<Figure size 640x480 with 1 Axes>"
      ]
     },
     "metadata": {},
     "output_type": "display_data"
    }
   ],
   "source": [
    "import numpy as np\n",
    "import pandas as pd\n",
    "from sklearn.preprocessing import StandardScaler\n",
    "from sklearn.svm import SVC\n",
    "from sklearn.metrics import accuracy_score\n",
    "import matplotlib.pyplot as plt\n",
    "\n",
    "def custom_kernel(X, Y):\n",
    "    return np.dot(X, Y.T)\n",
    "\n",
    "train_label_file_path = r'E:\\study material\\Karan ML\\voice\\train_75.csv'\n",
    "train_label_data = pd.read_csv(train_label_file_path)\n",
    "\n",
    "\n",
    "test_label_file_path = r'E:\\study material\\Karan ML\\voice\\test_videos.csv'\n",
    "test_label_data = pd.read_csv(test_label_file_path)\n",
    "\n",
    "\n",
    "train_labels = train_label_data['Veracity'].values\n",
    "test_labels = test_label_data['Veracity'].values\n",
    "\n",
    "features = np.load(r'E:\\study material\\Karan ML\\voice\\train_features.npy')\n",
    "\n",
    "samples, time_steps, num_features = features.shape\n",
    "X_train = features.reshape(samples, -1) \n",
    "\n",
    "scaler = StandardScaler()\n",
    "X_train_scaled = scaler.fit_transform(X_train)\n",
    "\n",
    "svm_clf_custom = SVC(kernel=custom_kernel)\n",
    "\n",
    "\n",
    "svm_clf_custom.fit(X_train_scaled, train_labels)\n",
    "\n",
    "X_test = np.load(r'E:\\study material\\Karan ML\\voice\\test_features.npy')\n",
    "X_test_scaled = scaler.transform(X_test.reshape(X_test.shape[0], -1))\n",
    "\n",
    "y_pred_custom = svm_clf_custom.predict(X_test_scaled)\n",
    "accuracy_custom = accuracy_score(test_labels, y_pred_custom)\n",
    "\n",
    "\n",
    "accuracy_linear = 0.85  \n",
    "accuracy_rbf = 0.81     \n",
    "accuracy_sigmoid = 0.79\n",
    "\n",
    "# Create a bar plot\n",
    "models = ['SVM (Linear)', 'SVM (RBF)', 'SVM (Sigmoid)', 'Custom Kernel SVM']\n",
    "accuracies = [accuracy_linear, accuracy_rbf, accuracy_sigmoid, accuracy_custom]\n",
    "\n",
    "plt.bar(models, accuracies, color=['blue', 'green', 'red', 'orange'])\n",
    "plt.xlabel('Models')\n",
    "plt.ylabel('Accuracy')\n",
    "plt.title('Accuracy Comparison of Different Models')\n",
    "plt.ylim(0, 1) \n",
    "plt.show()\n",
    "\n"
   ]
  }
 ],
 "metadata": {
  "kernelspec": {
   "display_name": "Python 3",
   "language": "python",
   "name": "python3"
  },
  "language_info": {
   "codemirror_mode": {
    "name": "ipython",
    "version": 3
   },
   "file_extension": ".py",
   "mimetype": "text/x-python",
   "name": "python",
   "nbconvert_exporter": "python",
   "pygments_lexer": "ipython3",
   "version": "3.11.0"
  }
 },
 "nbformat": 4,
 "nbformat_minor": 2
}
