{
 "cells": [
  {
   "cell_type": "code",
   "execution_count": 2,
   "metadata": {},
   "outputs": [
    {
     "name": "stdout",
     "output_type": "stream",
     "text": [
      "MoviePy - Writing audio in /home/mayur/Desktop/Machine Learning/ML Project (Lie Detection)/Facemesh/karan codes/Audio files/BF019_1PT.mp3\n"
     ]
    },
    {
     "name": "stderr",
     "output_type": "stream",
     "text": [
      "                                                                   \r"
     ]
    },
    {
     "name": "stdout",
     "output_type": "stream",
     "text": [
      "MoviePy - Done.\n",
      "Converted BF019_1PT.wmv to BF019_1PT.mp3\n",
      "MoviePy - Writing audio in /home/mayur/Desktop/Machine Learning/ML Project (Lie Detection)/Facemesh/karan codes/Audio files/BF015_3NT.mp3\n"
     ]
    },
    {
     "name": "stderr",
     "output_type": "stream",
     "text": [
      "                                                                   \r"
     ]
    },
    {
     "name": "stdout",
     "output_type": "stream",
     "text": [
      "MoviePy - Done.\n",
      "Converted BF015_3NT.wmv to BF015_3NT.mp3\n",
      "MoviePy - Writing audio in /home/mayur/Desktop/Machine Learning/ML Project (Lie Detection)/Facemesh/karan codes/Audio files/BF003_4PL.mp3\n"
     ]
    },
    {
     "name": "stderr",
     "output_type": "stream",
     "text": [
      "                                                                   \r"
     ]
    },
    {
     "name": "stdout",
     "output_type": "stream",
     "text": [
      "MoviePy - Done.\n",
      "Converted BF003_4PL.wmv to BF003_4PL.mp3\n",
      "MoviePy - Writing audio in /home/mayur/Desktop/Machine Learning/ML Project (Lie Detection)/Facemesh/karan codes/Audio files/BM017_3NT.mp3\n"
     ]
    },
    {
     "name": "stderr",
     "output_type": "stream",
     "text": [
      "                                                                   \r"
     ]
    },
    {
     "name": "stdout",
     "output_type": "stream",
     "text": [
      "MoviePy - Done.\n",
      "Converted BM017_3NT.wmv to BM017_3NT.mp3\n",
      "MoviePy - Writing audio in /home/mayur/Desktop/Machine Learning/ML Project (Lie Detection)/Facemesh/karan codes/Audio files/BM004_1PT.mp3\n"
     ]
    },
    {
     "name": "stderr",
     "output_type": "stream",
     "text": [
      "                                                                   \r"
     ]
    },
    {
     "name": "stdout",
     "output_type": "stream",
     "text": [
      "MoviePy - Done.\n",
      "Converted BM004_1PT.wmv to BM004_1PT.mp3\n",
      "MoviePy - Writing audio in /home/mayur/Desktop/Machine Learning/ML Project (Lie Detection)/Facemesh/karan codes/Audio files/WM001_2NL.mp3\n"
     ]
    },
    {
     "name": "stderr",
     "output_type": "stream",
     "text": [
      "                                                                   \r"
     ]
    },
    {
     "name": "stdout",
     "output_type": "stream",
     "text": [
      "MoviePy - Done.\n",
      "Converted WM001_2NL.wmv to WM001_2NL.mp3\n",
      "MoviePy - Writing audio in /home/mayur/Desktop/Machine Learning/ML Project (Lie Detection)/Facemesh/karan codes/Audio files/BM007_1PT.mp3\n"
     ]
    },
    {
     "name": "stderr",
     "output_type": "stream",
     "text": [
      "                                                                    \r"
     ]
    },
    {
     "name": "stdout",
     "output_type": "stream",
     "text": [
      "MoviePy - Done.\n",
      "Converted BM007_1PT.wmv to BM007_1PT.mp3\n",
      "MoviePy - Writing audio in /home/mayur/Desktop/Machine Learning/ML Project (Lie Detection)/Facemesh/karan codes/Audio files/WM021_3NT.mp3\n"
     ]
    },
    {
     "name": "stderr",
     "output_type": "stream",
     "text": [
      "                                                                   \r"
     ]
    },
    {
     "name": "stdout",
     "output_type": "stream",
     "text": [
      "MoviePy - Done.\n",
      "Converted WM021_3NT.wmv to WM021_3NT.mp3\n",
      "MoviePy - Writing audio in /home/mayur/Desktop/Machine Learning/ML Project (Lie Detection)/Facemesh/karan codes/Audio files/WF019_3NT.mp3\n"
     ]
    },
    {
     "name": "stderr",
     "output_type": "stream",
     "text": [
      "                                                                   \r"
     ]
    },
    {
     "name": "stdout",
     "output_type": "stream",
     "text": [
      "MoviePy - Done.\n",
      "Converted WF019_3NT.wmv to WF019_3NT.mp3\n",
      "MoviePy - Writing audio in /home/mayur/Desktop/Machine Learning/ML Project (Lie Detection)/Facemesh/karan codes/Audio files/WF002_3NT.mp3\n"
     ]
    },
    {
     "name": "stderr",
     "output_type": "stream",
     "text": [
      "                                                                   \r"
     ]
    },
    {
     "name": "stdout",
     "output_type": "stream",
     "text": [
      "MoviePy - Done.\n",
      "Converted WF002_3NT.wmv to WF002_3NT.mp3\n",
      "MoviePy - Writing audio in /home/mayur/Desktop/Machine Learning/ML Project (Lie Detection)/Facemesh/karan codes/Audio files/BM006_1PT.mp3\n"
     ]
    },
    {
     "name": "stderr",
     "output_type": "stream",
     "text": [
      "                                                                   \r"
     ]
    },
    {
     "name": "stdout",
     "output_type": "stream",
     "text": [
      "MoviePy - Done.\n",
      "Converted BM006_1PT.wmv to BM006_1PT.mp3\n",
      "MoviePy - Writing audio in /home/mayur/Desktop/Machine Learning/ML Project (Lie Detection)/Facemesh/karan codes/Audio files/WM006_2NL.mp3\n"
     ]
    },
    {
     "name": "stderr",
     "output_type": "stream",
     "text": [
      "                                                                   \r"
     ]
    },
    {
     "name": "stdout",
     "output_type": "stream",
     "text": [
      "MoviePy - Done.\n",
      "Converted WM006_2NL.wmv to WM006_2NL.mp3\n",
      "MoviePy - Writing audio in /home/mayur/Desktop/Machine Learning/ML Project (Lie Detection)/Facemesh/karan codes/Audio files/BF008_1PT.mp3\n"
     ]
    },
    {
     "name": "stderr",
     "output_type": "stream",
     "text": [
      "                                                                   \r"
     ]
    },
    {
     "name": "stdout",
     "output_type": "stream",
     "text": [
      "MoviePy - Done.\n",
      "Converted BF008_1PT.wmv to BF008_1PT.mp3\n",
      "MoviePy - Writing audio in /home/mayur/Desktop/Machine Learning/ML Project (Lie Detection)/Facemesh/karan codes/Audio files/WM024_4PL.mp3\n"
     ]
    },
    {
     "name": "stderr",
     "output_type": "stream",
     "text": [
      "                                                                   \r"
     ]
    },
    {
     "name": "stdout",
     "output_type": "stream",
     "text": [
      "MoviePy - Done.\n",
      "Converted WM024_4PL.wmv to WM024_4PL.mp3\n",
      "MoviePy - Writing audio in /home/mayur/Desktop/Machine Learning/ML Project (Lie Detection)/Facemesh/karan codes/Audio files/BM013_2NL.mp3\n"
     ]
    },
    {
     "name": "stderr",
     "output_type": "stream",
     "text": [
      "                                                                   \r"
     ]
    },
    {
     "name": "stdout",
     "output_type": "stream",
     "text": [
      "MoviePy - Done.\n",
      "Converted BM013_2NL.wmv to BM013_2NL.mp3\n",
      "MoviePy - Writing audio in /home/mayur/Desktop/Machine Learning/ML Project (Lie Detection)/Facemesh/karan codes/Audio files/BF018_1PT.mp3\n"
     ]
    },
    {
     "name": "stderr",
     "output_type": "stream",
     "text": [
      "                                                                   \r"
     ]
    },
    {
     "name": "stdout",
     "output_type": "stream",
     "text": [
      "MoviePy - Done.\n",
      "Converted BF018_1PT.wmv to BF018_1PT.mp3\n",
      "MoviePy - Writing audio in /home/mayur/Desktop/Machine Learning/ML Project (Lie Detection)/Facemesh/karan codes/Audio files/BF003_1PT.mp3\n"
     ]
    },
    {
     "name": "stderr",
     "output_type": "stream",
     "text": [
      "                                                                   \r"
     ]
    },
    {
     "name": "stdout",
     "output_type": "stream",
     "text": [
      "MoviePy - Done.\n",
      "Converted BF003_1PT.wmv to BF003_1PT.mp3\n",
      "MoviePy - Writing audio in /home/mayur/Desktop/Machine Learning/ML Project (Lie Detection)/Facemesh/karan codes/Audio files/WM005_4PL.mp3\n"
     ]
    },
    {
     "name": "stderr",
     "output_type": "stream",
     "text": [
      "                                                                   \r"
     ]
    },
    {
     "name": "stdout",
     "output_type": "stream",
     "text": [
      "MoviePy - Done.\n",
      "Converted WM005_4PL.wmv to WM005_4PL.mp3\n",
      "MoviePy - Writing audio in /home/mayur/Desktop/Machine Learning/ML Project (Lie Detection)/Facemesh/karan codes/Audio files/WF006_4PL.mp3\n"
     ]
    },
    {
     "name": "stderr",
     "output_type": "stream",
     "text": [
      "                                                                   \r"
     ]
    },
    {
     "name": "stdout",
     "output_type": "stream",
     "text": [
      "MoviePy - Done.\n",
      "Converted WF006_4PL.wmv to WF006_4PL.mp3\n",
      "MoviePy - Writing audio in /home/mayur/Desktop/Machine Learning/ML Project (Lie Detection)/Facemesh/karan codes/Audio files/BF022_3NT.mp3\n"
     ]
    },
    {
     "name": "stderr",
     "output_type": "stream",
     "text": [
      "                                                                   \r"
     ]
    },
    {
     "name": "stdout",
     "output_type": "stream",
     "text": [
      "MoviePy - Done.\n",
      "Converted BF022_3NT.wmv to BF022_3NT.mp3\n",
      "MoviePy - Writing audio in /home/mayur/Desktop/Machine Learning/ML Project (Lie Detection)/Facemesh/karan codes/Audio files/BF013_4PL.mp3\n"
     ]
    },
    {
     "name": "stderr",
     "output_type": "stream",
     "text": [
      "                                                                   \r"
     ]
    },
    {
     "name": "stdout",
     "output_type": "stream",
     "text": [
      "MoviePy - Done.\n",
      "Converted BF013_4PL.wmv to BF013_4PL.mp3\n",
      "MoviePy - Writing audio in /home/mayur/Desktop/Machine Learning/ML Project (Lie Detection)/Facemesh/karan codes/Audio files/BF001_3NT.mp3\n"
     ]
    },
    {
     "name": "stderr",
     "output_type": "stream",
     "text": [
      "                                                                   \r"
     ]
    },
    {
     "name": "stdout",
     "output_type": "stream",
     "text": [
      "MoviePy - Done.\n",
      "Converted BF001_3NT.wmv to BF001_3NT.mp3\n",
      "MoviePy - Writing audio in /home/mayur/Desktop/Machine Learning/ML Project (Lie Detection)/Facemesh/karan codes/Audio files/WM027_2NL.mp3\n"
     ]
    },
    {
     "name": "stderr",
     "output_type": "stream",
     "text": [
      "                                                                   \r"
     ]
    },
    {
     "name": "stdout",
     "output_type": "stream",
     "text": [
      "MoviePy - Done.\n",
      "Converted WM027_2NL.wmv to WM027_2NL.mp3\n",
      "MoviePy - Writing audio in /home/mayur/Desktop/Machine Learning/ML Project (Lie Detection)/Facemesh/karan codes/Audio files/BM016_3NT.mp3\n"
     ]
    },
    {
     "name": "stderr",
     "output_type": "stream",
     "text": [
      "                                                                   \r"
     ]
    },
    {
     "name": "stdout",
     "output_type": "stream",
     "text": [
      "MoviePy - Done.\n",
      "Converted BM016_3NT.wmv to BM016_3NT.mp3\n",
      "MoviePy - Writing audio in /home/mayur/Desktop/Machine Learning/ML Project (Lie Detection)/Facemesh/karan codes/Audio files/BM026_2NL.mp3\n"
     ]
    },
    {
     "name": "stderr",
     "output_type": "stream",
     "text": [
      "                                                                   \r"
     ]
    },
    {
     "name": "stdout",
     "output_type": "stream",
     "text": [
      "MoviePy - Done.\n",
      "Converted BM026_2NL.wmv to BM026_2NL.mp3\n",
      "MoviePy - Writing audio in /home/mayur/Desktop/Machine Learning/ML Project (Lie Detection)/Facemesh/karan codes/Audio files/WM013_4PL.mp3\n"
     ]
    },
    {
     "name": "stderr",
     "output_type": "stream",
     "text": [
      "                                                                   \r"
     ]
    },
    {
     "name": "stdout",
     "output_type": "stream",
     "text": [
      "MoviePy - Done.\n",
      "Converted WM013_4PL.wmv to WM013_4PL.mp3\n",
      "MoviePy - Writing audio in /home/mayur/Desktop/Machine Learning/ML Project (Lie Detection)/Facemesh/karan codes/Audio files/WM017_4PL.mp3\n"
     ]
    },
    {
     "name": "stderr",
     "output_type": "stream",
     "text": [
      "                                                                   \r"
     ]
    },
    {
     "name": "stdout",
     "output_type": "stream",
     "text": [
      "MoviePy - Done.\n",
      "Converted WM017_4PL.wmv to WM017_4PL.mp3\n",
      "MoviePy - Writing audio in /home/mayur/Desktop/Machine Learning/ML Project (Lie Detection)/Facemesh/karan codes/Audio files/WF022_2NL.mp3\n"
     ]
    },
    {
     "name": "stderr",
     "output_type": "stream",
     "text": [
      "                                                                   \r"
     ]
    },
    {
     "name": "stdout",
     "output_type": "stream",
     "text": [
      "MoviePy - Done.\n",
      "Converted WF022_2NL.wmv to WF022_2NL.mp3\n",
      "MoviePy - Writing audio in /home/mayur/Desktop/Machine Learning/ML Project (Lie Detection)/Facemesh/karan codes/Audio files/WM006_4PL.mp3\n"
     ]
    },
    {
     "name": "stderr",
     "output_type": "stream",
     "text": [
      "                                                                   \r"
     ]
    },
    {
     "name": "stdout",
     "output_type": "stream",
     "text": [
      "MoviePy - Done.\n",
      "Converted WM006_4PL.wmv to WM006_4PL.mp3\n",
      "MoviePy - Writing audio in /home/mayur/Desktop/Machine Learning/ML Project (Lie Detection)/Facemesh/karan codes/Audio files/WF016_2NL.mp3\n"
     ]
    },
    {
     "name": "stderr",
     "output_type": "stream",
     "text": [
      "                                                                   \r"
     ]
    },
    {
     "name": "stdout",
     "output_type": "stream",
     "text": [
      "MoviePy - Done.\n",
      "Converted WF016_2NL.wmv to WF016_2NL.mp3\n",
      "MoviePy - Writing audio in /home/mayur/Desktop/Machine Learning/ML Project (Lie Detection)/Facemesh/karan codes/Audio files/WM027_3NT.mp3\n"
     ]
    },
    {
     "name": "stderr",
     "output_type": "stream",
     "text": [
      "                                                                    \r"
     ]
    },
    {
     "name": "stdout",
     "output_type": "stream",
     "text": [
      "MoviePy - Done.\n",
      "Converted WM027_3NT.wmv to WM027_3NT.mp3\n",
      "MoviePy - Writing audio in /home/mayur/Desktop/Machine Learning/ML Project (Lie Detection)/Facemesh/karan codes/Audio files/BF027_2NL.mp3\n"
     ]
    },
    {
     "name": "stderr",
     "output_type": "stream",
     "text": [
      "                                                                   \r"
     ]
    },
    {
     "name": "stdout",
     "output_type": "stream",
     "text": [
      "MoviePy - Done.\n",
      "Converted BF027_2NL.wmv to BF027_2NL.mp3\n",
      "MoviePy - Writing audio in /home/mayur/Desktop/Machine Learning/ML Project (Lie Detection)/Facemesh/karan codes/Audio files/WM018_4PL.mp3\n"
     ]
    },
    {
     "name": "stderr",
     "output_type": "stream",
     "text": [
      "                                                                   \r"
     ]
    },
    {
     "name": "stdout",
     "output_type": "stream",
     "text": [
      "MoviePy - Done.\n",
      "Converted WM018_4PL.wmv to WM018_4PL.mp3\n",
      "MoviePy - Writing audio in /home/mayur/Desktop/Machine Learning/ML Project (Lie Detection)/Facemesh/karan codes/Audio files/BM018_4PL.mp3\n"
     ]
    },
    {
     "name": "stderr",
     "output_type": "stream",
     "text": [
      "                                                                   \r"
     ]
    },
    {
     "name": "stdout",
     "output_type": "stream",
     "text": [
      "MoviePy - Done.\n",
      "Converted BM018_4PL.wmv to BM018_4PL.mp3\n",
      "MoviePy - Writing audio in /home/mayur/Desktop/Machine Learning/ML Project (Lie Detection)/Facemesh/karan codes/Audio files/BM024_2NL.mp3\n"
     ]
    },
    {
     "name": "stderr",
     "output_type": "stream",
     "text": [
      "                                                                   \r"
     ]
    },
    {
     "name": "stdout",
     "output_type": "stream",
     "text": [
      "MoviePy - Done.\n",
      "Converted BM024_2NL.wmv to BM024_2NL.mp3\n",
      "MoviePy - Writing audio in /home/mayur/Desktop/Machine Learning/ML Project (Lie Detection)/Facemesh/karan codes/Audio files/BM009_3NT.mp3\n"
     ]
    },
    {
     "name": "stderr",
     "output_type": "stream",
     "text": [
      "                                                                   \r"
     ]
    },
    {
     "name": "stdout",
     "output_type": "stream",
     "text": [
      "MoviePy - Done.\n",
      "Converted BM009_3NT.wmv to BM009_3NT.mp3\n",
      "MoviePy - Writing audio in /home/mayur/Desktop/Machine Learning/ML Project (Lie Detection)/Facemesh/karan codes/Audio files/WF002_1PT.mp3\n"
     ]
    },
    {
     "name": "stderr",
     "output_type": "stream",
     "text": [
      "                                                                   \r"
     ]
    },
    {
     "name": "stdout",
     "output_type": "stream",
     "text": [
      "MoviePy - Done.\n",
      "Converted WF002_1PT.wmv to WF002_1PT.mp3\n",
      "MoviePy - Writing audio in /home/mayur/Desktop/Machine Learning/ML Project (Lie Detection)/Facemesh/karan codes/Audio files/WM024_2NL.mp3\n"
     ]
    },
    {
     "name": "stderr",
     "output_type": "stream",
     "text": [
      "                                                                   \r"
     ]
    },
    {
     "name": "stdout",
     "output_type": "stream",
     "text": [
      "MoviePy - Done.\n",
      "Converted WM024_2NL.wmv to WM024_2NL.mp3\n",
      "MoviePy - Writing audio in /home/mayur/Desktop/Machine Learning/ML Project (Lie Detection)/Facemesh/karan codes/Audio files/WM016_3NT.mp3\n"
     ]
    },
    {
     "name": "stderr",
     "output_type": "stream",
     "text": [
      "                                                                   \r"
     ]
    },
    {
     "name": "stdout",
     "output_type": "stream",
     "text": [
      "MoviePy - Done.\n",
      "Converted WM016_3NT.wmv to WM016_3NT.mp3\n",
      "MoviePy - Writing audio in /home/mayur/Desktop/Machine Learning/ML Project (Lie Detection)/Facemesh/karan codes/Audio files/BF019_3NT.mp3\n"
     ]
    },
    {
     "name": "stderr",
     "output_type": "stream",
     "text": [
      "                                                                   \r"
     ]
    },
    {
     "name": "stdout",
     "output_type": "stream",
     "text": [
      "MoviePy - Done.\n",
      "Converted BF019_3NT.wmv to BF019_3NT.mp3\n",
      "MoviePy - Writing audio in /home/mayur/Desktop/Machine Learning/ML Project (Lie Detection)/Facemesh/karan codes/Audio files/BM010_1PT.mp3\n"
     ]
    },
    {
     "name": "stderr",
     "output_type": "stream",
     "text": [
      "                                                                   \r"
     ]
    },
    {
     "name": "stdout",
     "output_type": "stream",
     "text": [
      "MoviePy - Done.\n",
      "Converted BM010_1PT.wmv to BM010_1PT.mp3\n",
      "MoviePy - Writing audio in /home/mayur/Desktop/Machine Learning/ML Project (Lie Detection)/Facemesh/karan codes/Audio files/BM021_1PT.mp3\n"
     ]
    },
    {
     "name": "stderr",
     "output_type": "stream",
     "text": [
      "                                                                   \r"
     ]
    },
    {
     "name": "stdout",
     "output_type": "stream",
     "text": [
      "MoviePy - Done.\n",
      "Converted BM021_1PT.wmv to BM021_1PT.mp3\n",
      "MoviePy - Writing audio in /home/mayur/Desktop/Machine Learning/ML Project (Lie Detection)/Facemesh/karan codes/Audio files/WM002_4PL.mp3\n"
     ]
    },
    {
     "name": "stderr",
     "output_type": "stream",
     "text": [
      "                                                                   \r"
     ]
    },
    {
     "name": "stdout",
     "output_type": "stream",
     "text": [
      "MoviePy - Done.\n",
      "Converted WM002_4PL.wmv to WM002_4PL.mp3\n",
      "MoviePy - Writing audio in /home/mayur/Desktop/Machine Learning/ML Project (Lie Detection)/Facemesh/karan codes/Audio files/BM020_2NL.mp3\n"
     ]
    },
    {
     "name": "stderr",
     "output_type": "stream",
     "text": [
      "                                                                   \r"
     ]
    },
    {
     "name": "stdout",
     "output_type": "stream",
     "text": [
      "MoviePy - Done.\n",
      "Converted BM020_2NL.wmv to BM020_2NL.mp3\n",
      "MoviePy - Writing audio in /home/mayur/Desktop/Machine Learning/ML Project (Lie Detection)/Facemesh/karan codes/Audio files/BM015_4PL.mp3\n"
     ]
    },
    {
     "name": "stderr",
     "output_type": "stream",
     "text": [
      "                                                                   \r"
     ]
    },
    {
     "name": "stdout",
     "output_type": "stream",
     "text": [
      "MoviePy - Done.\n",
      "Converted BM015_4PL.wmv to BM015_4PL.mp3\n",
      "MoviePy - Writing audio in /home/mayur/Desktop/Machine Learning/ML Project (Lie Detection)/Facemesh/karan codes/Audio files/BF027_4PL.mp3\n"
     ]
    },
    {
     "name": "stderr",
     "output_type": "stream",
     "text": [
      "                                                                   \r"
     ]
    },
    {
     "name": "stdout",
     "output_type": "stream",
     "text": [
      "MoviePy - Done.\n",
      "Converted BF027_4PL.wmv to BF027_4PL.mp3\n",
      "MoviePy - Writing audio in /home/mayur/Desktop/Machine Learning/ML Project (Lie Detection)/Facemesh/karan codes/Audio files/WM019_2NL.mp3\n"
     ]
    },
    {
     "name": "stderr",
     "output_type": "stream",
     "text": [
      "                                                                   \r"
     ]
    },
    {
     "name": "stdout",
     "output_type": "stream",
     "text": [
      "MoviePy - Done.\n",
      "Converted WM019_2NL.wmv to WM019_2NL.mp3\n",
      "MoviePy - Writing audio in /home/mayur/Desktop/Machine Learning/ML Project (Lie Detection)/Facemesh/karan codes/Audio files/WM026_4PL.mp3\n"
     ]
    },
    {
     "name": "stderr",
     "output_type": "stream",
     "text": [
      "                                                                   \r"
     ]
    },
    {
     "name": "stdout",
     "output_type": "stream",
     "text": [
      "MoviePy - Done.\n",
      "Converted WM026_4PL.wmv to WM026_4PL.mp3\n",
      "MoviePy - Writing audio in /home/mayur/Desktop/Machine Learning/ML Project (Lie Detection)/Facemesh/karan codes/Audio files/WM005_1PT.mp3\n"
     ]
    },
    {
     "name": "stderr",
     "output_type": "stream",
     "text": [
      "                                                                   \r"
     ]
    },
    {
     "name": "stdout",
     "output_type": "stream",
     "text": [
      "MoviePy - Done.\n",
      "Converted WM005_1PT.wmv to WM005_1PT.mp3\n",
      "MoviePy - Writing audio in /home/mayur/Desktop/Machine Learning/ML Project (Lie Detection)/Facemesh/karan codes/Audio files/BM027_4PL.mp3\n"
     ]
    },
    {
     "name": "stderr",
     "output_type": "stream",
     "text": [
      "                                                                   \r"
     ]
    },
    {
     "name": "stdout",
     "output_type": "stream",
     "text": [
      "MoviePy - Done.\n",
      "Converted BM027_4PL.wmv to BM027_4PL.mp3\n",
      "MoviePy - Writing audio in /home/mayur/Desktop/Machine Learning/ML Project (Lie Detection)/Facemesh/karan codes/Audio files/WM001_1PT.mp3\n"
     ]
    },
    {
     "name": "stderr",
     "output_type": "stream",
     "text": [
      "                                                                   \r"
     ]
    },
    {
     "name": "stdout",
     "output_type": "stream",
     "text": [
      "MoviePy - Done.\n",
      "Converted WM001_1PT.wmv to WM001_1PT.mp3\n",
      "MoviePy - Writing audio in /home/mayur/Desktop/Machine Learning/ML Project (Lie Detection)/Facemesh/karan codes/Audio files/WF009_2NL.mp3\n"
     ]
    },
    {
     "name": "stderr",
     "output_type": "stream",
     "text": [
      "                                                                   \r"
     ]
    },
    {
     "name": "stdout",
     "output_type": "stream",
     "text": [
      "MoviePy - Done.\n",
      "Converted WF009_2NL.wmv to WF009_2NL.mp3\n",
      "MoviePy - Writing audio in /home/mayur/Desktop/Machine Learning/ML Project (Lie Detection)/Facemesh/karan codes/Audio files/WF025_1PT.mp3\n"
     ]
    },
    {
     "name": "stderr",
     "output_type": "stream",
     "text": [
      "                                                                   \r"
     ]
    },
    {
     "name": "stdout",
     "output_type": "stream",
     "text": [
      "MoviePy - Done.\n",
      "Converted WF025_1PT.wmv to WF025_1PT.mp3\n",
      "MoviePy - Writing audio in /home/mayur/Desktop/Machine Learning/ML Project (Lie Detection)/Facemesh/karan codes/Audio files/BF019_2NL.mp3\n"
     ]
    },
    {
     "name": "stderr",
     "output_type": "stream",
     "text": [
      "                                                                   \r"
     ]
    },
    {
     "name": "stdout",
     "output_type": "stream",
     "text": [
      "MoviePy - Done.\n",
      "Converted BF019_2NL.wmv to BF019_2NL.mp3\n",
      "MoviePy - Writing audio in /home/mayur/Desktop/Machine Learning/ML Project (Lie Detection)/Facemesh/karan codes/Audio files/BM005_4PL.mp3\n"
     ]
    },
    {
     "name": "stderr",
     "output_type": "stream",
     "text": [
      "                                                                   \r"
     ]
    },
    {
     "name": "stdout",
     "output_type": "stream",
     "text": [
      "MoviePy - Done.\n",
      "Converted BM005_4PL.wmv to BM005_4PL.mp3\n",
      "MoviePy - Writing audio in /home/mayur/Desktop/Machine Learning/ML Project (Lie Detection)/Facemesh/karan codes/Audio files/BF028_2NL.mp3\n"
     ]
    },
    {
     "name": "stderr",
     "output_type": "stream",
     "text": [
      "                                                                   \r"
     ]
    },
    {
     "name": "stdout",
     "output_type": "stream",
     "text": [
      "MoviePy - Done.\n",
      "Converted BF028_2NL.wmv to BF028_2NL.mp3\n",
      "MoviePy - Writing audio in /home/mayur/Desktop/Machine Learning/ML Project (Lie Detection)/Facemesh/karan codes/Audio files/WM011_3NT.mp3\n"
     ]
    },
    {
     "name": "stderr",
     "output_type": "stream",
     "text": [
      "                                                                   \r"
     ]
    },
    {
     "name": "stdout",
     "output_type": "stream",
     "text": [
      "MoviePy - Done.\n",
      "Converted WM011_3NT.wmv to WM011_3NT.mp3\n",
      "MoviePy - Writing audio in /home/mayur/Desktop/Machine Learning/ML Project (Lie Detection)/Facemesh/karan codes/Audio files/BF002_3NT.mp3\n"
     ]
    },
    {
     "name": "stderr",
     "output_type": "stream",
     "text": [
      "                                                                   \r"
     ]
    },
    {
     "name": "stdout",
     "output_type": "stream",
     "text": [
      "MoviePy - Done.\n",
      "Converted BF002_3NT.wmv to BF002_3NT.mp3\n",
      "MoviePy - Writing audio in /home/mayur/Desktop/Machine Learning/ML Project (Lie Detection)/Facemesh/karan codes/Audio files/WF022_3NT.mp3\n"
     ]
    },
    {
     "name": "stderr",
     "output_type": "stream",
     "text": [
      "                                                                   \r"
     ]
    },
    {
     "name": "stdout",
     "output_type": "stream",
     "text": [
      "MoviePy - Done.\n",
      "Converted WF022_3NT.wmv to WF022_3NT.mp3\n",
      "MoviePy - Writing audio in /home/mayur/Desktop/Machine Learning/ML Project (Lie Detection)/Facemesh/karan codes/Audio files/BM027_3NT.mp3\n"
     ]
    },
    {
     "name": "stderr",
     "output_type": "stream",
     "text": [
      "                                                                   \r"
     ]
    },
    {
     "name": "stdout",
     "output_type": "stream",
     "text": [
      "MoviePy - Done.\n",
      "Converted BM027_3NT.wmv to BM027_3NT.mp3\n",
      "MoviePy - Writing audio in /home/mayur/Desktop/Machine Learning/ML Project (Lie Detection)/Facemesh/karan codes/Audio files/BM015_1PT.mp3\n"
     ]
    },
    {
     "name": "stderr",
     "output_type": "stream",
     "text": [
      "                                                                   \r"
     ]
    },
    {
     "name": "stdout",
     "output_type": "stream",
     "text": [
      "MoviePy - Done.\n",
      "Converted BM015_1PT.wmv to BM015_1PT.mp3\n",
      "MoviePy - Writing audio in /home/mayur/Desktop/Machine Learning/ML Project (Lie Detection)/Facemesh/karan codes/Audio files/WM019_3NT.mp3\n"
     ]
    },
    {
     "name": "stderr",
     "output_type": "stream",
     "text": [
      "                                                                   \r"
     ]
    },
    {
     "name": "stdout",
     "output_type": "stream",
     "text": [
      "MoviePy - Done.\n",
      "Converted WM019_3NT.wmv to WM019_3NT.mp3\n",
      "MoviePy - Writing audio in /home/mayur/Desktop/Machine Learning/ML Project (Lie Detection)/Facemesh/karan codes/Audio files/WF019_4PL.mp3\n"
     ]
    },
    {
     "name": "stderr",
     "output_type": "stream",
     "text": [
      "                                                                    \r"
     ]
    },
    {
     "name": "stdout",
     "output_type": "stream",
     "text": [
      "MoviePy - Done.\n",
      "Converted WF019_4PL.wmv to WF019_4PL.mp3\n",
      "MoviePy - Writing audio in /home/mayur/Desktop/Machine Learning/ML Project (Lie Detection)/Facemesh/karan codes/Audio files/WF007_2NL.mp3\n"
     ]
    },
    {
     "name": "stderr",
     "output_type": "stream",
     "text": [
      "                                                                   \r"
     ]
    },
    {
     "name": "stdout",
     "output_type": "stream",
     "text": [
      "MoviePy - Done.\n",
      "Converted WF007_2NL.wmv to WF007_2NL.mp3\n",
      "MoviePy - Writing audio in /home/mayur/Desktop/Machine Learning/ML Project (Lie Detection)/Facemesh/karan codes/Audio files/BM016_2NL.mp3\n"
     ]
    },
    {
     "name": "stderr",
     "output_type": "stream",
     "text": [
      "                                                                    \r"
     ]
    },
    {
     "name": "stdout",
     "output_type": "stream",
     "text": [
      "MoviePy - Done.\n",
      "Converted BM016_2NL.wmv to BM016_2NL.mp3\n",
      "MoviePy - Writing audio in /home/mayur/Desktop/Machine Learning/ML Project (Lie Detection)/Facemesh/karan codes/Audio files/BF027_3NT.mp3\n"
     ]
    },
    {
     "name": "stderr",
     "output_type": "stream",
     "text": [
      "                                                                   \r"
     ]
    },
    {
     "name": "stdout",
     "output_type": "stream",
     "text": [
      "MoviePy - Done.\n",
      "Converted BF027_3NT.wmv to BF027_3NT.mp3\n",
      "MoviePy - Writing audio in /home/mayur/Desktop/Machine Learning/ML Project (Lie Detection)/Facemesh/karan codes/Audio files/WM006_3NT.mp3\n"
     ]
    },
    {
     "name": "stderr",
     "output_type": "stream",
     "text": [
      "                                                                   \r"
     ]
    },
    {
     "name": "stdout",
     "output_type": "stream",
     "text": [
      "MoviePy - Done.\n",
      "Converted WM006_3NT.wmv to WM006_3NT.mp3\n",
      "MoviePy - Writing audio in /home/mayur/Desktop/Machine Learning/ML Project (Lie Detection)/Facemesh/karan codes/Audio files/BM007_4PL.mp3\n"
     ]
    },
    {
     "name": "stderr",
     "output_type": "stream",
     "text": [
      "                                                                   \r"
     ]
    },
    {
     "name": "stdout",
     "output_type": "stream",
     "text": [
      "MoviePy - Done.\n",
      "Converted BM007_4PL.wmv to BM007_4PL.mp3\n",
      "MoviePy - Writing audio in /home/mayur/Desktop/Machine Learning/ML Project (Lie Detection)/Facemesh/karan codes/Audio files/WF006_2NL.mp3\n"
     ]
    },
    {
     "name": "stderr",
     "output_type": "stream",
     "text": [
      "                                                                   \r"
     ]
    },
    {
     "name": "stdout",
     "output_type": "stream",
     "text": [
      "MoviePy - Done.\n",
      "Converted WF006_2NL.wmv to WF006_2NL.mp3\n",
      "MoviePy - Writing audio in /home/mayur/Desktop/Machine Learning/ML Project (Lie Detection)/Facemesh/karan codes/Audio files/BF004_3NT.mp3\n"
     ]
    },
    {
     "name": "stderr",
     "output_type": "stream",
     "text": [
      "                                                                   \r"
     ]
    },
    {
     "name": "stdout",
     "output_type": "stream",
     "text": [
      "MoviePy - Done.\n",
      "Converted BF004_3NT.wmv to BF004_3NT.mp3\n",
      "MoviePy - Writing audio in /home/mayur/Desktop/Machine Learning/ML Project (Lie Detection)/Facemesh/karan codes/Audio files/BF004_1PT.mp3\n"
     ]
    },
    {
     "name": "stderr",
     "output_type": "stream",
     "text": [
      "                                                                   \r"
     ]
    },
    {
     "name": "stdout",
     "output_type": "stream",
     "text": [
      "MoviePy - Done.\n",
      "Converted BF004_1PT.wmv to BF004_1PT.mp3\n",
      "MoviePy - Writing audio in /home/mayur/Desktop/Machine Learning/ML Project (Lie Detection)/Facemesh/karan codes/Audio files/BM020_1PT.mp3\n"
     ]
    },
    {
     "name": "stderr",
     "output_type": "stream",
     "text": [
      "                                                                     \r"
     ]
    },
    {
     "name": "stdout",
     "output_type": "stream",
     "text": [
      "MoviePy - Done.\n",
      "Converted BM020_1PT.wmv to BM020_1PT.mp3\n",
      "MoviePy - Writing audio in /home/mayur/Desktop/Machine Learning/ML Project (Lie Detection)/Facemesh/karan codes/Audio files/BM016_4PL.mp3\n"
     ]
    },
    {
     "name": "stderr",
     "output_type": "stream",
     "text": [
      "                                                                   \r"
     ]
    },
    {
     "name": "stdout",
     "output_type": "stream",
     "text": [
      "MoviePy - Done.\n",
      "Converted BM016_4PL.wmv to BM016_4PL.mp3\n",
      "MoviePy - Writing audio in /home/mayur/Desktop/Machine Learning/ML Project (Lie Detection)/Facemesh/karan codes/Audio files/WF006_3NT.mp3\n"
     ]
    },
    {
     "name": "stderr",
     "output_type": "stream",
     "text": [
      "                                                                   \r"
     ]
    },
    {
     "name": "stdout",
     "output_type": "stream",
     "text": [
      "MoviePy - Done.\n",
      "Converted WF006_3NT.wmv to WF006_3NT.mp3\n",
      "MoviePy - Writing audio in /home/mayur/Desktop/Machine Learning/ML Project (Lie Detection)/Facemesh/karan codes/Audio files/BF002_4PL.mp3\n"
     ]
    },
    {
     "name": "stderr",
     "output_type": "stream",
     "text": [
      "                                                                   \r"
     ]
    },
    {
     "name": "stdout",
     "output_type": "stream",
     "text": [
      "MoviePy - Done.\n",
      "Converted BF002_4PL.wmv to BF002_4PL.mp3\n",
      "MoviePy - Writing audio in /home/mayur/Desktop/Machine Learning/ML Project (Lie Detection)/Facemesh/karan codes/Audio files/WF010_2NL.mp3\n"
     ]
    },
    {
     "name": "stderr",
     "output_type": "stream",
     "text": [
      "                                                                   \r"
     ]
    },
    {
     "name": "stdout",
     "output_type": "stream",
     "text": [
      "MoviePy - Done.\n",
      "Converted WF010_2NL.wmv to WF010_2NL.mp3\n",
      "MoviePy - Writing audio in /home/mayur/Desktop/Machine Learning/ML Project (Lie Detection)/Facemesh/karan codes/Audio files/WF012_2NL.mp3\n"
     ]
    },
    {
     "name": "stderr",
     "output_type": "stream",
     "text": [
      "                                                                   \r"
     ]
    },
    {
     "name": "stdout",
     "output_type": "stream",
     "text": [
      "MoviePy - Done.\n",
      "Converted WF012_2NL.wmv to WF012_2NL.mp3\n",
      "MoviePy - Writing audio in /home/mayur/Desktop/Machine Learning/ML Project (Lie Detection)/Facemesh/karan codes/Audio files/BM012_4PL.mp3\n"
     ]
    },
    {
     "name": "stderr",
     "output_type": "stream",
     "text": [
      "                                                                   \r"
     ]
    },
    {
     "name": "stdout",
     "output_type": "stream",
     "text": [
      "MoviePy - Done.\n",
      "Converted BM012_4PL.wmv to BM012_4PL.mp3\n",
      "MoviePy - Writing audio in /home/mayur/Desktop/Machine Learning/ML Project (Lie Detection)/Facemesh/karan codes/Audio files/WM019_4PL.mp3\n"
     ]
    },
    {
     "name": "stderr",
     "output_type": "stream",
     "text": [
      "                                                                   \r"
     ]
    },
    {
     "name": "stdout",
     "output_type": "stream",
     "text": [
      "MoviePy - Done.\n",
      "Converted WM019_4PL.wmv to WM019_4PL.mp3\n",
      "MoviePy - Writing audio in /home/mayur/Desktop/Machine Learning/ML Project (Lie Detection)/Facemesh/karan codes/Audio files/WM005_2NL.mp3\n"
     ]
    },
    {
     "name": "stderr",
     "output_type": "stream",
     "text": [
      "                                                                   \r"
     ]
    },
    {
     "name": "stdout",
     "output_type": "stream",
     "text": [
      "MoviePy - Done.\n",
      "Converted WM005_2NL.wmv to WM005_2NL.mp3\n",
      "MoviePy - Writing audio in /home/mayur/Desktop/Machine Learning/ML Project (Lie Detection)/Facemesh/karan codes/Audio files/WM016_2NL.mp3\n"
     ]
    },
    {
     "name": "stderr",
     "output_type": "stream",
     "text": [
      "                                                                   \r"
     ]
    },
    {
     "name": "stdout",
     "output_type": "stream",
     "text": [
      "MoviePy - Done.\n",
      "Converted WM016_2NL.wmv to WM016_2NL.mp3\n",
      "MoviePy - Writing audio in /home/mayur/Desktop/Machine Learning/ML Project (Lie Detection)/Facemesh/karan codes/Audio files/BF022_1PT.mp3\n"
     ]
    },
    {
     "name": "stderr",
     "output_type": "stream",
     "text": [
      "                                                                   \r"
     ]
    },
    {
     "name": "stdout",
     "output_type": "stream",
     "text": [
      "MoviePy - Done.\n",
      "Converted BF022_1PT.wmv to BF022_1PT.mp3\n",
      "MoviePy - Writing audio in /home/mayur/Desktop/Machine Learning/ML Project (Lie Detection)/Facemesh/karan codes/Audio files/WF003_4PL.mp3\n"
     ]
    },
    {
     "name": "stderr",
     "output_type": "stream",
     "text": [
      "                                                                   \r"
     ]
    },
    {
     "name": "stdout",
     "output_type": "stream",
     "text": [
      "MoviePy - Done.\n",
      "Converted WF003_4PL.wmv to WF003_4PL.mp3\n",
      "MoviePy - Writing audio in /home/mayur/Desktop/Machine Learning/ML Project (Lie Detection)/Facemesh/karan codes/Audio files/WM008_2NL.mp3\n"
     ]
    },
    {
     "name": "stderr",
     "output_type": "stream",
     "text": [
      "                                                                   \r"
     ]
    },
    {
     "name": "stdout",
     "output_type": "stream",
     "text": [
      "MoviePy - Done.\n",
      "Converted WM008_2NL.wmv to WM008_2NL.mp3\n",
      "MoviePy - Writing audio in /home/mayur/Desktop/Machine Learning/ML Project (Lie Detection)/Facemesh/karan codes/Audio files/WF010_3NT.mp3\n"
     ]
    },
    {
     "name": "stderr",
     "output_type": "stream",
     "text": [
      "                                                                   \r"
     ]
    },
    {
     "name": "stdout",
     "output_type": "stream",
     "text": [
      "MoviePy - Done.\n",
      "Converted WF010_3NT.wmv to WF010_3NT.mp3\n",
      "MoviePy - Writing audio in /home/mayur/Desktop/Machine Learning/ML Project (Lie Detection)/Facemesh/karan codes/Audio files/WM009_4PL.mp3\n"
     ]
    },
    {
     "name": "stderr",
     "output_type": "stream",
     "text": [
      "                                                                   \r"
     ]
    },
    {
     "name": "stdout",
     "output_type": "stream",
     "text": [
      "MoviePy - Done.\n",
      "Converted WM009_4PL.wmv to WM009_4PL.mp3\n",
      "MoviePy - Writing audio in /home/mayur/Desktop/Machine Learning/ML Project (Lie Detection)/Facemesh/karan codes/Audio files/BF014_1PT.mp3\n"
     ]
    },
    {
     "name": "stderr",
     "output_type": "stream",
     "text": [
      "                                                                   \r"
     ]
    },
    {
     "name": "stdout",
     "output_type": "stream",
     "text": [
      "MoviePy - Done.\n",
      "Converted BF014_1PT.wmv to BF014_1PT.mp3\n",
      "MoviePy - Writing audio in /home/mayur/Desktop/Machine Learning/ML Project (Lie Detection)/Facemesh/karan codes/Audio files/BF014_2NL.mp3\n"
     ]
    },
    {
     "name": "stderr",
     "output_type": "stream",
     "text": [
      "                                                                   \r"
     ]
    },
    {
     "name": "stdout",
     "output_type": "stream",
     "text": [
      "MoviePy - Done.\n",
      "Converted BF014_2NL.wmv to BF014_2NL.mp3\n",
      "MoviePy - Writing audio in /home/mayur/Desktop/Machine Learning/ML Project (Lie Detection)/Facemesh/karan codes/Audio files/WF002_4PL.mp3\n"
     ]
    },
    {
     "name": "stderr",
     "output_type": "stream",
     "text": [
      "                                                                   \r"
     ]
    },
    {
     "name": "stdout",
     "output_type": "stream",
     "text": [
      "MoviePy - Done.\n",
      "Converted WF002_4PL.wmv to WF002_4PL.mp3\n",
      "MoviePy - Writing audio in /home/mayur/Desktop/Machine Learning/ML Project (Lie Detection)/Facemesh/karan codes/Audio files/BM018_3NT.mp3\n"
     ]
    },
    {
     "name": "stderr",
     "output_type": "stream",
     "text": [
      "                                                                   \r"
     ]
    },
    {
     "name": "stdout",
     "output_type": "stream",
     "text": [
      "MoviePy - Done.\n",
      "Converted BM018_3NT.wmv to BM018_3NT.mp3\n",
      "MoviePy - Writing audio in /home/mayur/Desktop/Machine Learning/ML Project (Lie Detection)/Facemesh/karan codes/Audio files/WF025_2NL.mp3\n"
     ]
    },
    {
     "name": "stderr",
     "output_type": "stream",
     "text": [
      "                                                                   \r"
     ]
    },
    {
     "name": "stdout",
     "output_type": "stream",
     "text": [
      "MoviePy - Done.\n",
      "Converted WF025_2NL.wmv to WF025_2NL.mp3\n",
      "MoviePy - Writing audio in /home/mayur/Desktop/Machine Learning/ML Project (Lie Detection)/Facemesh/karan codes/Audio files/BM003_1PT.mp3\n"
     ]
    },
    {
     "name": "stderr",
     "output_type": "stream",
     "text": [
      "                                                                   \r"
     ]
    },
    {
     "name": "stdout",
     "output_type": "stream",
     "text": [
      "MoviePy - Done.\n",
      "Converted BM003_1PT.wmv to BM003_1PT.mp3\n",
      "MoviePy - Writing audio in /home/mayur/Desktop/Machine Learning/ML Project (Lie Detection)/Facemesh/karan codes/Audio files/BF028_3NT.mp3\n"
     ]
    },
    {
     "name": "stderr",
     "output_type": "stream",
     "text": [
      "                                                                   \r"
     ]
    },
    {
     "name": "stdout",
     "output_type": "stream",
     "text": [
      "MoviePy - Done.\n",
      "Converted BF028_3NT.wmv to BF028_3NT.mp3\n",
      "MoviePy - Writing audio in /home/mayur/Desktop/Machine Learning/ML Project (Lie Detection)/Facemesh/karan codes/Audio files/WF013_3NT.mp3\n"
     ]
    },
    {
     "name": "stderr",
     "output_type": "stream",
     "text": [
      "                                                                   \r"
     ]
    },
    {
     "name": "stdout",
     "output_type": "stream",
     "text": [
      "MoviePy - Done.\n",
      "Converted WF013_3NT.wmv to WF013_3NT.mp3\n",
      "MoviePy - Writing audio in /home/mayur/Desktop/Machine Learning/ML Project (Lie Detection)/Facemesh/karan codes/Audio files/WF005_3NT.mp3\n"
     ]
    },
    {
     "name": "stderr",
     "output_type": "stream",
     "text": [
      "                                                                   \r"
     ]
    },
    {
     "name": "stdout",
     "output_type": "stream",
     "text": [
      "MoviePy - Done.\n",
      "Converted WF005_3NT.wmv to WF005_3NT.mp3\n",
      "MoviePy - Writing audio in /home/mayur/Desktop/Machine Learning/ML Project (Lie Detection)/Facemesh/karan codes/Audio files/WM011_1PT.mp3\n"
     ]
    },
    {
     "name": "stderr",
     "output_type": "stream",
     "text": [
      "                                                                   \r"
     ]
    },
    {
     "name": "stdout",
     "output_type": "stream",
     "text": [
      "MoviePy - Done.\n",
      "Converted WM011_1PT.wmv to WM011_1PT.mp3\n",
      "MoviePy - Writing audio in /home/mayur/Desktop/Machine Learning/ML Project (Lie Detection)/Facemesh/karan codes/Audio files/BF033_2NL.mp3\n"
     ]
    },
    {
     "name": "stderr",
     "output_type": "stream",
     "text": [
      "                                                                   \r"
     ]
    },
    {
     "name": "stdout",
     "output_type": "stream",
     "text": [
      "MoviePy - Done.\n",
      "Converted BF033_2NL.wmv to BF033_2NL.mp3\n",
      "MoviePy - Writing audio in /home/mayur/Desktop/Machine Learning/ML Project (Lie Detection)/Facemesh/karan codes/Audio files/BF020_3NT.mp3\n"
     ]
    },
    {
     "name": "stderr",
     "output_type": "stream",
     "text": [
      "                                                                   \r"
     ]
    },
    {
     "name": "stdout",
     "output_type": "stream",
     "text": [
      "MoviePy - Done.\n",
      "Converted BF020_3NT.wmv to BF020_3NT.mp3\n",
      "MoviePy - Writing audio in /home/mayur/Desktop/Machine Learning/ML Project (Lie Detection)/Facemesh/karan codes/Audio files/WM018_3NT.mp3\n"
     ]
    },
    {
     "name": "stderr",
     "output_type": "stream",
     "text": [
      "                                                                   \r"
     ]
    },
    {
     "name": "stdout",
     "output_type": "stream",
     "text": [
      "MoviePy - Done.\n",
      "Converted WM018_3NT.wmv to WM018_3NT.mp3\n",
      "MoviePy - Writing audio in /home/mayur/Desktop/Machine Learning/ML Project (Lie Detection)/Facemesh/karan codes/Audio files/WF007_1PT.mp3\n"
     ]
    },
    {
     "name": "stderr",
     "output_type": "stream",
     "text": [
      "                                                                   \r"
     ]
    },
    {
     "name": "stdout",
     "output_type": "stream",
     "text": [
      "MoviePy - Done.\n",
      "Converted WF007_1PT.wmv to WF007_1PT.mp3\n",
      "MoviePy - Writing audio in /home/mayur/Desktop/Machine Learning/ML Project (Lie Detection)/Facemesh/karan codes/Audio files/WM027_1PT.mp3\n"
     ]
    },
    {
     "name": "stderr",
     "output_type": "stream",
     "text": [
      "                                                                   \r"
     ]
    },
    {
     "name": "stdout",
     "output_type": "stream",
     "text": [
      "MoviePy - Done.\n",
      "Converted WM027_1PT.wmv to WM027_1PT.mp3\n",
      "MoviePy - Writing audio in /home/mayur/Desktop/Machine Learning/ML Project (Lie Detection)/Facemesh/karan codes/Audio files/WF016_1PT.mp3\n"
     ]
    },
    {
     "name": "stderr",
     "output_type": "stream",
     "text": [
      "                                                                   \r"
     ]
    },
    {
     "name": "stdout",
     "output_type": "stream",
     "text": [
      "MoviePy - Done.\n",
      "Converted WF016_1PT.wmv to WF016_1PT.mp3\n",
      "MoviePy - Writing audio in /home/mayur/Desktop/Machine Learning/ML Project (Lie Detection)/Facemesh/karan codes/Audio files/WM007_4PL.mp3\n"
     ]
    },
    {
     "name": "stderr",
     "output_type": "stream",
     "text": [
      "                                                                   \r"
     ]
    },
    {
     "name": "stdout",
     "output_type": "stream",
     "text": [
      "MoviePy - Done.\n",
      "Converted WM007_4PL.wmv to WM007_4PL.mp3\n",
      "MoviePy - Writing audio in /home/mayur/Desktop/Machine Learning/ML Project (Lie Detection)/Facemesh/karan codes/Audio files/WM021_1PT.mp3\n"
     ]
    },
    {
     "name": "stderr",
     "output_type": "stream",
     "text": [
      "                                                                   \r"
     ]
    },
    {
     "name": "stdout",
     "output_type": "stream",
     "text": [
      "MoviePy - Done.\n",
      "Converted WM021_1PT.wmv to WM021_1PT.mp3\n",
      "MoviePy - Writing audio in /home/mayur/Desktop/Machine Learning/ML Project (Lie Detection)/Facemesh/karan codes/Audio files/WF018_4PL.mp3\n"
     ]
    },
    {
     "name": "stderr",
     "output_type": "stream",
     "text": [
      "                                                                   \r"
     ]
    },
    {
     "name": "stdout",
     "output_type": "stream",
     "text": [
      "MoviePy - Done.\n",
      "Converted WF018_4PL.wmv to WF018_4PL.mp3\n",
      "MoviePy - Writing audio in /home/mayur/Desktop/Machine Learning/ML Project (Lie Detection)/Facemesh/karan codes/Audio files/BM021_3NT.mp3\n"
     ]
    },
    {
     "name": "stderr",
     "output_type": "stream",
     "text": [
      "                                                                   \r"
     ]
    },
    {
     "name": "stdout",
     "output_type": "stream",
     "text": [
      "MoviePy - Done.\n",
      "Converted BM021_3NT.wmv to BM021_3NT.mp3\n",
      "MoviePy - Writing audio in /home/mayur/Desktop/Machine Learning/ML Project (Lie Detection)/Facemesh/karan codes/Audio files/WM007_3NT.mp3\n"
     ]
    },
    {
     "name": "stderr",
     "output_type": "stream",
     "text": [
      "                                                                   \r"
     ]
    },
    {
     "name": "stdout",
     "output_type": "stream",
     "text": [
      "MoviePy - Done.\n",
      "Converted WM007_3NT.wmv to WM007_3NT.mp3\n",
      "MoviePy - Writing audio in /home/mayur/Desktop/Machine Learning/ML Project (Lie Detection)/Facemesh/karan codes/Audio files/BM014_1PT.mp3\n"
     ]
    },
    {
     "name": "stderr",
     "output_type": "stream",
     "text": [
      "                                                                   \r"
     ]
    },
    {
     "name": "stdout",
     "output_type": "stream",
     "text": [
      "MoviePy - Done.\n",
      "Converted BM014_1PT.wmv to BM014_1PT.mp3\n",
      "MoviePy - Writing audio in /home/mayur/Desktop/Machine Learning/ML Project (Lie Detection)/Facemesh/karan codes/Audio files/WM026_2NL.mp3\n"
     ]
    },
    {
     "name": "stderr",
     "output_type": "stream",
     "text": [
      "                                                                   \r"
     ]
    },
    {
     "name": "stdout",
     "output_type": "stream",
     "text": [
      "MoviePy - Done.\n",
      "Converted WM026_2NL.wmv to WM026_2NL.mp3\n",
      "MoviePy - Writing audio in /home/mayur/Desktop/Machine Learning/ML Project (Lie Detection)/Facemesh/karan codes/Audio files/BM010_2NL.mp3\n"
     ]
    },
    {
     "name": "stderr",
     "output_type": "stream",
     "text": [
      "                                                                   \r"
     ]
    },
    {
     "name": "stdout",
     "output_type": "stream",
     "text": [
      "MoviePy - Done.\n",
      "Converted BM010_2NL.wmv to BM010_2NL.mp3\n",
      "MoviePy - Writing audio in /home/mayur/Desktop/Machine Learning/ML Project (Lie Detection)/Facemesh/karan codes/Audio files/BM018_2NL.mp3\n"
     ]
    },
    {
     "name": "stderr",
     "output_type": "stream",
     "text": [
      "                                                                   \r"
     ]
    },
    {
     "name": "stdout",
     "output_type": "stream",
     "text": [
      "MoviePy - Done.\n",
      "Converted BM018_2NL.wmv to BM018_2NL.mp3\n",
      "MoviePy - Writing audio in /home/mayur/Desktop/Machine Learning/ML Project (Lie Detection)/Facemesh/karan codes/Audio files/WM011_4PL.mp3\n"
     ]
    },
    {
     "name": "stderr",
     "output_type": "stream",
     "text": [
      "                                                                   \r"
     ]
    },
    {
     "name": "stdout",
     "output_type": "stream",
     "text": [
      "MoviePy - Done.\n",
      "Converted WM011_4PL.wmv to WM011_4PL.mp3\n",
      "MoviePy - Writing audio in /home/mayur/Desktop/Machine Learning/ML Project (Lie Detection)/Facemesh/karan codes/Audio files/WM020_3NT.mp3\n"
     ]
    },
    {
     "name": "stderr",
     "output_type": "stream",
     "text": [
      "                                                                   \r"
     ]
    },
    {
     "name": "stdout",
     "output_type": "stream",
     "text": [
      "MoviePy - Done.\n",
      "Converted WM020_3NT.wmv to WM020_3NT.mp3\n",
      "MoviePy - Writing audio in /home/mayur/Desktop/Machine Learning/ML Project (Lie Detection)/Facemesh/karan codes/Audio files/BM015_2NL.mp3\n"
     ]
    },
    {
     "name": "stderr",
     "output_type": "stream",
     "text": [
      "                                                                   \r"
     ]
    },
    {
     "name": "stdout",
     "output_type": "stream",
     "text": [
      "MoviePy - Done.\n",
      "Converted BM015_2NL.wmv to BM015_2NL.mp3\n",
      "MoviePy - Writing audio in /home/mayur/Desktop/Machine Learning/ML Project (Lie Detection)/Facemesh/karan codes/Audio files/WF003_2NL.mp3\n"
     ]
    },
    {
     "name": "stderr",
     "output_type": "stream",
     "text": [
      "                                                                   \r"
     ]
    },
    {
     "name": "stdout",
     "output_type": "stream",
     "text": [
      "MoviePy - Done.\n",
      "Converted WF003_2NL.wmv to WF003_2NL.mp3\n",
      "MoviePy - Writing audio in /home/mayur/Desktop/Machine Learning/ML Project (Lie Detection)/Facemesh/karan codes/Audio files/BM021_4PL.mp3\n"
     ]
    },
    {
     "name": "stderr",
     "output_type": "stream",
     "text": [
      "                                                                   \r"
     ]
    },
    {
     "name": "stdout",
     "output_type": "stream",
     "text": [
      "MoviePy - Done.\n",
      "Converted BM021_4PL.wmv to BM021_4PL.mp3\n",
      "MoviePy - Writing audio in /home/mayur/Desktop/Machine Learning/ML Project (Lie Detection)/Facemesh/karan codes/Audio files/WM027_4PL.mp3\n"
     ]
    },
    {
     "name": "stderr",
     "output_type": "stream",
     "text": [
      "                                                                   \r"
     ]
    },
    {
     "name": "stdout",
     "output_type": "stream",
     "text": [
      "MoviePy - Done.\n",
      "Converted WM027_4PL.wmv to WM027_4PL.mp3\n",
      "MoviePy - Writing audio in /home/mayur/Desktop/Machine Learning/ML Project (Lie Detection)/Facemesh/karan codes/Audio files/WF023_1PT.mp3\n"
     ]
    },
    {
     "name": "stderr",
     "output_type": "stream",
     "text": [
      "                                                                   \r"
     ]
    },
    {
     "name": "stdout",
     "output_type": "stream",
     "text": [
      "MoviePy - Done.\n",
      "Converted WF023_1PT.wmv to WF023_1PT.mp3\n",
      "MoviePy - Writing audio in /home/mayur/Desktop/Machine Learning/ML Project (Lie Detection)/Facemesh/karan codes/Audio files/WM022_1PT.mp3\n"
     ]
    },
    {
     "name": "stderr",
     "output_type": "stream",
     "text": [
      "                                                                   \r"
     ]
    },
    {
     "name": "stdout",
     "output_type": "stream",
     "text": [
      "MoviePy - Done.\n",
      "Converted WM022_1PT.wmv to WM022_1PT.mp3\n",
      "MoviePy - Writing audio in /home/mayur/Desktop/Machine Learning/ML Project (Lie Detection)/Facemesh/karan codes/Audio files/WF018_3NT.mp3\n"
     ]
    },
    {
     "name": "stderr",
     "output_type": "stream",
     "text": [
      "                                                                   \r"
     ]
    },
    {
     "name": "stdout",
     "output_type": "stream",
     "text": [
      "MoviePy - Done.\n",
      "Converted WF018_3NT.wmv to WF018_3NT.mp3\n",
      "MoviePy - Writing audio in /home/mayur/Desktop/Machine Learning/ML Project (Lie Detection)/Facemesh/karan codes/Audio files/WF005_4PL.mp3\n"
     ]
    },
    {
     "name": "stderr",
     "output_type": "stream",
     "text": [
      "                                                                   \r"
     ]
    },
    {
     "name": "stdout",
     "output_type": "stream",
     "text": [
      "MoviePy - Done.\n",
      "Converted WF005_4PL.wmv to WF005_4PL.mp3\n",
      "MoviePy - Writing audio in /home/mayur/Desktop/Machine Learning/ML Project (Lie Detection)/Facemesh/karan codes/Audio files/WF002_2NL.mp3\n"
     ]
    },
    {
     "name": "stderr",
     "output_type": "stream",
     "text": [
      "                                                                   \r"
     ]
    },
    {
     "name": "stdout",
     "output_type": "stream",
     "text": [
      "MoviePy - Done.\n",
      "Converted WF002_2NL.wmv to WF002_2NL.mp3\n",
      "MoviePy - Writing audio in /home/mayur/Desktop/Machine Learning/ML Project (Lie Detection)/Facemesh/karan codes/Audio files/BM013_3NT.mp3\n"
     ]
    },
    {
     "name": "stderr",
     "output_type": "stream",
     "text": [
      "                                                                   \r"
     ]
    },
    {
     "name": "stdout",
     "output_type": "stream",
     "text": [
      "MoviePy - Done.\n",
      "Converted BM013_3NT.wmv to BM013_3NT.mp3\n",
      "MoviePy - Writing audio in /home/mayur/Desktop/Machine Learning/ML Project (Lie Detection)/Facemesh/karan codes/Audio files/BM009_1PT.mp3\n"
     ]
    },
    {
     "name": "stderr",
     "output_type": "stream",
     "text": [
      "                                                                   \r"
     ]
    },
    {
     "name": "stdout",
     "output_type": "stream",
     "text": [
      "MoviePy - Done.\n",
      "Converted BM009_1PT.wmv to BM009_1PT.mp3\n",
      "MoviePy - Writing audio in /home/mayur/Desktop/Machine Learning/ML Project (Lie Detection)/Facemesh/karan codes/Audio files/BM008_1PT.mp3\n"
     ]
    },
    {
     "name": "stderr",
     "output_type": "stream",
     "text": [
      "                                                                   \r"
     ]
    },
    {
     "name": "stdout",
     "output_type": "stream",
     "text": [
      "MoviePy - Done.\n",
      "Converted BM008_1PT.wmv to BM008_1PT.mp3\n",
      "MoviePy - Writing audio in /home/mayur/Desktop/Machine Learning/ML Project (Lie Detection)/Facemesh/karan codes/Audio files/WF006_1PT.mp3\n"
     ]
    },
    {
     "name": "stderr",
     "output_type": "stream",
     "text": [
      "                                                                   \r"
     ]
    },
    {
     "name": "stdout",
     "output_type": "stream",
     "text": [
      "MoviePy - Done.\n",
      "Converted WF006_1PT.wmv to WF006_1PT.mp3\n",
      "MoviePy - Writing audio in /home/mayur/Desktop/Machine Learning/ML Project (Lie Detection)/Facemesh/karan codes/Audio files/BM007_3NT.mp3\n"
     ]
    },
    {
     "name": "stderr",
     "output_type": "stream",
     "text": [
      "                                                                   \r"
     ]
    },
    {
     "name": "stdout",
     "output_type": "stream",
     "text": [
      "MoviePy - Done.\n",
      "Converted BM007_3NT.wmv to BM007_3NT.mp3\n",
      "MoviePy - Writing audio in /home/mayur/Desktop/Machine Learning/ML Project (Lie Detection)/Facemesh/karan codes/Audio files/BF001_4PL.mp3\n"
     ]
    },
    {
     "name": "stderr",
     "output_type": "stream",
     "text": [
      "                                                                    \r"
     ]
    },
    {
     "name": "stdout",
     "output_type": "stream",
     "text": [
      "MoviePy - Done.\n",
      "Converted BF001_4PL.wmv to BF001_4PL.mp3\n",
      "MoviePy - Writing audio in /home/mayur/Desktop/Machine Learning/ML Project (Lie Detection)/Facemesh/karan codes/Audio files/BM013_1PT.mp3\n"
     ]
    },
    {
     "name": "stderr",
     "output_type": "stream",
     "text": [
      "                                                                    \r"
     ]
    },
    {
     "name": "stdout",
     "output_type": "stream",
     "text": [
      "MoviePy - Done.\n",
      "Converted BM013_1PT.wmv to BM013_1PT.mp3\n",
      "MoviePy - Writing audio in /home/mayur/Desktop/Machine Learning/ML Project (Lie Detection)/Facemesh/karan codes/Audio files/BF018_4PL.mp3\n"
     ]
    },
    {
     "name": "stderr",
     "output_type": "stream",
     "text": [
      "                                                                    \r"
     ]
    },
    {
     "name": "stdout",
     "output_type": "stream",
     "text": [
      "MoviePy - Done.\n",
      "Converted BF018_4PL.wmv to BF018_4PL.mp3\n",
      "MoviePy - Writing audio in /home/mayur/Desktop/Machine Learning/ML Project (Lie Detection)/Facemesh/karan codes/Audio files/WF024_3NT.mp3\n"
     ]
    },
    {
     "name": "stderr",
     "output_type": "stream",
     "text": [
      "                                                                   \r"
     ]
    },
    {
     "name": "stdout",
     "output_type": "stream",
     "text": [
      "MoviePy - Done.\n",
      "Converted WF024_3NT.wmv to WF024_3NT.mp3\n",
      "MoviePy - Writing audio in /home/mayur/Desktop/Machine Learning/ML Project (Lie Detection)/Facemesh/karan codes/Audio files/WM024_3NT.mp3\n"
     ]
    },
    {
     "name": "stderr",
     "output_type": "stream",
     "text": [
      "                                                                    \r"
     ]
    },
    {
     "name": "stdout",
     "output_type": "stream",
     "text": [
      "MoviePy - Done.\n",
      "Converted WM024_3NT.wmv to WM024_3NT.mp3\n",
      "MoviePy - Writing audio in /home/mayur/Desktop/Machine Learning/ML Project (Lie Detection)/Facemesh/karan codes/Audio files/WF011_3NT.mp3\n"
     ]
    },
    {
     "name": "stderr",
     "output_type": "stream",
     "text": [
      "                                                                    \r"
     ]
    },
    {
     "name": "stdout",
     "output_type": "stream",
     "text": [
      "MoviePy - Done.\n",
      "Converted WF011_3NT.wmv to WF011_3NT.mp3\n",
      "MoviePy - Writing audio in /home/mayur/Desktop/Machine Learning/ML Project (Lie Detection)/Facemesh/karan codes/Audio files/WF018_2NL.mp3\n"
     ]
    },
    {
     "name": "stderr",
     "output_type": "stream",
     "text": [
      "                                                                    \r"
     ]
    },
    {
     "name": "stdout",
     "output_type": "stream",
     "text": [
      "MoviePy - Done.\n",
      "Converted WF018_2NL.wmv to WF018_2NL.mp3\n",
      "MoviePy - Writing audio in /home/mayur/Desktop/Machine Learning/ML Project (Lie Detection)/Facemesh/karan codes/Audio files/BM026_1PT.mp3\n"
     ]
    },
    {
     "name": "stderr",
     "output_type": "stream",
     "text": [
      "                                                                    \r"
     ]
    },
    {
     "name": "stdout",
     "output_type": "stream",
     "text": [
      "MoviePy - Done.\n",
      "Converted BM026_1PT.wmv to BM026_1PT.mp3\n",
      "MoviePy - Writing audio in /home/mayur/Desktop/Machine Learning/ML Project (Lie Detection)/Facemesh/karan codes/Audio files/BF033_4PL.mp3\n"
     ]
    },
    {
     "name": "stderr",
     "output_type": "stream",
     "text": [
      "                                                                    \r"
     ]
    },
    {
     "name": "stdout",
     "output_type": "stream",
     "text": [
      "MoviePy - Done.\n",
      "Converted BF033_4PL.wmv to BF033_4PL.mp3\n",
      "MoviePy - Writing audio in /home/mayur/Desktop/Machine Learning/ML Project (Lie Detection)/Facemesh/karan codes/Audio files/BF006_2NL.mp3\n"
     ]
    },
    {
     "name": "stderr",
     "output_type": "stream",
     "text": [
      "                                                                    \r"
     ]
    },
    {
     "name": "stdout",
     "output_type": "stream",
     "text": [
      "MoviePy - Done.\n",
      "Converted BF006_2NL.wmv to BF006_2NL.mp3\n",
      "MoviePy - Writing audio in /home/mayur/Desktop/Machine Learning/ML Project (Lie Detection)/Facemesh/karan codes/Audio files/BM003_3NT.mp3\n"
     ]
    },
    {
     "name": "stderr",
     "output_type": "stream",
     "text": [
      "                                                                    \r"
     ]
    },
    {
     "name": "stdout",
     "output_type": "stream",
     "text": [
      "MoviePy - Done.\n",
      "Converted BM003_3NT.wmv to BM003_3NT.mp3\n",
      "MoviePy - Writing audio in /home/mayur/Desktop/Machine Learning/ML Project (Lie Detection)/Facemesh/karan codes/Audio files/BM020_3NT.mp3\n"
     ]
    },
    {
     "name": "stderr",
     "output_type": "stream",
     "text": [
      "                                                                    \r"
     ]
    },
    {
     "name": "stdout",
     "output_type": "stream",
     "text": [
      "MoviePy - Done.\n",
      "Converted BM020_3NT.wmv to BM020_3NT.mp3\n",
      "MoviePy - Writing audio in /home/mayur/Desktop/Machine Learning/ML Project (Lie Detection)/Facemesh/karan codes/Audio files/BF008_2NL.mp3\n"
     ]
    },
    {
     "name": "stderr",
     "output_type": "stream",
     "text": [
      "                                                                    \r"
     ]
    },
    {
     "name": "stdout",
     "output_type": "stream",
     "text": [
      "MoviePy - Done.\n",
      "Converted BF008_2NL.wmv to BF008_2NL.mp3\n",
      "MoviePy - Writing audio in /home/mayur/Desktop/Machine Learning/ML Project (Lie Detection)/Facemesh/karan codes/Audio files/WF007_3NT.mp3\n"
     ]
    },
    {
     "name": "stderr",
     "output_type": "stream",
     "text": [
      "                                                                    \r"
     ]
    },
    {
     "name": "stdout",
     "output_type": "stream",
     "text": [
      "MoviePy - Done.\n",
      "Converted WF007_3NT.wmv to WF007_3NT.mp3\n",
      "MoviePy - Writing audio in /home/mayur/Desktop/Machine Learning/ML Project (Lie Detection)/Facemesh/karan codes/Audio files/BF025_3NT.mp3\n"
     ]
    },
    {
     "name": "stderr",
     "output_type": "stream",
     "text": [
      "                                                                    \r"
     ]
    },
    {
     "name": "stdout",
     "output_type": "stream",
     "text": [
      "MoviePy - Done.\n",
      "Converted BF025_3NT.wmv to BF025_3NT.mp3\n",
      "MoviePy - Writing audio in /home/mayur/Desktop/Machine Learning/ML Project (Lie Detection)/Facemesh/karan codes/Audio files/WF016_4PL.mp3\n"
     ]
    },
    {
     "name": "stderr",
     "output_type": "stream",
     "text": [
      "                                                                    \r"
     ]
    },
    {
     "name": "stdout",
     "output_type": "stream",
     "text": [
      "MoviePy - Done.\n",
      "Converted WF016_4PL.wmv to WF016_4PL.mp3\n",
      "MoviePy - Writing audio in /home/mayur/Desktop/Machine Learning/ML Project (Lie Detection)/Facemesh/karan codes/Audio files/WM014_4PL.mp3\n"
     ]
    },
    {
     "name": "stderr",
     "output_type": "stream",
     "text": [
      "                                                                    \r"
     ]
    },
    {
     "name": "stdout",
     "output_type": "stream",
     "text": [
      "MoviePy - Done.\n",
      "Converted WM014_4PL.wmv to WM014_4PL.mp3\n",
      "MoviePy - Writing audio in /home/mayur/Desktop/Machine Learning/ML Project (Lie Detection)/Facemesh/karan codes/Audio files/WF009_4PL.mp3\n"
     ]
    },
    {
     "name": "stderr",
     "output_type": "stream",
     "text": [
      "                                                                    \r"
     ]
    },
    {
     "name": "stdout",
     "output_type": "stream",
     "text": [
      "MoviePy - Done.\n",
      "Converted WF009_4PL.wmv to WF009_4PL.mp3\n",
      "MoviePy - Writing audio in /home/mayur/Desktop/Machine Learning/ML Project (Lie Detection)/Facemesh/karan codes/Audio files/BF015_4PL.mp3\n"
     ]
    },
    {
     "name": "stderr",
     "output_type": "stream",
     "text": [
      "                                                                    \r"
     ]
    },
    {
     "name": "stdout",
     "output_type": "stream",
     "text": [
      "MoviePy - Done.\n",
      "Converted BF015_4PL.wmv to BF015_4PL.mp3\n",
      "MoviePy - Writing audio in /home/mayur/Desktop/Machine Learning/ML Project (Lie Detection)/Facemesh/karan codes/Audio files/WM009_2NL.mp3\n"
     ]
    },
    {
     "name": "stderr",
     "output_type": "stream",
     "text": [
      "                                                                    \r"
     ]
    },
    {
     "name": "stdout",
     "output_type": "stream",
     "text": [
      "MoviePy - Done.\n",
      "Converted WM009_2NL.wmv to WM009_2NL.mp3\n",
      "MoviePy - Writing audio in /home/mayur/Desktop/Machine Learning/ML Project (Lie Detection)/Facemesh/karan codes/Audio files/WM001_4PL.mp3\n"
     ]
    },
    {
     "name": "stderr",
     "output_type": "stream",
     "text": [
      "                                                                    \r"
     ]
    },
    {
     "name": "stdout",
     "output_type": "stream",
     "text": [
      "MoviePy - Done.\n",
      "Converted WM001_4PL.wmv to WM001_4PL.mp3\n",
      "MoviePy - Writing audio in /home/mayur/Desktop/Machine Learning/ML Project (Lie Detection)/Facemesh/karan codes/Audio files/BF004_4PL.mp3\n"
     ]
    },
    {
     "name": "stderr",
     "output_type": "stream",
     "text": [
      "                                                                    \r"
     ]
    },
    {
     "name": "stdout",
     "output_type": "stream",
     "text": [
      "MoviePy - Done.\n",
      "Converted BF004_4PL.wmv to BF004_4PL.mp3\n",
      "MoviePy - Writing audio in /home/mayur/Desktop/Machine Learning/ML Project (Lie Detection)/Facemesh/karan codes/Audio files/WF025_3NT.mp3\n"
     ]
    },
    {
     "name": "stderr",
     "output_type": "stream",
     "text": [
      "                                                                    \r"
     ]
    },
    {
     "name": "stdout",
     "output_type": "stream",
     "text": [
      "MoviePy - Done.\n",
      "Converted WF025_3NT.wmv to WF025_3NT.mp3\n",
      "MoviePy - Writing audio in /home/mayur/Desktop/Machine Learning/ML Project (Lie Detection)/Facemesh/karan codes/Audio files/BF033_1PT.mp3\n"
     ]
    },
    {
     "name": "stderr",
     "output_type": "stream",
     "text": [
      "                                                                    \r"
     ]
    },
    {
     "name": "stdout",
     "output_type": "stream",
     "text": [
      "MoviePy - Done.\n",
      "Converted BF033_1PT.wmv to BF033_1PT.mp3\n",
      "MoviePy - Writing audio in /home/mayur/Desktop/Machine Learning/ML Project (Lie Detection)/Facemesh/karan codes/Audio files/BM014_4PL.mp3\n"
     ]
    },
    {
     "name": "stderr",
     "output_type": "stream",
     "text": [
      "                                                                    \r"
     ]
    },
    {
     "name": "stdout",
     "output_type": "stream",
     "text": [
      "MoviePy - Done.\n",
      "Converted BM014_4PL.wmv to BM014_4PL.mp3\n",
      "MoviePy - Writing audio in /home/mayur/Desktop/Machine Learning/ML Project (Lie Detection)/Facemesh/karan codes/Audio files/BM006_4PL.mp3\n"
     ]
    },
    {
     "name": "stderr",
     "output_type": "stream",
     "text": [
      "                                                                    \r"
     ]
    },
    {
     "name": "stdout",
     "output_type": "stream",
     "text": [
      "MoviePy - Done.\n",
      "Converted BM006_4PL.wmv to BM006_4PL.mp3\n",
      "MoviePy - Writing audio in /home/mayur/Desktop/Machine Learning/ML Project (Lie Detection)/Facemesh/karan codes/Audio files/WF022_1PT.mp3\n"
     ]
    },
    {
     "name": "stderr",
     "output_type": "stream",
     "text": [
      "                                                                    \r"
     ]
    },
    {
     "name": "stdout",
     "output_type": "stream",
     "text": [
      "MoviePy - Done.\n",
      "Converted WF022_1PT.wmv to WF022_1PT.mp3\n",
      "MoviePy - Writing audio in /home/mayur/Desktop/Machine Learning/ML Project (Lie Detection)/Facemesh/karan codes/Audio files/BF006_1PT.mp3\n"
     ]
    },
    {
     "name": "stderr",
     "output_type": "stream",
     "text": [
      "                                                                    \r"
     ]
    },
    {
     "name": "stdout",
     "output_type": "stream",
     "text": [
      "MoviePy - Done.\n",
      "Converted BF006_1PT.wmv to BF006_1PT.mp3\n",
      "MoviePy - Writing audio in /home/mayur/Desktop/Machine Learning/ML Project (Lie Detection)/Facemesh/karan codes/Audio files/WM009_3NT.mp3\n"
     ]
    },
    {
     "name": "stderr",
     "output_type": "stream",
     "text": [
      "                                                                    \r"
     ]
    },
    {
     "name": "stdout",
     "output_type": "stream",
     "text": [
      "MoviePy - Done.\n",
      "Converted WM009_3NT.wmv to WM009_3NT.mp3\n",
      "MoviePy - Writing audio in /home/mayur/Desktop/Machine Learning/ML Project (Lie Detection)/Facemesh/karan codes/Audio files/BF008_4PL.mp3\n"
     ]
    },
    {
     "name": "stderr",
     "output_type": "stream",
     "text": [
      "                                                                    \r"
     ]
    },
    {
     "name": "stdout",
     "output_type": "stream",
     "text": [
      "MoviePy - Done.\n",
      "Converted BF008_4PL.wmv to BF008_4PL.mp3\n",
      "MoviePy - Writing audio in /home/mayur/Desktop/Machine Learning/ML Project (Lie Detection)/Facemesh/karan codes/Audio files/WM021_4PL.mp3\n"
     ]
    },
    {
     "name": "stderr",
     "output_type": "stream",
     "text": [
      "                                                                    \r"
     ]
    },
    {
     "name": "stdout",
     "output_type": "stream",
     "text": [
      "MoviePy - Done.\n",
      "Converted WM021_4PL.wmv to WM021_4PL.mp3\n",
      "MoviePy - Writing audio in /home/mayur/Desktop/Machine Learning/ML Project (Lie Detection)/Facemesh/karan codes/Audio files/WF018_1PT.mp3\n"
     ]
    },
    {
     "name": "stderr",
     "output_type": "stream",
     "text": [
      "                                                                    \r"
     ]
    },
    {
     "name": "stdout",
     "output_type": "stream",
     "text": [
      "MoviePy - Done.\n",
      "Converted WF018_1PT.wmv to WF018_1PT.mp3\n",
      "MoviePy - Writing audio in /home/mayur/Desktop/Machine Learning/ML Project (Lie Detection)/Facemesh/karan codes/Audio files/BF013_3NT.mp3\n"
     ]
    },
    {
     "name": "stderr",
     "output_type": "stream",
     "text": [
      "                                                                    \r"
     ]
    },
    {
     "name": "stdout",
     "output_type": "stream",
     "text": [
      "MoviePy - Done.\n",
      "Converted BF013_3NT.wmv to BF013_3NT.mp3\n",
      "MoviePy - Writing audio in /home/mayur/Desktop/Machine Learning/ML Project (Lie Detection)/Facemesh/karan codes/Audio files/WM017_3NT.mp3\n"
     ]
    },
    {
     "name": "stderr",
     "output_type": "stream",
     "text": [
      "                                                                    \r"
     ]
    },
    {
     "name": "stdout",
     "output_type": "stream",
     "text": [
      "MoviePy - Done.\n",
      "Converted WM017_3NT.wmv to WM017_3NT.mp3\n",
      "MoviePy - Writing audio in /home/mayur/Desktop/Machine Learning/ML Project (Lie Detection)/Facemesh/karan codes/Audio files/BM005_3NT.mp3\n"
     ]
    },
    {
     "name": "stderr",
     "output_type": "stream",
     "text": [
      "                                                                    \r"
     ]
    },
    {
     "name": "stdout",
     "output_type": "stream",
     "text": [
      "MoviePy - Done.\n",
      "Converted BM005_3NT.wmv to BM005_3NT.mp3\n",
      "MoviePy - Writing audio in /home/mayur/Desktop/Machine Learning/ML Project (Lie Detection)/Facemesh/karan codes/Audio files/WM001_3NT.mp3\n"
     ]
    },
    {
     "name": "stderr",
     "output_type": "stream",
     "text": [
      "                                                                    \r"
     ]
    },
    {
     "name": "stdout",
     "output_type": "stream",
     "text": [
      "MoviePy - Done.\n",
      "Converted WM001_3NT.wmv to WM001_3NT.mp3\n",
      "MoviePy - Writing audio in /home/mayur/Desktop/Machine Learning/ML Project (Lie Detection)/Facemesh/karan codes/Audio files/WM006_1PT.mp3\n"
     ]
    },
    {
     "name": "stderr",
     "output_type": "stream",
     "text": [
      "                                                                    \r"
     ]
    },
    {
     "name": "stdout",
     "output_type": "stream",
     "text": [
      "MoviePy - Done.\n",
      "Converted WM006_1PT.wmv to WM006_1PT.mp3\n",
      "MoviePy - Writing audio in /home/mayur/Desktop/Machine Learning/ML Project (Lie Detection)/Facemesh/karan codes/Audio files/BF025_1PT.mp3\n"
     ]
    },
    {
     "name": "stderr",
     "output_type": "stream",
     "text": [
      "                                                                    \r"
     ]
    },
    {
     "name": "stdout",
     "output_type": "stream",
     "text": [
      "MoviePy - Done.\n",
      "Converted BF025_1PT.wmv to BF025_1PT.mp3\n",
      "MoviePy - Writing audio in /home/mayur/Desktop/Machine Learning/ML Project (Lie Detection)/Facemesh/karan codes/Audio files/BF025_2NL.mp3\n"
     ]
    },
    {
     "name": "stderr",
     "output_type": "stream",
     "text": [
      "                                                                    \r"
     ]
    },
    {
     "name": "stdout",
     "output_type": "stream",
     "text": [
      "MoviePy - Done.\n",
      "Converted BF025_2NL.wmv to BF025_2NL.mp3\n",
      "MoviePy - Writing audio in /home/mayur/Desktop/Machine Learning/ML Project (Lie Detection)/Facemesh/karan codes/Audio files/BF022_4PL.mp3\n"
     ]
    },
    {
     "name": "stderr",
     "output_type": "stream",
     "text": [
      "                                                                    \r"
     ]
    },
    {
     "name": "stdout",
     "output_type": "stream",
     "text": [
      "MoviePy - Done.\n",
      "Converted BF022_4PL.wmv to BF022_4PL.mp3\n",
      "MoviePy - Writing audio in /home/mayur/Desktop/Machine Learning/ML Project (Lie Detection)/Facemesh/karan codes/Audio files/BF003_3NT.mp3\n"
     ]
    },
    {
     "name": "stderr",
     "output_type": "stream",
     "text": [
      "                                                                    \r"
     ]
    },
    {
     "name": "stdout",
     "output_type": "stream",
     "text": [
      "MoviePy - Done.\n",
      "Converted BF003_3NT.wmv to BF003_3NT.mp3\n",
      "MoviePy - Writing audio in /home/mayur/Desktop/Machine Learning/ML Project (Lie Detection)/Facemesh/karan codes/Audio files/BM003_2NL.mp3\n"
     ]
    },
    {
     "name": "stderr",
     "output_type": "stream",
     "text": [
      "                                                                    \r"
     ]
    },
    {
     "name": "stdout",
     "output_type": "stream",
     "text": [
      "MoviePy - Done.\n",
      "Converted BM003_2NL.wmv to BM003_2NL.mp3\n",
      "MoviePy - Writing audio in /home/mayur/Desktop/Machine Learning/ML Project (Lie Detection)/Facemesh/karan codes/Audio files/BM005_1PT.mp3\n"
     ]
    },
    {
     "name": "stderr",
     "output_type": "stream",
     "text": [
      "                                                                    \r"
     ]
    },
    {
     "name": "stdout",
     "output_type": "stream",
     "text": [
      "MoviePy - Done.\n",
      "Converted BM005_1PT.wmv to BM005_1PT.mp3\n",
      "MoviePy - Writing audio in /home/mayur/Desktop/Machine Learning/ML Project (Lie Detection)/Facemesh/karan codes/Audio files/BM016_1PT.mp3\n"
     ]
    },
    {
     "name": "stderr",
     "output_type": "stream",
     "text": [
      "                                                                    \r"
     ]
    },
    {
     "name": "stdout",
     "output_type": "stream",
     "text": [
      "MoviePy - Done.\n",
      "Converted BM016_1PT.wmv to BM016_1PT.mp3\n",
      "MoviePy - Writing audio in /home/mayur/Desktop/Machine Learning/ML Project (Lie Detection)/Facemesh/karan codes/Audio files/BM015_3NT.mp3\n"
     ]
    },
    {
     "name": "stderr",
     "output_type": "stream",
     "text": [
      "                                                                    \r"
     ]
    },
    {
     "name": "stdout",
     "output_type": "stream",
     "text": [
      "MoviePy - Done.\n",
      "Converted BM015_3NT.wmv to BM015_3NT.mp3\n",
      "MoviePy - Writing audio in /home/mayur/Desktop/Machine Learning/ML Project (Lie Detection)/Facemesh/karan codes/Audio files/BM007_2NL.mp3\n"
     ]
    },
    {
     "name": "stderr",
     "output_type": "stream",
     "text": [
      "                                                                    \r"
     ]
    },
    {
     "name": "stdout",
     "output_type": "stream",
     "text": [
      "MoviePy - Done.\n",
      "Converted BM007_2NL.wmv to BM007_2NL.mp3\n",
      "MoviePy - Writing audio in /home/mayur/Desktop/Machine Learning/ML Project (Lie Detection)/Facemesh/karan codes/Audio files/WM024_1PT.mp3\n"
     ]
    },
    {
     "name": "stderr",
     "output_type": "stream",
     "text": [
      "                                                                    \r"
     ]
    },
    {
     "name": "stdout",
     "output_type": "stream",
     "text": [
      "MoviePy - Done.\n",
      "Converted WM024_1PT.wmv to WM024_1PT.mp3\n",
      "MoviePy - Writing audio in /home/mayur/Desktop/Machine Learning/ML Project (Lie Detection)/Facemesh/karan codes/Audio files/WM020_1PT.mp3\n"
     ]
    },
    {
     "name": "stderr",
     "output_type": "stream",
     "text": [
      "                                                                    \r"
     ]
    },
    {
     "name": "stdout",
     "output_type": "stream",
     "text": [
      "MoviePy - Done.\n",
      "Converted WM020_1PT.wmv to WM020_1PT.mp3\n",
      "MoviePy - Writing audio in /home/mayur/Desktop/Machine Learning/ML Project (Lie Detection)/Facemesh/karan codes/Audio files/WF021_4PL.mp3\n"
     ]
    },
    {
     "name": "stderr",
     "output_type": "stream",
     "text": [
      "                                                                    \r"
     ]
    },
    {
     "name": "stdout",
     "output_type": "stream",
     "text": [
      "MoviePy - Done.\n",
      "Converted WF021_4PL.wmv to WF021_4PL.mp3\n",
      "MoviePy - Writing audio in /home/mayur/Desktop/Machine Learning/ML Project (Lie Detection)/Facemesh/karan codes/Audio files/BM004_2NL.mp3\n"
     ]
    },
    {
     "name": "stderr",
     "output_type": "stream",
     "text": [
      "                                                                    \r"
     ]
    },
    {
     "name": "stdout",
     "output_type": "stream",
     "text": [
      "MoviePy - Done.\n",
      "Converted BM004_2NL.wmv to BM004_2NL.mp3\n",
      "MoviePy - Writing audio in /home/mayur/Desktop/Machine Learning/ML Project (Lie Detection)/Facemesh/karan codes/Audio files/WF024_4PL.mp3\n"
     ]
    },
    {
     "name": "stderr",
     "output_type": "stream",
     "text": [
      "                                                                    \r"
     ]
    },
    {
     "name": "stdout",
     "output_type": "stream",
     "text": [
      "MoviePy - Done.\n",
      "Converted WF024_4PL.wmv to WF024_4PL.mp3\n",
      "MoviePy - Writing audio in /home/mayur/Desktop/Machine Learning/ML Project (Lie Detection)/Facemesh/karan codes/Audio files/WF023_4PL.mp3\n"
     ]
    },
    {
     "name": "stderr",
     "output_type": "stream",
     "text": [
      "                                                                    \r"
     ]
    },
    {
     "name": "stdout",
     "output_type": "stream",
     "text": [
      "MoviePy - Done.\n",
      "Converted WF023_4PL.wmv to WF023_4PL.mp3\n",
      "MoviePy - Writing audio in /home/mayur/Desktop/Machine Learning/ML Project (Lie Detection)/Facemesh/karan codes/Audio files/BF028_1PT.mp3\n"
     ]
    },
    {
     "name": "stderr",
     "output_type": "stream",
     "text": [
      "                                                                    \r"
     ]
    },
    {
     "name": "stdout",
     "output_type": "stream",
     "text": [
      "MoviePy - Done.\n",
      "Converted BF028_1PT.wmv to BF028_1PT.mp3\n",
      "MoviePy - Writing audio in /home/mayur/Desktop/Machine Learning/ML Project (Lie Detection)/Facemesh/karan codes/Audio files/WF013_4PL.mp3\n"
     ]
    },
    {
     "name": "stderr",
     "output_type": "stream",
     "text": [
      "                                                                    \r"
     ]
    },
    {
     "name": "stdout",
     "output_type": "stream",
     "text": [
      "MoviePy - Done.\n",
      "Converted WF013_4PL.wmv to WF013_4PL.mp3\n",
      "MoviePy - Writing audio in /home/mayur/Desktop/Machine Learning/ML Project (Lie Detection)/Facemesh/karan codes/Audio files/WM019_1PT.mp3\n"
     ]
    },
    {
     "name": "stderr",
     "output_type": "stream",
     "text": [
      "                                                                    \r"
     ]
    },
    {
     "name": "stdout",
     "output_type": "stream",
     "text": [
      "MoviePy - Done.\n",
      "Converted WM019_1PT.wmv to WM019_1PT.mp3\n",
      "MoviePy - Writing audio in /home/mayur/Desktop/Machine Learning/ML Project (Lie Detection)/Facemesh/karan codes/Audio files/WF009_3NT.mp3\n"
     ]
    },
    {
     "name": "stderr",
     "output_type": "stream",
     "text": [
      "                                                                    \r"
     ]
    },
    {
     "name": "stdout",
     "output_type": "stream",
     "text": [
      "MoviePy - Done.\n",
      "Converted WF009_3NT.wmv to WF009_3NT.mp3\n",
      "MoviePy - Writing audio in /home/mayur/Desktop/Machine Learning/ML Project (Lie Detection)/Facemesh/karan codes/Audio files/BM026_3NT.mp3\n"
     ]
    },
    {
     "name": "stderr",
     "output_type": "stream",
     "text": [
      "                                                                    \r"
     ]
    },
    {
     "name": "stdout",
     "output_type": "stream",
     "text": [
      "MoviePy - Done.\n",
      "Converted BM026_3NT.wmv to BM026_3NT.mp3\n",
      "MoviePy - Writing audio in /home/mayur/Desktop/Machine Learning/ML Project (Lie Detection)/Facemesh/karan codes/Audio files/WF011_4PL.mp3\n"
     ]
    },
    {
     "name": "stderr",
     "output_type": "stream",
     "text": [
      "                                                                    \r"
     ]
    },
    {
     "name": "stdout",
     "output_type": "stream",
     "text": [
      "MoviePy - Done.\n",
      "Converted WF011_4PL.wmv to WF011_4PL.mp3\n",
      "MoviePy - Writing audio in /home/mayur/Desktop/Machine Learning/ML Project (Lie Detection)/Facemesh/karan codes/Audio files/BF001_2NL.mp3\n"
     ]
    },
    {
     "name": "stderr",
     "output_type": "stream",
     "text": [
      "                                                                    \r"
     ]
    },
    {
     "name": "stdout",
     "output_type": "stream",
     "text": [
      "MoviePy - Done.\n",
      "Converted BF001_2NL.wmv to BF001_2NL.mp3\n",
      "MoviePy - Writing audio in /home/mayur/Desktop/Machine Learning/ML Project (Lie Detection)/Facemesh/karan codes/Audio files/BF020_4PL.mp3\n"
     ]
    },
    {
     "name": "stderr",
     "output_type": "stream",
     "text": [
      "                                                                    \r"
     ]
    },
    {
     "name": "stdout",
     "output_type": "stream",
     "text": [
      "MoviePy - Done.\n",
      "Converted BF020_4PL.wmv to BF020_4PL.mp3\n",
      "MoviePy - Writing audio in /home/mayur/Desktop/Machine Learning/ML Project (Lie Detection)/Facemesh/karan codes/Audio files/BM017_4PL.mp3\n"
     ]
    },
    {
     "name": "stderr",
     "output_type": "stream",
     "text": [
      "                                                                    \r"
     ]
    },
    {
     "name": "stdout",
     "output_type": "stream",
     "text": [
      "MoviePy - Done.\n",
      "Converted BM017_4PL.wmv to BM017_4PL.mp3\n",
      "MoviePy - Writing audio in /home/mayur/Desktop/Machine Learning/ML Project (Lie Detection)/Facemesh/karan codes/Audio files/BM006_2NL.mp3\n"
     ]
    },
    {
     "name": "stderr",
     "output_type": "stream",
     "text": [
      "                                                                    \r"
     ]
    },
    {
     "name": "stdout",
     "output_type": "stream",
     "text": [
      "MoviePy - Done.\n",
      "Converted BM006_2NL.wmv to BM006_2NL.mp3\n",
      "MoviePy - Writing audio in /home/mayur/Desktop/Machine Learning/ML Project (Lie Detection)/Facemesh/karan codes/Audio files/WM014_1PT.mp3\n"
     ]
    },
    {
     "name": "stderr",
     "output_type": "stream",
     "text": [
      "                                                                    \r"
     ]
    },
    {
     "name": "stdout",
     "output_type": "stream",
     "text": [
      "MoviePy - Done.\n",
      "Converted WM014_1PT.wmv to WM014_1PT.mp3\n",
      "MoviePy - Writing audio in /home/mayur/Desktop/Machine Learning/ML Project (Lie Detection)/Facemesh/karan codes/Audio files/WF022_4PL.mp3\n"
     ]
    },
    {
     "name": "stderr",
     "output_type": "stream",
     "text": [
      "                                                                    \r"
     ]
    },
    {
     "name": "stdout",
     "output_type": "stream",
     "text": [
      "MoviePy - Done.\n",
      "Converted WF022_4PL.wmv to WF022_4PL.mp3\n",
      "MoviePy - Writing audio in /home/mayur/Desktop/Machine Learning/ML Project (Lie Detection)/Facemesh/karan codes/Audio files/WM002_2NL.mp3\n"
     ]
    },
    {
     "name": "stderr",
     "output_type": "stream",
     "text": [
      "                                                                    \r"
     ]
    },
    {
     "name": "stdout",
     "output_type": "stream",
     "text": [
      "MoviePy - Done.\n",
      "Converted WM002_2NL.wmv to WM002_2NL.mp3\n",
      "MoviePy - Writing audio in /home/mayur/Desktop/Machine Learning/ML Project (Lie Detection)/Facemesh/karan codes/Audio files/WM014_2NL.mp3\n"
     ]
    },
    {
     "name": "stderr",
     "output_type": "stream",
     "text": [
      "                                                                    \r"
     ]
    },
    {
     "name": "stdout",
     "output_type": "stream",
     "text": [
      "MoviePy - Done.\n",
      "Converted WM014_2NL.wmv to WM014_2NL.mp3\n",
      "MoviePy - Writing audio in /home/mayur/Desktop/Machine Learning/ML Project (Lie Detection)/Facemesh/karan codes/Audio files/BM018_1PT.mp3\n"
     ]
    },
    {
     "name": "stderr",
     "output_type": "stream",
     "text": [
      "                                                                    \r"
     ]
    },
    {
     "name": "stdout",
     "output_type": "stream",
     "text": [
      "MoviePy - Done.\n",
      "Converted BM018_1PT.wmv to BM018_1PT.mp3\n",
      "MoviePy - Writing audio in /home/mayur/Desktop/Machine Learning/ML Project (Lie Detection)/Facemesh/karan codes/Audio files/WM020_4PL.mp3\n"
     ]
    },
    {
     "name": "stderr",
     "output_type": "stream",
     "text": [
      "                                                                   \r"
     ]
    },
    {
     "name": "stdout",
     "output_type": "stream",
     "text": [
      "MoviePy - Done.\n",
      "Converted WM020_4PL.wmv to WM020_4PL.mp3\n",
      "MoviePy - Writing audio in /home/mayur/Desktop/Machine Learning/ML Project (Lie Detection)/Facemesh/karan codes/Audio files/BM014_2NL.mp3\n"
     ]
    },
    {
     "name": "stderr",
     "output_type": "stream",
     "text": [
      "                                                                    \r"
     ]
    },
    {
     "name": "stdout",
     "output_type": "stream",
     "text": [
      "MoviePy - Done.\n",
      "Converted BM014_2NL.wmv to BM014_2NL.mp3\n",
      "MoviePy - Writing audio in /home/mayur/Desktop/Machine Learning/ML Project (Lie Detection)/Facemesh/karan codes/Audio files/BF028_4PL.mp3\n"
     ]
    },
    {
     "name": "stderr",
     "output_type": "stream",
     "text": [
      "                                                                    \r"
     ]
    },
    {
     "name": "stdout",
     "output_type": "stream",
     "text": [
      "MoviePy - Done.\n",
      "Converted BF028_4PL.wmv to BF028_4PL.mp3\n",
      "MoviePy - Writing audio in /home/mayur/Desktop/Machine Learning/ML Project (Lie Detection)/Facemesh/karan codes/Audio files/WF023_2NL.mp3\n"
     ]
    },
    {
     "name": "stderr",
     "output_type": "stream",
     "text": [
      "                                                                    \r"
     ]
    },
    {
     "name": "stdout",
     "output_type": "stream",
     "text": [
      "MoviePy - Done.\n",
      "Converted WF023_2NL.wmv to WF023_2NL.mp3\n",
      "MoviePy - Writing audio in /home/mayur/Desktop/Machine Learning/ML Project (Lie Detection)/Facemesh/karan codes/Audio files/WM008_1PT.mp3\n"
     ]
    },
    {
     "name": "stderr",
     "output_type": "stream",
     "text": [
      "                                                                    \r"
     ]
    },
    {
     "name": "stdout",
     "output_type": "stream",
     "text": [
      "MoviePy - Done.\n",
      "Converted WM008_1PT.wmv to WM008_1PT.mp3\n",
      "MoviePy - Writing audio in /home/mayur/Desktop/Machine Learning/ML Project (Lie Detection)/Facemesh/karan codes/Audio files/WF003_1PT.mp3\n"
     ]
    },
    {
     "name": "stderr",
     "output_type": "stream",
     "text": [
      "                                                                    \r"
     ]
    },
    {
     "name": "stdout",
     "output_type": "stream",
     "text": [
      "MoviePy - Done.\n",
      "Converted WF003_1PT.wmv to WF003_1PT.mp3\n",
      "MoviePy - Writing audio in /home/mayur/Desktop/Machine Learning/ML Project (Lie Detection)/Facemesh/karan codes/Audio files/WM026_1PT.mp3\n"
     ]
    },
    {
     "name": "stderr",
     "output_type": "stream",
     "text": [
      "                                                                    \r"
     ]
    },
    {
     "name": "stdout",
     "output_type": "stream",
     "text": [
      "MoviePy - Done.\n",
      "Converted WM026_1PT.wmv to WM026_1PT.mp3\n",
      "MoviePy - Writing audio in /home/mayur/Desktop/Machine Learning/ML Project (Lie Detection)/Facemesh/karan codes/Audio files/WF003_3NT.mp3\n"
     ]
    },
    {
     "name": "stderr",
     "output_type": "stream",
     "text": [
      "                                                                    \r"
     ]
    },
    {
     "name": "stdout",
     "output_type": "stream",
     "text": [
      "MoviePy - Done.\n",
      "Converted WF003_3NT.wmv to WF003_3NT.mp3\n",
      "MoviePy - Writing audio in /home/mayur/Desktop/Machine Learning/ML Project (Lie Detection)/Facemesh/karan codes/Audio files/BF008_3NT.mp3\n"
     ]
    },
    {
     "name": "stderr",
     "output_type": "stream",
     "text": [
      "                                                                    \r"
     ]
    },
    {
     "name": "stdout",
     "output_type": "stream",
     "text": [
      "MoviePy - Done.\n",
      "Converted BF008_3NT.wmv to BF008_3NT.mp3\n",
      "MoviePy - Writing audio in /home/mayur/Desktop/Machine Learning/ML Project (Lie Detection)/Facemesh/karan codes/Audio files/BM009_2NL.mp3\n"
     ]
    },
    {
     "name": "stderr",
     "output_type": "stream",
     "text": [
      "                                                                    \r"
     ]
    },
    {
     "name": "stdout",
     "output_type": "stream",
     "text": [
      "MoviePy - Done.\n",
      "Converted BM009_2NL.wmv to BM009_2NL.mp3\n",
      "MoviePy - Writing audio in /home/mayur/Desktop/Machine Learning/ML Project (Lie Detection)/Facemesh/karan codes/Audio files/WM022_3NT.mp3\n"
     ]
    },
    {
     "name": "stderr",
     "output_type": "stream",
     "text": [
      "                                                                    \r"
     ]
    },
    {
     "name": "stdout",
     "output_type": "stream",
     "text": [
      "MoviePy - Done.\n",
      "Converted WM022_3NT.wmv to WM022_3NT.mp3\n",
      "MoviePy - Writing audio in /home/mayur/Desktop/Machine Learning/ML Project (Lie Detection)/Facemesh/karan codes/Audio files/WF021_3NT.mp3\n"
     ]
    },
    {
     "name": "stderr",
     "output_type": "stream",
     "text": [
      "                                                                    \r"
     ]
    },
    {
     "name": "stdout",
     "output_type": "stream",
     "text": [
      "MoviePy - Done.\n",
      "Converted WF021_3NT.wmv to WF021_3NT.mp3\n",
      "MoviePy - Writing audio in /home/mayur/Desktop/Machine Learning/ML Project (Lie Detection)/Facemesh/karan codes/Audio files/BM020_4PL.mp3\n"
     ]
    },
    {
     "name": "stderr",
     "output_type": "stream",
     "text": [
      "                                                                    \r"
     ]
    },
    {
     "name": "stdout",
     "output_type": "stream",
     "text": [
      "MoviePy - Done.\n",
      "Converted BM020_4PL.wmv to BM020_4PL.mp3\n",
      "MoviePy - Writing audio in /home/mayur/Desktop/Machine Learning/ML Project (Lie Detection)/Facemesh/karan codes/Audio files/WM022_4PL.mp3\n"
     ]
    },
    {
     "name": "stderr",
     "output_type": "stream",
     "text": [
      "                                                                    \r"
     ]
    },
    {
     "name": "stdout",
     "output_type": "stream",
     "text": [
      "MoviePy - Done.\n",
      "Converted WM022_4PL.wmv to WM022_4PL.mp3\n",
      "MoviePy - Writing audio in /home/mayur/Desktop/Machine Learning/ML Project (Lie Detection)/Facemesh/karan codes/Audio files/WF024_1PT.mp3\n"
     ]
    },
    {
     "name": "stderr",
     "output_type": "stream",
     "text": [
      "                                                                    \r"
     ]
    },
    {
     "name": "stdout",
     "output_type": "stream",
     "text": [
      "MoviePy - Done.\n",
      "Converted WF024_1PT.wmv to WF024_1PT.mp3\n",
      "MoviePy - Writing audio in /home/mayur/Desktop/Machine Learning/ML Project (Lie Detection)/Facemesh/karan codes/Audio files/BM009_4PL.mp3\n"
     ]
    },
    {
     "name": "stderr",
     "output_type": "stream",
     "text": [
      "                                                                    \r"
     ]
    },
    {
     "name": "stdout",
     "output_type": "stream",
     "text": [
      "MoviePy - Done.\n",
      "Converted BM009_4PL.wmv to BM009_4PL.mp3\n",
      "MoviePy - Writing audio in /home/mayur/Desktop/Machine Learning/ML Project (Lie Detection)/Facemesh/karan codes/Audio files/WM018_1PT.mp3\n"
     ]
    },
    {
     "name": "stderr",
     "output_type": "stream",
     "text": [
      "                                                                    \r"
     ]
    },
    {
     "name": "stdout",
     "output_type": "stream",
     "text": [
      "MoviePy - Done.\n",
      "Converted WM018_1PT.wmv to WM018_1PT.mp3\n",
      "MoviePy - Writing audio in /home/mayur/Desktop/Machine Learning/ML Project (Lie Detection)/Facemesh/karan codes/Audio files/BM014_3NT.mp3\n"
     ]
    },
    {
     "name": "stderr",
     "output_type": "stream",
     "text": [
      "                                                                   \r"
     ]
    },
    {
     "name": "stdout",
     "output_type": "stream",
     "text": [
      "MoviePy - Done.\n",
      "Converted BM014_3NT.wmv to BM014_3NT.mp3\n",
      "MoviePy - Writing audio in /home/mayur/Desktop/Machine Learning/ML Project (Lie Detection)/Facemesh/karan codes/Audio files/BF001_1PT.mp3\n"
     ]
    },
    {
     "name": "stderr",
     "output_type": "stream",
     "text": [
      "                                                                   \r"
     ]
    },
    {
     "name": "stdout",
     "output_type": "stream",
     "text": [
      "MoviePy - Done.\n",
      "Converted BF001_1PT.wmv to BF001_1PT.mp3\n",
      "MoviePy - Writing audio in /home/mayur/Desktop/Machine Learning/ML Project (Lie Detection)/Facemesh/karan codes/Audio files/BF023_2NL.mp3\n"
     ]
    },
    {
     "name": "stderr",
     "output_type": "stream",
     "text": [
      "                                                                    \r"
     ]
    },
    {
     "name": "stdout",
     "output_type": "stream",
     "text": [
      "MoviePy - Done.\n",
      "Converted BF023_2NL.wmv to BF023_2NL.mp3\n",
      "MoviePy - Writing audio in /home/mayur/Desktop/Machine Learning/ML Project (Lie Detection)/Facemesh/karan codes/Audio files/WF021_2NL.mp3\n"
     ]
    },
    {
     "name": "stderr",
     "output_type": "stream",
     "text": [
      "                                                                   \r"
     ]
    },
    {
     "name": "stdout",
     "output_type": "stream",
     "text": [
      "MoviePy - Done.\n",
      "Converted WF021_2NL.wmv to WF021_2NL.mp3\n",
      "MoviePy - Writing audio in /home/mayur/Desktop/Machine Learning/ML Project (Lie Detection)/Facemesh/karan codes/Audio files/BF002_2NL.mp3\n"
     ]
    },
    {
     "name": "stderr",
     "output_type": "stream",
     "text": [
      "                                                                    \r"
     ]
    },
    {
     "name": "stdout",
     "output_type": "stream",
     "text": [
      "MoviePy - Done.\n",
      "Converted BF002_2NL.wmv to BF002_2NL.mp3\n",
      "MoviePy - Writing audio in /home/mayur/Desktop/Machine Learning/ML Project (Lie Detection)/Facemesh/karan codes/Audio files/WM013_3NT.mp3\n"
     ]
    },
    {
     "name": "stderr",
     "output_type": "stream",
     "text": [
      "                                                                   \r"
     ]
    },
    {
     "name": "stdout",
     "output_type": "stream",
     "text": [
      "MoviePy - Done.\n",
      "Converted WM013_3NT.wmv to WM013_3NT.mp3\n",
      "MoviePy - Writing audio in /home/mayur/Desktop/Machine Learning/ML Project (Lie Detection)/Facemesh/karan codes/Audio files/WF012_1PT.mp3\n"
     ]
    },
    {
     "name": "stderr",
     "output_type": "stream",
     "text": [
      "                                                                    \r"
     ]
    },
    {
     "name": "stdout",
     "output_type": "stream",
     "text": [
      "MoviePy - Done.\n",
      "Converted WF012_1PT.wmv to WF012_1PT.mp3\n",
      "MoviePy - Writing audio in /home/mayur/Desktop/Machine Learning/ML Project (Lie Detection)/Facemesh/karan codes/Audio files/BM021_2NL.mp3\n"
     ]
    },
    {
     "name": "stderr",
     "output_type": "stream",
     "text": [
      "                                                                   \r"
     ]
    },
    {
     "name": "stdout",
     "output_type": "stream",
     "text": [
      "MoviePy - Done.\n",
      "Converted BM021_2NL.wmv to BM021_2NL.mp3\n",
      "MoviePy - Writing audio in /home/mayur/Desktop/Machine Learning/ML Project (Lie Detection)/Facemesh/karan codes/Audio files/WF010_1PT.mp3\n"
     ]
    },
    {
     "name": "stderr",
     "output_type": "stream",
     "text": [
      "                                                                   \r"
     ]
    },
    {
     "name": "stdout",
     "output_type": "stream",
     "text": [
      "MoviePy - Done.\n",
      "Converted WF010_1PT.wmv to WF010_1PT.mp3\n",
      "MoviePy - Writing audio in /home/mayur/Desktop/Machine Learning/ML Project (Lie Detection)/Facemesh/karan codes/Audio files/WM002_3NT.mp3\n"
     ]
    },
    {
     "name": "stderr",
     "output_type": "stream",
     "text": [
      "                                                                    \r"
     ]
    },
    {
     "name": "stdout",
     "output_type": "stream",
     "text": [
      "MoviePy - Done.\n",
      "Converted WM002_3NT.wmv to WM002_3NT.mp3\n",
      "MoviePy - Writing audio in /home/mayur/Desktop/Machine Learning/ML Project (Lie Detection)/Facemesh/karan codes/Audio files/BF019_4PL.mp3\n"
     ]
    },
    {
     "name": "stderr",
     "output_type": "stream",
     "text": [
      "                                                                   \r"
     ]
    },
    {
     "name": "stdout",
     "output_type": "stream",
     "text": [
      "MoviePy - Done.\n",
      "Converted BF019_4PL.wmv to BF019_4PL.mp3\n",
      "MoviePy - Writing audio in /home/mayur/Desktop/Machine Learning/ML Project (Lie Detection)/Facemesh/karan codes/Audio files/WM002_1PT.mp3\n"
     ]
    },
    {
     "name": "stderr",
     "output_type": "stream",
     "text": [
      "                                                                    \r"
     ]
    },
    {
     "name": "stdout",
     "output_type": "stream",
     "text": [
      "MoviePy - Done.\n",
      "Converted WM002_1PT.wmv to WM002_1PT.mp3\n",
      "MoviePy - Writing audio in /home/mayur/Desktop/Machine Learning/ML Project (Lie Detection)/Facemesh/karan codes/Audio files/BM006_3NT.mp3\n"
     ]
    },
    {
     "name": "stderr",
     "output_type": "stream",
     "text": [
      "                                                                    \r"
     ]
    },
    {
     "name": "stdout",
     "output_type": "stream",
     "text": [
      "MoviePy - Done.\n",
      "Converted BM006_3NT.wmv to BM006_3NT.mp3\n",
      "MoviePy - Writing audio in /home/mayur/Desktop/Machine Learning/ML Project (Lie Detection)/Facemesh/karan codes/Audio files/BF023_1PT.mp3\n"
     ]
    },
    {
     "name": "stderr",
     "output_type": "stream",
     "text": [
      "                                                                    \r"
     ]
    },
    {
     "name": "stdout",
     "output_type": "stream",
     "text": [
      "MoviePy - Done.\n",
      "Converted BF023_1PT.wmv to BF023_1PT.mp3\n",
      "MoviePy - Writing audio in /home/mayur/Desktop/Machine Learning/ML Project (Lie Detection)/Facemesh/karan codes/Audio files/WF016_3NT.mp3\n"
     ]
    },
    {
     "name": "stderr",
     "output_type": "stream",
     "text": [
      "                                                                   \r"
     ]
    },
    {
     "name": "stdout",
     "output_type": "stream",
     "text": [
      "MoviePy - Done.\n",
      "Converted WF016_3NT.wmv to WF016_3NT.mp3\n",
      "MoviePy - Writing audio in /home/mayur/Desktop/Machine Learning/ML Project (Lie Detection)/Facemesh/karan codes/Audio files/BM024_1PT.mp3\n"
     ]
    },
    {
     "name": "stderr",
     "output_type": "stream",
     "text": [
      "                                                                    \r"
     ]
    },
    {
     "name": "stdout",
     "output_type": "stream",
     "text": [
      "MoviePy - Done.\n",
      "Converted BM024_1PT.wmv to BM024_1PT.mp3\n",
      "MoviePy - Writing audio in /home/mayur/Desktop/Machine Learning/ML Project (Lie Detection)/Facemesh/karan codes/Audio files/BM004_3NT.mp3\n"
     ]
    },
    {
     "name": "stderr",
     "output_type": "stream",
     "text": [
      "                                                                    \r"
     ]
    },
    {
     "name": "stdout",
     "output_type": "stream",
     "text": [
      "MoviePy - Done.\n",
      "Converted BM004_3NT.wmv to BM004_3NT.mp3\n",
      "MoviePy - Writing audio in /home/mayur/Desktop/Machine Learning/ML Project (Lie Detection)/Facemesh/karan codes/Audio files/BF022_2NL.mp3\n"
     ]
    },
    {
     "name": "stderr",
     "output_type": "stream",
     "text": [
      "                                                                    \r"
     ]
    },
    {
     "name": "stdout",
     "output_type": "stream",
     "text": [
      "MoviePy - Done.\n",
      "Converted BF022_2NL.wmv to BF022_2NL.mp3\n",
      "MoviePy - Writing audio in /home/mayur/Desktop/Machine Learning/ML Project (Lie Detection)/Facemesh/karan codes/Audio files/WF023_3NT.mp3\n"
     ]
    },
    {
     "name": "stderr",
     "output_type": "stream",
     "text": [
      "                                                                    \r"
     ]
    },
    {
     "name": "stdout",
     "output_type": "stream",
     "text": [
      "MoviePy - Done.\n",
      "Converted WF023_3NT.wmv to WF023_3NT.mp3\n",
      "MoviePy - Writing audio in /home/mayur/Desktop/Machine Learning/ML Project (Lie Detection)/Facemesh/karan codes/Audio files/WM009_1PT.mp3\n"
     ]
    },
    {
     "name": "stderr",
     "output_type": "stream",
     "text": [
      "                                                                   \r"
     ]
    },
    {
     "name": "stdout",
     "output_type": "stream",
     "text": [
      "MoviePy - Done.\n",
      "Converted WM009_1PT.wmv to WM009_1PT.mp3\n",
      "MoviePy - Writing audio in /home/mayur/Desktop/Machine Learning/ML Project (Lie Detection)/Facemesh/karan codes/Audio files/BM005_2NL.mp3\n"
     ]
    },
    {
     "name": "stderr",
     "output_type": "stream",
     "text": [
      "                                                                    \r"
     ]
    },
    {
     "name": "stdout",
     "output_type": "stream",
     "text": [
      "MoviePy - Done.\n",
      "Converted BM005_2NL.wmv to BM005_2NL.mp3\n",
      "MoviePy - Writing audio in /home/mayur/Desktop/Machine Learning/ML Project (Lie Detection)/Facemesh/karan codes/Audio files/WM016_1PT.mp3\n"
     ]
    },
    {
     "name": "stderr",
     "output_type": "stream",
     "text": [
      "                                                                    \r"
     ]
    },
    {
     "name": "stdout",
     "output_type": "stream",
     "text": [
      "MoviePy - Done.\n",
      "Converted WM016_1PT.wmv to WM016_1PT.mp3\n",
      "MoviePy - Writing audio in /home/mayur/Desktop/Machine Learning/ML Project (Lie Detection)/Facemesh/karan codes/Audio files/WM011_2NL.mp3\n"
     ]
    },
    {
     "name": "stderr",
     "output_type": "stream",
     "text": [
      "                                                                    \r"
     ]
    },
    {
     "name": "stdout",
     "output_type": "stream",
     "text": [
      "MoviePy - Done.\n",
      "Converted WM011_2NL.wmv to WM011_2NL.mp3\n",
      "MoviePy - Writing audio in /home/mayur/Desktop/Machine Learning/ML Project (Lie Detection)/Facemesh/karan codes/Audio files/BF003_2NL.mp3\n"
     ]
    },
    {
     "name": "stderr",
     "output_type": "stream",
     "text": [
      "                                                                    \r"
     ]
    },
    {
     "name": "stdout",
     "output_type": "stream",
     "text": [
      "MoviePy - Done.\n",
      "Converted BF003_2NL.wmv to BF003_2NL.mp3\n",
      "MoviePy - Writing audio in /home/mayur/Desktop/Machine Learning/ML Project (Lie Detection)/Facemesh/karan codes/Audio files/BF018_2NL.mp3\n"
     ]
    },
    {
     "name": "stderr",
     "output_type": "stream",
     "text": [
      "                                                                    \r"
     ]
    },
    {
     "name": "stdout",
     "output_type": "stream",
     "text": [
      "MoviePy - Done.\n",
      "Converted BF018_2NL.wmv to BF018_2NL.mp3\n",
      "MoviePy - Writing audio in /home/mayur/Desktop/Machine Learning/ML Project (Lie Detection)/Facemesh/karan codes/Audio files/BM008_2NL.mp3\n"
     ]
    },
    {
     "name": "stderr",
     "output_type": "stream",
     "text": [
      "                                                                    \r"
     ]
    },
    {
     "name": "stdout",
     "output_type": "stream",
     "text": [
      "MoviePy - Done.\n",
      "Converted BM008_2NL.wmv to BM008_2NL.mp3\n",
      "MoviePy - Writing audio in /home/mayur/Desktop/Machine Learning/ML Project (Lie Detection)/Facemesh/karan codes/Audio files/WM018_2NL.mp3\n"
     ]
    },
    {
     "name": "stderr",
     "output_type": "stream",
     "text": [
      "                                                                    \r"
     ]
    },
    {
     "name": "stdout",
     "output_type": "stream",
     "text": [
      "MoviePy - Done.\n",
      "Converted WM018_2NL.wmv to WM018_2NL.mp3\n",
      "MoviePy - Writing audio in /home/mayur/Desktop/Machine Learning/ML Project (Lie Detection)/Facemesh/karan codes/Audio files/WF025_4PL.mp3\n"
     ]
    },
    {
     "name": "stderr",
     "output_type": "stream",
     "text": [
      "                                                                    \r"
     ]
    },
    {
     "name": "stdout",
     "output_type": "stream",
     "text": [
      "MoviePy - Done.\n",
      "Converted WF025_4PL.wmv to WF025_4PL.mp3\n",
      "MoviePy - Writing audio in /home/mayur/Desktop/Machine Learning/ML Project (Lie Detection)/Facemesh/karan codes/Audio files/WF010_4PL.mp3\n"
     ]
    },
    {
     "name": "stderr",
     "output_type": "stream",
     "text": [
      "                                                                    \r"
     ]
    },
    {
     "name": "stdout",
     "output_type": "stream",
     "text": [
      "MoviePy - Done.\n",
      "Converted WF010_4PL.wmv to WF010_4PL.mp3\n",
      "MoviePy - Writing audio in /home/mayur/Desktop/Machine Learning/ML Project (Lie Detection)/Facemesh/karan codes/Audio files/BF018_3NT.mp3\n"
     ]
    },
    {
     "name": "stderr",
     "output_type": "stream",
     "text": [
      "                                                                    \r"
     ]
    },
    {
     "name": "stdout",
     "output_type": "stream",
     "text": [
      "MoviePy - Done.\n",
      "Converted BF018_3NT.wmv to BF018_3NT.mp3\n",
      "MoviePy - Writing audio in /home/mayur/Desktop/Machine Learning/ML Project (Lie Detection)/Facemesh/karan codes/Audio files/WM005_3NT.mp3\n"
     ]
    },
    {
     "name": "stderr",
     "output_type": "stream",
     "text": [
      "                                                                    \r"
     ]
    },
    {
     "name": "stdout",
     "output_type": "stream",
     "text": [
      "MoviePy - Done.\n",
      "Converted WM005_3NT.wmv to WM005_3NT.mp3\n",
      "MoviePy - Writing audio in /home/mayur/Desktop/Machine Learning/ML Project (Lie Detection)/Facemesh/karan codes/Audio files/BM013_4PL.mp3\n"
     ]
    },
    {
     "name": "stderr",
     "output_type": "stream",
     "text": [
      "                                                                    \r"
     ]
    },
    {
     "name": "stdout",
     "output_type": "stream",
     "text": [
      "MoviePy - Done.\n",
      "Converted BM013_4PL.wmv to BM013_4PL.mp3\n",
      "MoviePy - Writing audio in /home/mayur/Desktop/Machine Learning/ML Project (Lie Detection)/Facemesh/karan codes/Audio files/WF021_1PT.mp3\n"
     ]
    },
    {
     "name": "stderr",
     "output_type": "stream",
     "text": [
      "                                                                    \r"
     ]
    },
    {
     "name": "stdout",
     "output_type": "stream",
     "text": [
      "MoviePy - Done.\n",
      "Converted WF021_1PT.wmv to WF021_1PT.mp3\n",
      "MoviePy - Writing audio in /home/mayur/Desktop/Machine Learning/ML Project (Lie Detection)/Facemesh/karan codes/Audio files/BF002_1PT.mp3\n"
     ]
    },
    {
     "name": "stderr",
     "output_type": "stream",
     "text": [
      "                                                                    \r"
     ]
    },
    {
     "name": "stdout",
     "output_type": "stream",
     "text": [
      "MoviePy - Done.\n",
      "Converted BF002_1PT.wmv to BF002_1PT.mp3\n",
      "MoviePy - Writing audio in /home/mayur/Desktop/Machine Learning/ML Project (Lie Detection)/Facemesh/karan codes/Audio files/BF025_4PL.mp3\n"
     ]
    },
    {
     "name": "stderr",
     "output_type": "stream",
     "text": [
      "                                                                    \r"
     ]
    },
    {
     "name": "stdout",
     "output_type": "stream",
     "text": [
      "MoviePy - Done.\n",
      "Converted BF025_4PL.wmv to BF025_4PL.mp3\n",
      "MoviePy - Writing audio in /home/mayur/Desktop/Machine Learning/ML Project (Lie Detection)/Facemesh/karan codes/Audio files/WM014_3NT.mp3\n"
     ]
    },
    {
     "name": "stderr",
     "output_type": "stream",
     "text": [
      "                                                                    \r"
     ]
    },
    {
     "name": "stdout",
     "output_type": "stream",
     "text": [
      "MoviePy - Done.\n",
      "Converted WM014_3NT.wmv to WM014_3NT.mp3\n",
      "MoviePy - Writing audio in /home/mayur/Desktop/Machine Learning/ML Project (Lie Detection)/Facemesh/karan codes/Audio files/BM004_4PL.mp3\n"
     ]
    },
    {
     "name": "stderr",
     "output_type": "stream",
     "text": [
      "                                                                    \r"
     ]
    },
    {
     "name": "stdout",
     "output_type": "stream",
     "text": [
      "MoviePy - Done.\n",
      "Converted BM004_4PL.wmv to BM004_4PL.mp3\n",
      "MoviePy - Writing audio in /home/mayur/Desktop/Machine Learning/ML Project (Lie Detection)/Facemesh/karan codes/Audio files/WF009_1PT.mp3\n"
     ]
    },
    {
     "name": "stderr",
     "output_type": "stream",
     "text": [
      "                                                                    \r"
     ]
    },
    {
     "name": "stdout",
     "output_type": "stream",
     "text": [
      "MoviePy - Done.\n",
      "Converted WF009_1PT.wmv to WF009_1PT.mp3\n",
      "MoviePy - Writing audio in /home/mayur/Desktop/Machine Learning/ML Project (Lie Detection)/Facemesh/karan codes/Audio files/BF027_1PT.mp3\n"
     ]
    },
    {
     "name": "stderr",
     "output_type": "stream",
     "text": [
      "                                                                    \r"
     ]
    },
    {
     "name": "stdout",
     "output_type": "stream",
     "text": [
      "MoviePy - Done.\n",
      "Converted BF027_1PT.wmv to BF027_1PT.mp3\n",
      "MoviePy - Writing audio in /home/mayur/Desktop/Machine Learning/ML Project (Lie Detection)/Facemesh/karan codes/Audio files/BM003_4PL.mp3\n"
     ]
    },
    {
     "name": "stderr",
     "output_type": "stream",
     "text": [
      "                                                                   \r"
     ]
    },
    {
     "name": "stdout",
     "output_type": "stream",
     "text": [
      "MoviePy - Done.\n",
      "Converted BM003_4PL.wmv to BM003_4PL.mp3\n",
      "MoviePy - Writing audio in /home/mayur/Desktop/Machine Learning/ML Project (Lie Detection)/Facemesh/karan codes/Audio files/WM026_3NT.mp3\n"
     ]
    },
    {
     "name": "stderr",
     "output_type": "stream",
     "text": [
      "                                                                   \r"
     ]
    },
    {
     "name": "stdout",
     "output_type": "stream",
     "text": [
      "MoviePy - Done.\n",
      "Converted WM026_3NT.wmv to WM026_3NT.mp3\n",
      "MoviePy - Writing audio in /home/mayur/Desktop/Machine Learning/ML Project (Lie Detection)/Facemesh/karan codes/Audio files/BM026_4PL.mp3\n"
     ]
    },
    {
     "name": "stderr",
     "output_type": "stream",
     "text": [
      "                                                                   \r"
     ]
    },
    {
     "name": "stdout",
     "output_type": "stream",
     "text": [
      "MoviePy - Done.\n",
      "Converted BM026_4PL.wmv to BM026_4PL.mp3\n",
      "MoviePy - Writing audio in /home/mayur/Desktop/Machine Learning/ML Project (Lie Detection)/Facemesh/karan codes/Audio files/WM021_2NL.mp3\n"
     ]
    },
    {
     "name": "stderr",
     "output_type": "stream",
     "text": [
      "                                                                    \r"
     ]
    },
    {
     "name": "stdout",
     "output_type": "stream",
     "text": [
      "MoviePy - Done.\n",
      "Converted WM021_2NL.wmv to WM021_2NL.mp3\n",
      "MoviePy - Writing audio in /home/mayur/Desktop/Machine Learning/ML Project (Lie Detection)/Facemesh/karan codes/Audio files/BM012_3NT.mp3\n"
     ]
    },
    {
     "name": "stderr",
     "output_type": "stream",
     "text": [
      "                                                                    \r"
     ]
    },
    {
     "name": "stdout",
     "output_type": "stream",
     "text": [
      "MoviePy - Done.\n",
      "Converted BM012_3NT.wmv to BM012_3NT.mp3\n",
      "MoviePy - Writing audio in /home/mayur/Desktop/Machine Learning/ML Project (Lie Detection)/Facemesh/karan codes/Audio files/WF024_2NL.mp3\n"
     ]
    },
    {
     "name": "stderr",
     "output_type": "stream",
     "text": [
      "                                                                    \r"
     ]
    },
    {
     "name": "stdout",
     "output_type": "stream",
     "text": [
      "MoviePy - Done.\n",
      "Converted WF024_2NL.wmv to WF024_2NL.mp3\n",
      "MoviePy - Writing audio in /home/mayur/Desktop/Machine Learning/ML Project (Lie Detection)/Facemesh/karan codes/Audio files/WF007_4PL.mp3\n"
     ]
    },
    {
     "name": "stderr",
     "output_type": "stream",
     "text": [
      "                                                                    \r"
     ]
    },
    {
     "name": "stdout",
     "output_type": "stream",
     "text": [
      "MoviePy - Done.\n",
      "Converted WF007_4PL.wmv to WF007_4PL.mp3\n",
      "MoviePy - Writing audio in /home/mayur/Desktop/Machine Learning/ML Project (Lie Detection)/Facemesh/karan codes/Audio files/BF004_2NL.mp3\n"
     ]
    },
    {
     "name": "stderr",
     "output_type": "stream",
     "text": [
      "                                                                    \r"
     ]
    },
    {
     "name": "stdout",
     "output_type": "stream",
     "text": [
      "MoviePy - Done.\n",
      "Converted BF004_2NL.wmv to BF004_2NL.mp3\n",
      "MoviePy - Writing audio in /home/mayur/Desktop/Machine Learning/ML Project (Lie Detection)/Facemesh/karan codes/Audio files/BF033_3NT.mp3\n"
     ]
    },
    {
     "name": "stderr",
     "output_type": "stream",
     "text": [
      "                                                                    "
     ]
    },
    {
     "name": "stdout",
     "output_type": "stream",
     "text": [
      "MoviePy - Done.\n",
      "Converted BF033_3NT.wmv to BF033_3NT.mp3\n"
     ]
    },
    {
     "name": "stderr",
     "output_type": "stream",
     "text": [
      "\r"
     ]
    }
   ],
   "source": [
    "import os\n",
    "from moviepy.editor import VideoFileClip\n",
    "\n",
    "# Function to convert video to audio\n",
    "def convert_videos_to_audio(input_folder, output_folder):\n",
    "    # Ensure the output folder exists, create it if necessary\n",
    "    os.makedirs(output_folder, exist_ok=True)\n",
    "\n",
    "    # Get list of video files in the input folder\n",
    "    video_files = [file for file in os.listdir(input_folder) if file.endswith('.wmv')]\n",
    "\n",
    "    # Convert each video to audio\n",
    "    for video_file in video_files:\n",
    "        video_path = os.path.join(input_folder, video_file)\n",
    "        audio_output_path = os.path.join(output_folder, f\"{os.path.splitext(video_file)[0]}.mp3\")\n",
    "        video = VideoFileClip(video_path)\n",
    "        audio = video.audio\n",
    "        audio.write_audiofile(audio_output_path)\n",
    "        print(f\"Converted {video_file} to {os.path.basename(audio_output_path)}\")\n",
    "\n",
    "# Define input and output folders\n",
    "input_video_folder = r'/home/mayur/Desktop/Machine Learning/ML Project (Lie Detection)/Facemesh/Model Prediction/train_videos'  # Path to video folder\n",
    "output_audio_folder = r'/home/mayur/Desktop/Machine Learning/ML Project (Lie Detection)/Facemesh/karan codes/Audio files'  # Output audio folder\n",
    "\n",
    "# Convert videos to audio\n",
    "convert_videos_to_audio(input_video_folder, output_audio_folder)"
   ]
  }
 ],
 "metadata": {
  "kernelspec": {
   "display_name": "Python 3",
   "language": "python",
   "name": "python3"
  },
  "language_info": {
   "codemirror_mode": {
    "name": "ipython",
    "version": 3
   },
   "file_extension": ".py",
   "mimetype": "text/x-python",
   "name": "python",
   "nbconvert_exporter": "python",
   "pygments_lexer": "ipython3",
   "version": "3.11.8"
  }
 },
 "nbformat": 4,
 "nbformat_minor": 2
}
